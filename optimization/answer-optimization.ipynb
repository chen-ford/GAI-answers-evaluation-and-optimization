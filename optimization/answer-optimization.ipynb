{
 "cells": [
  {
   "cell_type": "code",
   "execution_count": 1,
   "id": "initial_id",
   "metadata": {
    "collapsed": true,
    "ExecuteTime": {
     "end_time": "2024-05-30T11:00:40.743375500Z",
     "start_time": "2024-05-30T11:00:40.735254900Z"
    }
   },
   "outputs": [],
   "source": [
    "import numpy as np\n",
    "import pandas as pd\n",
    "from Score import rouge_1,rouge_2,rouge_l,bleu_4,score\n",
    "from sklearn.metrics.pairwise import cosine_similarity\n",
    "import torch\n",
    "from transformers import BertTokenizer, BertModel, BertConfig"
   ]
  },
  {
   "cell_type": "code",
   "execution_count": 34,
   "outputs": [],
   "source": [
    "# 加载本地Bert模型\n",
    "# Load the BERT model and tokenizer\n",
    "config = BertConfig.from_json_file(\"../Bert_model/Bert/config.json\")\n",
    "tokenizer = BertTokenizer.from_pretrained('../Bert_model/Bert/')\n",
    "bert = BertModel.from_pretrained(\"../Bert_model/Bert/\", config=config)"
   ],
   "metadata": {
    "collapsed": false,
    "ExecuteTime": {
     "end_time": "2024-04-20T11:26:04.844481100Z",
     "start_time": "2024-04-20T11:25:57.029071700Z"
    }
   },
   "id": "c8681d9c01ae57d5"
  },
  {
   "cell_type": "code",
   "execution_count": 35,
   "outputs": [],
   "source": [
    "# 获取词向量\n",
    "def get_word_embeddings(text, model, token):\n",
    "    text = \"CLS\" + text + \"SEP\"\n",
    "    encoded_inputs = token(text, return_tensors='pt', padding=True, truncation=True, max_length=512)\n",
    "    # encoded_inputs = {k: v.to(device) for k, v in encoded_inputs.items()}\n",
    "\n",
    "    # Pretrain the text\n",
    "    with torch.no_grad():\n",
    "        outputs = model(**encoded_inputs)\n",
    "\n",
    "    # Get the CLS token embeddings\n",
    "    # 将cls标记的向量作为整个句子向量\n",
    "    word_embedding = outputs[0][:, 0, :]\n",
    "\n",
    "    return word_embedding"
   ],
   "metadata": {
    "collapsed": false,
    "ExecuteTime": {
     "end_time": "2024-04-20T11:26:04.973152600Z",
     "start_time": "2024-04-20T11:26:04.937016100Z"
    }
   },
   "id": "c9f1e2cd852b10b0"
  },
  {
   "cell_type": "code",
   "execution_count": 36,
   "outputs": [],
   "source": [
    "def semantic_similarity(answer_1, answer_2, model=bert, token=tokenizer):\n",
    "    a = 0\n",
    "    try:\n",
    "        s1 = get_word_embeddings(answer_1, model, token)\n",
    "        s2 = get_word_embeddings(answer_2, model, token)\n",
    "        # 计算余弦相似度\n",
    "        similarity = cosine_similarity(s1.cpu(), s2.cpu())\n",
    "        a = round(np.mean(np.mean(similarity, axis=1)), 4)\n",
    "        # print(f\"第{i+1}段文本的语义相似度为: {a:.4f}\")\n",
    "    except Exception as e3:\n",
    "        print(f\"相似度计算的错误为{e3}\")\n",
    "\n",
    "    return a"
   ],
   "metadata": {
    "collapsed": false,
    "ExecuteTime": {
     "end_time": "2024-04-20T11:26:05.028449500Z",
     "start_time": "2024-04-20T11:26:04.988260500Z"
    }
   },
   "id": "562c38227a1591d"
  },
  {
   "cell_type": "markdown",
   "source": [
    "读取数据"
   ],
   "metadata": {
    "collapsed": false
   },
   "id": "e0ef5bc861cefefe"
  },
  {
   "cell_type": "code",
   "execution_count": 81,
   "outputs": [],
   "source": [
    "data = pd.read_csv('data_1000.csv').iloc[:,:4]"
   ],
   "metadata": {
    "collapsed": false,
    "ExecuteTime": {
     "end_time": "2024-04-18T23:58:24.961949Z",
     "start_time": "2024-04-18T23:58:24.472132Z"
    }
   },
   "id": "12dfc3972e47128"
  },
  {
   "cell_type": "markdown",
   "source": [
    "获取ChatGPT回答"
   ],
   "metadata": {
    "collapsed": false
   },
   "id": "5350d9e6c4451ae6"
  },
  {
   "cell_type": "code",
   "execution_count": 69,
   "outputs": [],
   "source": [
    "from openai import OpenAI\n",
    "# from time import sleep\n",
    "client = OpenAI(\n",
    "    base_url=\"XXXXXX\",\n",
    "    api_key='XXXXXX',\n",
    ")"
   ],
   "metadata": {
    "collapsed": false,
    "ExecuteTime": {
     "end_time": "2024-04-18T16:59:12.556698900Z",
     "start_time": "2024-04-18T16:59:11.666287400Z"
    }
   },
   "id": "dc2e6a306d8262ca"
  },
  {
   "cell_type": "code",
   "execution_count": 71,
   "outputs": [],
   "source": [
    "def generate_response(user_input):\n",
    "    chat_completion = client.chat.completions.create(\n",
    "        messages=[\n",
    "            {\"role\": \"system\", \"content\": \"You are a helpful assistant.\"},\n",
    "            {\"role\": \"user\",\"content\": user_input,}\n",
    "        ],\n",
    "        model=\"gpt-3.5-turbo\",\n",
    "        max_tokens=512,\n",
    "        )\n",
    "    message=chat_completion.choices[0].message.content\n",
    "    \n",
    "    # message=chat_completion.choices[0]\n",
    "    return message.strip().replace(\"\\n\", \"\")"
   ],
   "metadata": {
    "collapsed": false,
    "ExecuteTime": {
     "end_time": "2024-04-18T16:59:29.706904900Z",
     "start_time": "2024-04-18T16:59:29.687604400Z"
    }
   },
   "id": "27ce0a40eb2bc94e"
  },
  {
   "cell_type": "code",
   "execution_count": 78,
   "outputs": [],
   "source": [
    "#创建新数据集存储生成的多个答案\n",
    "data_GPT=pd.DataFrame(columns=['问题','医生回答','GPTanswer_1','c1','GPTanswer_2','c2','GPTanswer_3','c3','GPTanswer_4','c4','GPTanswer_5','c5'])"
   ],
   "metadata": {
    "collapsed": false,
    "ExecuteTime": {
     "end_time": "2024-04-18T17:28:20.572093Z",
     "start_time": "2024-04-18T17:28:20.558704700Z"
    }
   },
   "id": "a2e75cda395e9119"
  },
  {
   "cell_type": "code",
   "execution_count": 79,
   "outputs": [],
   "source": [
    "answer_name=['GPTanswer_1','GPTanswer_2','GPTanswer_3','GPTanswer_4','GPTanswer_5']\n",
    "c_name=['c1','c2','c3','c4','c5']"
   ],
   "metadata": {
    "collapsed": false,
    "ExecuteTime": {
     "end_time": "2024-04-18T17:28:21.062193900Z",
     "start_time": "2024-04-18T17:28:21.058675500Z"
    }
   },
   "id": "f883a418ca89f142"
  },
  {
   "cell_type": "code",
   "execution_count": 2,
   "outputs": [],
   "source": [
    "# for index in range(961,len(data)):\n",
    "# #保存回答和问题在新的数据集\n",
    "#     data_GPT.at[index,'问题']=data['问题'][index]\n",
    "#     data_GPT.at[index,'医生回答']=data['医生回答'][index]\n",
    "#     \n",
    "#     question= data[\"问题\"][index]\n",
    "#     # instruction=\"针对给出的问题，给出更可靠的答案\"\n",
    "#     \n",
    "#     answer1=generate_response(question)\n",
    "#     # c1=round(score([question],[answer1]).iloc[0,0],4)\n",
    "#     \n",
    "#     data_GPT.at[index,answer_name[0]]=answer1\n",
    "#     # data_GPT.at[index,c_name[0]]=c1\n",
    "#     \n",
    "#     # in_put=f\"问题：{question}\\n回答1：{answer1}\\n得分：{c1}\\n\"\n",
    "#     \n",
    "#     for i in range(1,5):\n",
    "#         try:\n",
    "#             answer=generate_response(question)\n",
    "#             # c=round(score([question],[answer]).iloc[0,0],4)\n",
    "#             \n",
    "#             data_GPT.at[index,answer_name[i]]=answer\n",
    "#             # data_GPT.at[index,c_name[i]]=c\n",
    "#             # in_put=in_put+f\"回答{i+1}:{answer}\\n得分：{c}\\n\"\n",
    "#                 \n",
    "#             print(f\"第{index}次问答\")\n",
    "#         except Exception as e:\n",
    "#             print(f\"Error occurred for question at index {index}: {e}\")\n",
    "#             answer = None\n",
    "#             # c=None\n",
    "# data_GPT.to_csv('chatgpt问答_5_answer_2.csv')"
   ],
   "metadata": {
    "collapsed": false,
    "ExecuteTime": {
     "end_time": "2024-05-30T11:02:42.434856600Z",
     "start_time": "2024-05-30T11:02:42.200474200Z"
    }
   },
   "id": "ddf5fea95f85b2db"
  },
  {
   "cell_type": "code",
   "execution_count": 2,
   "outputs": [],
   "source": [
    "# best_answers = pd.read_csv('best_answers.csv')"
   ],
   "metadata": {
    "collapsed": false,
    "ExecuteTime": {
     "end_time": "2024-04-20T09:29:51.561547500Z",
     "start_time": "2024-04-20T09:29:51.425096Z"
    }
   },
   "id": "16c34c44eab4aadf"
  },
  {
   "cell_type": "code",
   "execution_count": 3,
   "outputs": [],
   "source": [
    "# rouge_1_score=rouge_1(best_answers['L5'],data_GPT['医生回答'])\n",
    "# rouge_2_score=rouge_2(best_answers['L5'],data_GPT['医生回答'])\n",
    "# rouge_l_score=rouge_l(best_answers['L5'],data_GPT['医生回答'])\n",
    "# bleu_4_score=bleu_4(best_answers['L5'],data_GPT['医生回答'])\n",
    "# \n",
    "# print('rouge-1:',rouge_1_score)\n",
    "# print('rouge-2:',rouge_2_score)\n",
    "# print('rouge-l:',rouge_l_score)\n",
    "# print('bleu-4:',bleu_4_score)"
   ],
   "metadata": {
    "collapsed": false,
    "ExecuteTime": {
     "end_time": "2024-05-30T11:04:54.915379100Z",
     "start_time": "2024-05-30T11:04:54.871504100Z"
    }
   },
   "id": "3165ae9e9da15637"
  },
  {
   "cell_type": "code",
   "execution_count": null,
   "outputs": [],
   "source": [],
   "metadata": {
    "collapsed": false
   },
   "id": "d9d6367afc3f04dd"
  }
 ],
 "metadata": {
  "kernelspec": {
   "display_name": "Python 3",
   "language": "python",
   "name": "python3"
  },
  "language_info": {
   "codemirror_mode": {
    "name": "ipython",
    "version": 2
   },
   "file_extension": ".py",
   "mimetype": "text/x-python",
   "name": "python",
   "nbconvert_exporter": "python",
   "pygments_lexer": "ipython2",
   "version": "2.7.6"
  }
 },
 "nbformat": 4,
 "nbformat_minor": 5
}
