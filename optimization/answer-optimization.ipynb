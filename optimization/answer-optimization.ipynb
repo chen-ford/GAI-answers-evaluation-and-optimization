{
 "cells": [
  {
   "cell_type": "code",
   "execution_count": 1,
   "id": "initial_id",
   "metadata": {
    "collapsed": true,
    "ExecuteTime": {
     "end_time": "2024-04-20T09:27:56.298007800Z",
     "start_time": "2024-04-20T09:26:41.850862500Z"
    }
   },
   "outputs": [
    {
     "name": "stdout",
     "output_type": "stream",
     "text": [
      "WARNING:tensorflow:From C:\\Users\\mi\\anaconda3\\Lib\\site-packages\\keras\\src\\losses.py:2976: The name tf.losses.sparse_softmax_cross_entropy is deprecated. Please use tf.compat.v1.losses.sparse_softmax_cross_entropy instead.\n",
      "WARNING:tensorflow:From C:\\Users\\mi\\anaconda3\\Lib\\site-packages\\keras\\src\\backend.py:1398: The name tf.executing_eagerly_outside_functions is deprecated. Please use tf.compat.v1.executing_eagerly_outside_functions instead.\n",
      "WARNING:tensorflow:From C:\\Users\\mi\\anaconda3\\Lib\\site-packages\\keras\\src\\optimizers\\__init__.py:309: The name tf.train.Optimizer is deprecated. Please use tf.compat.v1.train.Optimizer instead.\n"
     ]
    }
   ],
   "source": [
    "import numpy as np\n",
    "import pandas as pd\n",
    "from Score import rouge_1,rouge_2,rouge_l,bleu_4,score\n",
    "\n",
    "from sklearn.metrics.pairwise import cosine_similarity\n",
    "import torch\n",
    "from transformers import BertTokenizer, BertModel, BertConfig"
   ]
  },
  {
   "cell_type": "code",
   "execution_count": 34,
   "outputs": [],
   "source": [
    "# 加载本地Bert模型\n",
    "# Load the BERT model and tokenizer\n",
    "config = BertConfig.from_json_file(\"../Bert_model/Bert/config.json\")\n",
    "tokenizer = BertTokenizer.from_pretrained('../Bert_model/Bert/')\n",
    "bert = BertModel.from_pretrained(\"../Bert_model/Bert/\", config=config)"
   ],
   "metadata": {
    "collapsed": false,
    "ExecuteTime": {
     "end_time": "2024-04-20T11:26:04.844481100Z",
     "start_time": "2024-04-20T11:25:57.029071700Z"
    }
   },
   "id": "c8681d9c01ae57d5"
  },
  {
   "cell_type": "code",
   "execution_count": 35,
   "outputs": [],
   "source": [
    "# 获取词向量\n",
    "def get_word_embeddings(text, model, token):\n",
    "    text = \"CLS\" + text + \"SEP\"\n",
    "    encoded_inputs = token(text, return_tensors='pt', padding=True, truncation=True, max_length=512)\n",
    "    # encoded_inputs = {k: v.to(device) for k, v in encoded_inputs.items()}\n",
    "\n",
    "    # Pretrain the text\n",
    "    with torch.no_grad():\n",
    "        outputs = model(**encoded_inputs)\n",
    "\n",
    "    # Get the CLS token embeddings\n",
    "    # 将cls标记的向量作为整个句子向量\n",
    "    word_embedding = outputs[0][:, 0, :]\n",
    "\n",
    "    return word_embedding"
   ],
   "metadata": {
    "collapsed": false,
    "ExecuteTime": {
     "end_time": "2024-04-20T11:26:04.973152600Z",
     "start_time": "2024-04-20T11:26:04.937016100Z"
    }
   },
   "id": "c9f1e2cd852b10b0"
  },
  {
   "cell_type": "code",
   "execution_count": 36,
   "outputs": [],
   "source": [
    "def semantic_similarity(answer_1, answer_2, model=bert, token=tokenizer):\n",
    "    a = 0\n",
    "    try:\n",
    "        s1 = get_word_embeddings(answer_1, model, token)\n",
    "        s2 = get_word_embeddings(answer_2, model, token)\n",
    "        # 计算余弦相似度\n",
    "        similarity = cosine_similarity(s1.cpu(), s2.cpu())\n",
    "        a = round(np.mean(np.mean(similarity, axis=1)), 4)\n",
    "        # print(f\"第{i+1}段文本的语义相似度为: {a:.4f}\")\n",
    "    except Exception as e3:\n",
    "        print(f\"相似度计算的错误为{e3}\")\n",
    "\n",
    "    return a"
   ],
   "metadata": {
    "collapsed": false,
    "ExecuteTime": {
     "end_time": "2024-04-20T11:26:05.028449500Z",
     "start_time": "2024-04-20T11:26:04.988260500Z"
    }
   },
   "id": "562c38227a1591d"
  },
  {
   "cell_type": "markdown",
   "source": [
    "读取数据"
   ],
   "metadata": {
    "collapsed": false
   },
   "id": "e0ef5bc861cefefe"
  },
  {
   "cell_type": "code",
   "execution_count": 81,
   "outputs": [],
   "source": [
    "data = pd.read_csv('data_1000.csv').iloc[:,:4]"
   ],
   "metadata": {
    "collapsed": false,
    "ExecuteTime": {
     "end_time": "2024-04-18T23:58:24.961949Z",
     "start_time": "2024-04-18T23:58:24.472132Z"
    }
   },
   "id": "12dfc3972e47128"
  },
  {
   "cell_type": "code",
   "execution_count": 77,
   "outputs": [
    {
     "data": {
      "text/plain": "['问题', '医生回答', 'ChatGPT回答', '医生']"
     },
     "execution_count": 77,
     "metadata": {},
     "output_type": "execute_result"
    }
   ],
   "source": [
    "#所有列名\n",
    "data.columns.tolist()"
   ],
   "metadata": {
    "collapsed": false,
    "ExecuteTime": {
     "end_time": "2024-04-18T17:28:14.204002300Z",
     "start_time": "2024-04-18T17:28:14.186354500Z"
    }
   },
   "id": "5e80506f557a196e"
  },
  {
   "cell_type": "markdown",
   "source": [
    "获取ChatGPT回答"
   ],
   "metadata": {
    "collapsed": false
   },
   "id": "5350d9e6c4451ae6"
  },
  {
   "cell_type": "code",
   "execution_count": 69,
   "outputs": [],
   "source": [
    "from openai import OpenAI\n",
    "# from time import sleep\n",
    "client = OpenAI(\n",
    "    # base_url=\"https://api.xiaoai.plus/v1\",\n",
    "    base_url=\"https://api.xty.app/v1\",\n",
    "    # api_key='sk-xPbZWfdDebqGfo8q2aDbF8D0Dc0a4b5fA0A797Ec626c2c50',\n",
    "    api_key='sk-nAjP7DTOL82aDNKe9a35AfB0F21e4c0887F00b96E9B4A043',\n",
    ")"
   ],
   "metadata": {
    "collapsed": false,
    "ExecuteTime": {
     "end_time": "2024-04-18T16:59:12.556698900Z",
     "start_time": "2024-04-18T16:59:11.666287400Z"
    }
   },
   "id": "dc2e6a306d8262ca"
  },
  {
   "cell_type": "code",
   "execution_count": 71,
   "outputs": [],
   "source": [
    "def generate_response(user_input):\n",
    "    chat_completion = client.chat.completions.create(\n",
    "        messages=[\n",
    "            {\"role\": \"system\", \"content\": \"You are a helpful assistant.\"},\n",
    "            {\"role\": \"user\",\"content\": user_input,}\n",
    "        ],\n",
    "        model=\"gpt-3.5-turbo\",\n",
    "        max_tokens=512,\n",
    "        temperature=0.7,\n",
    "        # n=2,\n",
    "        top_p=0.5\n",
    "        )\n",
    "    message=chat_completion.choices[0].message.content\n",
    "    \n",
    "    # message=chat_completion.choices[0]\n",
    "    return message.strip().replace(\"\\n\", \"\")"
   ],
   "metadata": {
    "collapsed": false,
    "ExecuteTime": {
     "end_time": "2024-04-18T16:59:29.706904900Z",
     "start_time": "2024-04-18T16:59:29.687604400Z"
    }
   },
   "id": "27ce0a40eb2bc94e"
  },
  {
   "cell_type": "code",
   "execution_count": 78,
   "outputs": [],
   "source": [
    "#创建新数据集存储生成的多个答案\n",
    "data_GPT=pd.DataFrame(columns=['问题','医生回答','GPTanswer_1','c1','GPTanswer_2','c2','GPTanswer_3','c3','GPTanswer_4','c4','GPTanswer_5','c5'])"
   ],
   "metadata": {
    "collapsed": false,
    "ExecuteTime": {
     "end_time": "2024-04-18T17:28:20.572093Z",
     "start_time": "2024-04-18T17:28:20.558704700Z"
    }
   },
   "id": "a2e75cda395e9119"
  },
  {
   "cell_type": "code",
   "execution_count": 79,
   "outputs": [],
   "source": [
    "# GPTresults=[]\n",
    "# c=[]\n",
    "answer_name=['GPTanswer_1','GPTanswer_2','GPTanswer_3','GPTanswer_4','GPTanswer_5']\n",
    "c_name=['c1','c2','c3','c4','c5']"
   ],
   "metadata": {
    "collapsed": false,
    "ExecuteTime": {
     "end_time": "2024-04-18T17:28:21.062193900Z",
     "start_time": "2024-04-18T17:28:21.058675500Z"
    }
   },
   "id": "f883a418ca89f142"
  },
  {
   "cell_type": "code",
   "execution_count": 87,
   "outputs": [
    {
     "name": "stdout",
     "output_type": "stream",
     "text": [
      "第961次问答\n",
      "第961次问答\n",
      "第961次问答\n",
      "第961次问答\n",
      "第962次问答\n",
      "第962次问答\n",
      "第962次问答\n",
      "第962次问答\n",
      "第963次问答\n",
      "第963次问答\n",
      "第963次问答\n",
      "第963次问答\n",
      "第964次问答\n",
      "第964次问答\n",
      "第964次问答\n",
      "第964次问答\n",
      "第965次问答\n",
      "第965次问答\n",
      "第965次问答\n",
      "第965次问答\n",
      "第966次问答\n",
      "第966次问答\n",
      "第966次问答\n",
      "第966次问答\n",
      "第967次问答\n",
      "第967次问答\n",
      "第967次问答\n",
      "第967次问答\n",
      "第968次问答\n",
      "第968次问答\n",
      "第968次问答\n",
      "第968次问答\n",
      "第969次问答\n",
      "第969次问答\n",
      "第969次问答\n",
      "第969次问答\n",
      "第970次问答\n",
      "第970次问答\n",
      "第970次问答\n",
      "第970次问答\n",
      "第971次问答\n",
      "第971次问答\n",
      "第971次问答\n",
      "第971次问答\n",
      "第972次问答\n",
      "第972次问答\n",
      "第972次问答\n",
      "第972次问答\n",
      "第973次问答\n",
      "第973次问答\n",
      "第973次问答\n",
      "第973次问答\n",
      "第974次问答\n",
      "第974次问答\n",
      "第974次问答\n",
      "第974次问答\n",
      "第975次问答\n",
      "第975次问答\n",
      "第975次问答\n",
      "第975次问答\n",
      "第976次问答\n",
      "第976次问答\n",
      "第976次问答\n",
      "第976次问答\n",
      "第977次问答\n",
      "第977次问答\n",
      "第977次问答\n",
      "第977次问答\n",
      "第978次问答\n",
      "第978次问答\n",
      "第978次问答\n",
      "第978次问答\n",
      "第979次问答\n",
      "第979次问答\n",
      "第979次问答\n",
      "第979次问答\n",
      "第980次问答\n",
      "第980次问答\n",
      "第980次问答\n",
      "第980次问答\n",
      "第981次问答\n",
      "第981次问答\n",
      "第981次问答\n",
      "第981次问答\n",
      "第982次问答\n",
      "第982次问答\n",
      "第982次问答\n",
      "第982次问答\n",
      "第983次问答\n",
      "第983次问答\n",
      "第983次问答\n",
      "第983次问答\n",
      "第984次问答\n",
      "第984次问答\n",
      "第984次问答\n",
      "第984次问答\n",
      "第985次问答\n",
      "第985次问答\n",
      "第985次问答\n",
      "第985次问答\n",
      "第986次问答\n",
      "第986次问答\n",
      "第986次问答\n",
      "第986次问答\n",
      "第987次问答\n",
      "第987次问答\n",
      "第987次问答\n",
      "第987次问答\n",
      "第988次问答\n",
      "第988次问答\n",
      "第988次问答\n",
      "第988次问答\n",
      "第989次问答\n",
      "第989次问答\n",
      "第989次问答\n",
      "第989次问答\n",
      "第990次问答\n",
      "第990次问答\n",
      "第990次问答\n",
      "第990次问答\n",
      "第991次问答\n",
      "第991次问答\n",
      "第991次问答\n",
      "第991次问答\n",
      "第992次问答\n",
      "第992次问答\n",
      "第992次问答\n",
      "第992次问答\n",
      "第993次问答\n",
      "第993次问答\n",
      "第993次问答\n",
      "第993次问答\n",
      "第994次问答\n",
      "第994次问答\n",
      "第994次问答\n",
      "第994次问答\n",
      "第995次问答\n",
      "第995次问答\n",
      "第995次问答\n",
      "第995次问答\n",
      "第996次问答\n",
      "第996次问答\n",
      "第996次问答\n",
      "第996次问答\n",
      "第997次问答\n",
      "第997次问答\n",
      "第997次问答\n",
      "第997次问答\n",
      "第998次问答\n",
      "第998次问答\n",
      "第998次问答\n",
      "第998次问答\n",
      "第999次问答\n",
      "第999次问答\n",
      "第999次问答\n",
      "第999次问答\n"
     ]
    }
   ],
   "source": [
    "for index in range(961,len(data)):\n",
    "#保存回答和问题在新的数据集\n",
    "    data_GPT.at[index,'问题']=data['问题'][index]\n",
    "    data_GPT.at[index,'医生回答']=data['医生回答'][index]\n",
    "    \n",
    "    question= data[\"问题\"][index]\n",
    "    # instruction=\"针对给出的问题，给出更可靠的答案\"\n",
    "    \n",
    "    answer1=generate_response(question)\n",
    "    # c1=round(score([question],[answer1]).iloc[0,0],4)\n",
    "    \n",
    "    data_GPT.at[index,answer_name[0]]=answer1\n",
    "    # data_GPT.at[index,c_name[0]]=c1\n",
    "    \n",
    "    # in_put=f\"问题：{question}\\n回答1：{answer1}\\n得分：{c1}\\n\"\n",
    "    \n",
    "    for i in range(1,5):\n",
    "        try:\n",
    "            answer=generate_response(question)\n",
    "            # c=round(score([question],[answer]).iloc[0,0],4)\n",
    "            \n",
    "            data_GPT.at[index,answer_name[i]]=answer\n",
    "            # data_GPT.at[index,c_name[i]]=c\n",
    "            \n",
    "            \n",
    "            # in_put=in_put+f\"回答{i+1}:{answer}\\n得分：{c}\\n\"\n",
    "                \n",
    "            print(f\"第{index}次问答\")\n",
    "        except Exception as e:\n",
    "            print(f\"Error occurred for question at index {index}: {e}\")\n",
    "            answer = None\n",
    "            # c=None\n",
    "data_GPT.to_csv('chatgpt问答_5_answer_2.csv')"
   ],
   "metadata": {
    "collapsed": false,
    "ExecuteTime": {
     "end_time": "2024-04-19T09:56:40.871503600Z",
     "start_time": "2024-04-19T09:11:53.650201100Z"
    }
   },
   "id": "ddf5fea95f85b2db"
  },
  {
   "cell_type": "code",
   "execution_count": 89,
   "outputs": [
    {
     "data": {
      "text/plain": "                  问题                                               医生回答  \\\n0          被动抬腿试验的意义  直腿抬高试验是脊柱检查时特殊的试验，主要用于诊断腰椎间盘突出症，也可以诊断坐骨神经痛。而一般...   \n1      哺乳期阴道炎用什么药好得快  哺乳期是特殊的时期，因为涉及到母乳喂养，所以说用药方面一定是要谨慎的。哺乳期得了阴道炎的建议...   \n2    打完水光针后几天可以敷医用面膜  从原则上来说，打完水光针后十天左右就可以敷医用面膜了，不过不同患者情况不同。正常情况下，患者...   \n3        月子里腿受风了怎么补救  月子里腿受风的补救方法可以参考以下几种：1.如果有腿部疼痛、恶风怕冷、或有腰酸软冷痛等症状，...   \n4    盆腔炎是什么病菌造成的症状表现  盆腔炎是指女性内生殖器及其周围的炎症性疾病，常常由细菌、病毒、真菌等病原体引起。常见的病菌包...   \n..               ...                                                ...   \n995        激光脱毛可以干净吗  激光脱毛一般可以干净，可能需要多次激光脱毛操作。激光脱毛可以破坏毛发根部的毛囊，使其失去活性...   \n996       哺乳期怀孕几天有反应  在哺乳期间，如果怀孕了，有很多人因为这段时间太大意，以为没有来月经就不会发生卵泡排出引起怀孕...   \n997         小孩眼球有红血丝  小孩眼球有红血丝可能是结膜炎、过敏、咳嗽等因素导致的。1、结膜炎：当小孩的结膜感染时，可能会...   \n998       老人心脏早搏该怎么办  老人心脏早搏的治疗，要看早搏的严重程度，是偶发还是频发早搏。心脏早搏主要包括房性早搏和室性早...   \n999     哺乳期牙龈发炎肿痛怎么办  哺乳期牙龈发炎肿痛首先要前往医院就诊，明确引起牙龈发炎肿痛的原因。根据病情选用合适的抗菌药物...   \n\n                                           GPTanswer_1   c1  \\\n0    被动抬腿试验是一种常见的神经系统检查方法，用于评估腰椎神经根的功能和可能的神经根受压情况。这...  NaN   \n1    如果你正在哺乳期并怀疑患有阴道炎，最好的做法是先咨询医生。哺乳期间使用药物需要特别小心，因为...  NaN   \n2    打完水光针后一般建议等待至少24小时再进行其他面部护理，包括敷面膜。这是因为水光针治疗后，皮...  NaN   \n3    月子期间腿受风了确实需要特别小心和谨慎。首先，要确保保持温暖，可以穿着长裤和袜子，并避免让受...  NaN   \n4    盆腔炎是由细菌感染引起的盆腔内器官炎症性疾病。常见的症状包括下腹部疼痛、盆腔不适、发热、异常...  NaN   \n..                                                 ...  ...   \n995  激光脱毛是一种有效的方法，可以帮助去除多余的毛发。激光脱毛可以在较长的时间内减少毛发的生长，...  NaN   \n996  哺乳期怀孕后，一般来说，身体可能会出现一些早期怀孕的征兆，但这些征兆在不同的人身上表现可能会...  NaN   \n997  小孩眼睛出现红血丝可能有多种原因。这可能是由于过度疲劳、缺乏睡眠、过敏、眼睛受伤、干燥的环境...  NaN   \n998  老人心脏早搏是一种心律失常，如果老人出现心脏早搏，应该及时就医。以下是一些建议：1. 就医：...  NaN   \n999  哺乳期的牙龈发炎肿痛可能会给您带来不适，但有一些方法可以缓解症状：1. 保持口腔卫生：继续刷...  NaN   \n\n                                           GPTanswer_2   c2  \\\n0    被动抬腿试验是一种常见的神经系统检查方法，用于评估下肢神经和脊髓的功能。这项测试的主要目的是...  NaN   \n1    哺乳期阴道炎需要谨慎治疗，因为一些药物可能会对宝宝产生影响。建议你立即咨询医生，他们可以根据...  NaN   \n2    打完水光针后，通常建议在接下来的两到三天内避免使用任何可能会刺激皮肤的产品，包括面膜。这是因...  NaN   \n3    月子期间要特别小心保暖，因为身体虚弱，容易受风。如果腿受风了，以下是一些建议来帮助缓解不适：...  NaN   \n4    盆腔炎是由细菌感染引起的盆腔内器官炎症性疾病。常见的症状包括下腹部疼痛、盆腔不适、发热、异常...  NaN   \n..                                                 ...  ...   \n995  是的，激光脱毛通常可以达到很干净的效果。激光脱毛利用激光能量破坏毛囊，阻止毛发再生，因此可以...  NaN   \n996  一般来说，怀孕后大约6到8周左右，哺乳期妈妈可能会开始出现怀孕的一些早期症状，比如乳房胀痛、...  NaN   \n997  小孩眼球出现红血丝可能有几种原因。常见的包括：1. **眼睛受到刺激**：例如长时间盯着屏幕...  NaN   \n998  老人心脏早搏可能是心脏节律异常的一种表现，但不必过于担心，因为这种情况在老年人中相对常见。然...  NaN   \n999  哺乳期间出现牙龈发炎肿痛可能是由于口腔卫生问题或身体激素变化引起的。以下是一些建议来缓解症状...  NaN   \n\n                                           GPTanswer_3   c3  \\\n0    被动抬腿试验是一种常见的神经学检查方法，用于评估下肢神经系统的功能。这项测试可以帮助医生诊断...  NaN   \n1    哺乳期阴道炎需要及时就医，最好遵医嘱使用药物治疗。通常医生会根据病情的严重程度和病因来选择合...  NaN   \n2    打完水光针后，通常建议等待至少24小时后再进行面部护理，以避免刺激皮肤。一般来说，可以在水光...  NaN   \n3    月子期间特别需要注意保暖，尤其是腿部。如果腿部受了风，可以考虑以下方法来缓解：1. **保持...  NaN   \n4    盆腔炎通常是由细菌感染引起的，最常见的是性传播疾病（如淋病和非淋菌性尿道炎）引起的细菌感染。...  NaN   \n..                                                 ...  ...   \n995  激光脱毛通常可以达到相当干净的效果。激光脱毛利用激光能量破坏毛囊，从而减少甚至永久性地减少毛...  NaN   \n996  一般来说，怀孕后大约6到8周左右，哺乳期妈妈可能会开始出现怀孕的一些早期症状，比如乳房胀痛、...  NaN   \n997  小孩眼球有红血丝可能有多种原因，包括但不限于：1. **眼睛疲劳**：过度用眼、长时间盯着屏...  NaN   \n998  老人心脏早搏是一种心律失常，如果老人出现心脏早搏，应该及时就医。以下是一些建议：1. 就医：...  NaN   \n999  哺乳期牙龈发炎肿痛可能会给您带来不适，以下是一些缓解症状和处理方法：1. **保持口腔卫生*...  NaN   \n\n                                           GPTanswer_4   c4  \\\n0    被动抬腿试验是一种常见的神经系统检查方法，通常用于评估神经系统的功能和异常。这项测试主要用于...  NaN   \n1    哺乳期阴道炎需要咨询医生以获取正确的诊断和治疗建议。一般情况下，医生可能会建议使用抗真菌药物...  NaN   \n2    通常情况下，接受水光针治疗后，皮肤可能会出现轻微的红肿或刺痛感，因此需要给皮肤一些时间来恢复...  NaN   \n3    月子里腿受风了可能会引起不适，但具体的补救方法可能会因个人情况而异。这里有几种可能的方法：1...  NaN   \n4    盆腔炎是一种感染性疾病，通常由细菌引起，最常见的细菌包括阴道中的常见细菌以及性传播疾病（ST...  NaN   \n..                                                 ...  ...   \n995  激光脱毛是一种有效的方法，可以帮助去除多余的毛发。激光脱毛可以在较长的时间内减少毛发的生长，...  NaN   \n996  一般来说，怀孕后大约6到8周左右，哺乳期妈妈可能会开始出现怀孕的一些早期症状，比如乳房胀痛、...  NaN   \n997  小孩眼球有红血丝可能有多种原因，其中一些可能是正常的，而另一些可能需要医生的关注。红血丝可能...  NaN   \n998  老人心脏早搏是一种心律失常，如果老人出现心脏早搏，应该及时就医。以下是一些建议：1. 就医：...  NaN   \n999  哺乳期牙龈发炎肿痛可能会给您带来不适，以下是一些建议：1. 保持口腔卫生：定期刷牙，使用软毛...  NaN   \n\n                                           GPTanswer_5   c5  \n0    被动抬腿试验是一种常见的神经系统检查方法，用于评估患者下肢神经系统的功能和可能存在的问题。这...  NaN  \n1    哺乳期阴道炎需要及时就医，最好遵医嘱使用药物治疗。通常医生会根据病情的严重程度和病因来选择合...  NaN  \n2    打完水光针后，通常建议等待至少24小时后再进行面部护理，以避免刺激皮肤。一般来说，可以在水光...  NaN  \n3    月子期间腿受风了可能会导致身体不适，建议您采取以下措施来补救：1. 保持腿部温暖：穿上保暖的...  NaN  \n4    盆腔炎是一种由细菌感染引起的炎症性疾病，通常涉及子宫、输卵管和附件等盆腔器官。常见的症状包括...  NaN  \n..                                                 ...  ...  \n995  激光脱毛通常可以提供相当干净的结果。激光脱毛使用激光光束瞄准毛囊，将光能转化为热能，从而摧毁...  NaN  \n996  一般来说，怀孕后的早期反应在怀孕后两周到一个月之间开始出现，这通常是因为怀孕后体内激素水平的...  NaN  \n997  小孩眼球有红血丝可能是由于多种原因引起的，包括但不限于：1. **眼睛疲劳：** 长时间盯着...  NaN  \n998  老年人的心脏早搏可能是由多种因素引起的，包括心血管疾病、电解质失衡、药物副作用等。如果老年人...  NaN  \n999  哺乳期的牙龈发炎肿痛可能会让您感到不适，但有几种方法可以缓解症状：1. **良好口腔卫生**...  NaN  \n\n[1000 rows x 12 columns]",
      "text/html": "<div>\n<style scoped>\n    .dataframe tbody tr th:only-of-type {\n        vertical-align: middle;\n    }\n\n    .dataframe tbody tr th {\n        vertical-align: top;\n    }\n\n    .dataframe thead th {\n        text-align: right;\n    }\n</style>\n<table border=\"1\" class=\"dataframe\">\n  <thead>\n    <tr style=\"text-align: right;\">\n      <th></th>\n      <th>问题</th>\n      <th>医生回答</th>\n      <th>GPTanswer_1</th>\n      <th>c1</th>\n      <th>GPTanswer_2</th>\n      <th>c2</th>\n      <th>GPTanswer_3</th>\n      <th>c3</th>\n      <th>GPTanswer_4</th>\n      <th>c4</th>\n      <th>GPTanswer_5</th>\n      <th>c5</th>\n    </tr>\n  </thead>\n  <tbody>\n    <tr>\n      <th>0</th>\n      <td>被动抬腿试验的意义</td>\n      <td>直腿抬高试验是脊柱检查时特殊的试验，主要用于诊断腰椎间盘突出症，也可以诊断坐骨神经痛。而一般...</td>\n      <td>被动抬腿试验是一种常见的神经系统检查方法，用于评估腰椎神经根的功能和可能的神经根受压情况。这...</td>\n      <td>NaN</td>\n      <td>被动抬腿试验是一种常见的神经系统检查方法，用于评估下肢神经和脊髓的功能。这项测试的主要目的是...</td>\n      <td>NaN</td>\n      <td>被动抬腿试验是一种常见的神经学检查方法，用于评估下肢神经系统的功能。这项测试可以帮助医生诊断...</td>\n      <td>NaN</td>\n      <td>被动抬腿试验是一种常见的神经系统检查方法，通常用于评估神经系统的功能和异常。这项测试主要用于...</td>\n      <td>NaN</td>\n      <td>被动抬腿试验是一种常见的神经系统检查方法，用于评估患者下肢神经系统的功能和可能存在的问题。这...</td>\n      <td>NaN</td>\n    </tr>\n    <tr>\n      <th>1</th>\n      <td>哺乳期阴道炎用什么药好得快</td>\n      <td>哺乳期是特殊的时期，因为涉及到母乳喂养，所以说用药方面一定是要谨慎的。哺乳期得了阴道炎的建议...</td>\n      <td>如果你正在哺乳期并怀疑患有阴道炎，最好的做法是先咨询医生。哺乳期间使用药物需要特别小心，因为...</td>\n      <td>NaN</td>\n      <td>哺乳期阴道炎需要谨慎治疗，因为一些药物可能会对宝宝产生影响。建议你立即咨询医生，他们可以根据...</td>\n      <td>NaN</td>\n      <td>哺乳期阴道炎需要及时就医，最好遵医嘱使用药物治疗。通常医生会根据病情的严重程度和病因来选择合...</td>\n      <td>NaN</td>\n      <td>哺乳期阴道炎需要咨询医生以获取正确的诊断和治疗建议。一般情况下，医生可能会建议使用抗真菌药物...</td>\n      <td>NaN</td>\n      <td>哺乳期阴道炎需要及时就医，最好遵医嘱使用药物治疗。通常医生会根据病情的严重程度和病因来选择合...</td>\n      <td>NaN</td>\n    </tr>\n    <tr>\n      <th>2</th>\n      <td>打完水光针后几天可以敷医用面膜</td>\n      <td>从原则上来说，打完水光针后十天左右就可以敷医用面膜了，不过不同患者情况不同。正常情况下，患者...</td>\n      <td>打完水光针后一般建议等待至少24小时再进行其他面部护理，包括敷面膜。这是因为水光针治疗后，皮...</td>\n      <td>NaN</td>\n      <td>打完水光针后，通常建议在接下来的两到三天内避免使用任何可能会刺激皮肤的产品，包括面膜。这是因...</td>\n      <td>NaN</td>\n      <td>打完水光针后，通常建议等待至少24小时后再进行面部护理，以避免刺激皮肤。一般来说，可以在水光...</td>\n      <td>NaN</td>\n      <td>通常情况下，接受水光针治疗后，皮肤可能会出现轻微的红肿或刺痛感，因此需要给皮肤一些时间来恢复...</td>\n      <td>NaN</td>\n      <td>打完水光针后，通常建议等待至少24小时后再进行面部护理，以避免刺激皮肤。一般来说，可以在水光...</td>\n      <td>NaN</td>\n    </tr>\n    <tr>\n      <th>3</th>\n      <td>月子里腿受风了怎么补救</td>\n      <td>月子里腿受风的补救方法可以参考以下几种：1.如果有腿部疼痛、恶风怕冷、或有腰酸软冷痛等症状，...</td>\n      <td>月子期间腿受风了确实需要特别小心和谨慎。首先，要确保保持温暖，可以穿着长裤和袜子，并避免让受...</td>\n      <td>NaN</td>\n      <td>月子期间要特别小心保暖，因为身体虚弱，容易受风。如果腿受风了，以下是一些建议来帮助缓解不适：...</td>\n      <td>NaN</td>\n      <td>月子期间特别需要注意保暖，尤其是腿部。如果腿部受了风，可以考虑以下方法来缓解：1. **保持...</td>\n      <td>NaN</td>\n      <td>月子里腿受风了可能会引起不适，但具体的补救方法可能会因个人情况而异。这里有几种可能的方法：1...</td>\n      <td>NaN</td>\n      <td>月子期间腿受风了可能会导致身体不适，建议您采取以下措施来补救：1. 保持腿部温暖：穿上保暖的...</td>\n      <td>NaN</td>\n    </tr>\n    <tr>\n      <th>4</th>\n      <td>盆腔炎是什么病菌造成的症状表现</td>\n      <td>盆腔炎是指女性内生殖器及其周围的炎症性疾病，常常由细菌、病毒、真菌等病原体引起。常见的病菌包...</td>\n      <td>盆腔炎是由细菌感染引起的盆腔内器官炎症性疾病。常见的症状包括下腹部疼痛、盆腔不适、发热、异常...</td>\n      <td>NaN</td>\n      <td>盆腔炎是由细菌感染引起的盆腔内器官炎症性疾病。常见的症状包括下腹部疼痛、盆腔不适、发热、异常...</td>\n      <td>NaN</td>\n      <td>盆腔炎通常是由细菌感染引起的，最常见的是性传播疾病（如淋病和非淋菌性尿道炎）引起的细菌感染。...</td>\n      <td>NaN</td>\n      <td>盆腔炎是一种感染性疾病，通常由细菌引起，最常见的细菌包括阴道中的常见细菌以及性传播疾病（ST...</td>\n      <td>NaN</td>\n      <td>盆腔炎是一种由细菌感染引起的炎症性疾病，通常涉及子宫、输卵管和附件等盆腔器官。常见的症状包括...</td>\n      <td>NaN</td>\n    </tr>\n    <tr>\n      <th>...</th>\n      <td>...</td>\n      <td>...</td>\n      <td>...</td>\n      <td>...</td>\n      <td>...</td>\n      <td>...</td>\n      <td>...</td>\n      <td>...</td>\n      <td>...</td>\n      <td>...</td>\n      <td>...</td>\n      <td>...</td>\n    </tr>\n    <tr>\n      <th>995</th>\n      <td>激光脱毛可以干净吗</td>\n      <td>激光脱毛一般可以干净，可能需要多次激光脱毛操作。激光脱毛可以破坏毛发根部的毛囊，使其失去活性...</td>\n      <td>激光脱毛是一种有效的方法，可以帮助去除多余的毛发。激光脱毛可以在较长的时间内减少毛发的生长，...</td>\n      <td>NaN</td>\n      <td>是的，激光脱毛通常可以达到很干净的效果。激光脱毛利用激光能量破坏毛囊，阻止毛发再生，因此可以...</td>\n      <td>NaN</td>\n      <td>激光脱毛通常可以达到相当干净的效果。激光脱毛利用激光能量破坏毛囊，从而减少甚至永久性地减少毛...</td>\n      <td>NaN</td>\n      <td>激光脱毛是一种有效的方法，可以帮助去除多余的毛发。激光脱毛可以在较长的时间内减少毛发的生长，...</td>\n      <td>NaN</td>\n      <td>激光脱毛通常可以提供相当干净的结果。激光脱毛使用激光光束瞄准毛囊，将光能转化为热能，从而摧毁...</td>\n      <td>NaN</td>\n    </tr>\n    <tr>\n      <th>996</th>\n      <td>哺乳期怀孕几天有反应</td>\n      <td>在哺乳期间，如果怀孕了，有很多人因为这段时间太大意，以为没有来月经就不会发生卵泡排出引起怀孕...</td>\n      <td>哺乳期怀孕后，一般来说，身体可能会出现一些早期怀孕的征兆，但这些征兆在不同的人身上表现可能会...</td>\n      <td>NaN</td>\n      <td>一般来说，怀孕后大约6到8周左右，哺乳期妈妈可能会开始出现怀孕的一些早期症状，比如乳房胀痛、...</td>\n      <td>NaN</td>\n      <td>一般来说，怀孕后大约6到8周左右，哺乳期妈妈可能会开始出现怀孕的一些早期症状，比如乳房胀痛、...</td>\n      <td>NaN</td>\n      <td>一般来说，怀孕后大约6到8周左右，哺乳期妈妈可能会开始出现怀孕的一些早期症状，比如乳房胀痛、...</td>\n      <td>NaN</td>\n      <td>一般来说，怀孕后的早期反应在怀孕后两周到一个月之间开始出现，这通常是因为怀孕后体内激素水平的...</td>\n      <td>NaN</td>\n    </tr>\n    <tr>\n      <th>997</th>\n      <td>小孩眼球有红血丝</td>\n      <td>小孩眼球有红血丝可能是结膜炎、过敏、咳嗽等因素导致的。1、结膜炎：当小孩的结膜感染时，可能会...</td>\n      <td>小孩眼睛出现红血丝可能有多种原因。这可能是由于过度疲劳、缺乏睡眠、过敏、眼睛受伤、干燥的环境...</td>\n      <td>NaN</td>\n      <td>小孩眼球出现红血丝可能有几种原因。常见的包括：1. **眼睛受到刺激**：例如长时间盯着屏幕...</td>\n      <td>NaN</td>\n      <td>小孩眼球有红血丝可能有多种原因，包括但不限于：1. **眼睛疲劳**：过度用眼、长时间盯着屏...</td>\n      <td>NaN</td>\n      <td>小孩眼球有红血丝可能有多种原因，其中一些可能是正常的，而另一些可能需要医生的关注。红血丝可能...</td>\n      <td>NaN</td>\n      <td>小孩眼球有红血丝可能是由于多种原因引起的，包括但不限于：1. **眼睛疲劳：** 长时间盯着...</td>\n      <td>NaN</td>\n    </tr>\n    <tr>\n      <th>998</th>\n      <td>老人心脏早搏该怎么办</td>\n      <td>老人心脏早搏的治疗，要看早搏的严重程度，是偶发还是频发早搏。心脏早搏主要包括房性早搏和室性早...</td>\n      <td>老人心脏早搏是一种心律失常，如果老人出现心脏早搏，应该及时就医。以下是一些建议：1. 就医：...</td>\n      <td>NaN</td>\n      <td>老人心脏早搏可能是心脏节律异常的一种表现，但不必过于担心，因为这种情况在老年人中相对常见。然...</td>\n      <td>NaN</td>\n      <td>老人心脏早搏是一种心律失常，如果老人出现心脏早搏，应该及时就医。以下是一些建议：1. 就医：...</td>\n      <td>NaN</td>\n      <td>老人心脏早搏是一种心律失常，如果老人出现心脏早搏，应该及时就医。以下是一些建议：1. 就医：...</td>\n      <td>NaN</td>\n      <td>老年人的心脏早搏可能是由多种因素引起的，包括心血管疾病、电解质失衡、药物副作用等。如果老年人...</td>\n      <td>NaN</td>\n    </tr>\n    <tr>\n      <th>999</th>\n      <td>哺乳期牙龈发炎肿痛怎么办</td>\n      <td>哺乳期牙龈发炎肿痛首先要前往医院就诊，明确引起牙龈发炎肿痛的原因。根据病情选用合适的抗菌药物...</td>\n      <td>哺乳期的牙龈发炎肿痛可能会给您带来不适，但有一些方法可以缓解症状：1. 保持口腔卫生：继续刷...</td>\n      <td>NaN</td>\n      <td>哺乳期间出现牙龈发炎肿痛可能是由于口腔卫生问题或身体激素变化引起的。以下是一些建议来缓解症状...</td>\n      <td>NaN</td>\n      <td>哺乳期牙龈发炎肿痛可能会给您带来不适，以下是一些缓解症状和处理方法：1. **保持口腔卫生*...</td>\n      <td>NaN</td>\n      <td>哺乳期牙龈发炎肿痛可能会给您带来不适，以下是一些建议：1. 保持口腔卫生：定期刷牙，使用软毛...</td>\n      <td>NaN</td>\n      <td>哺乳期的牙龈发炎肿痛可能会让您感到不适，但有几种方法可以缓解症状：1. **良好口腔卫生**...</td>\n      <td>NaN</td>\n    </tr>\n  </tbody>\n</table>\n<p>1000 rows × 12 columns</p>\n</div>"
     },
     "execution_count": 89,
     "metadata": {},
     "output_type": "execute_result"
    }
   ],
   "source": [
    "data_GPT"
   ],
   "metadata": {
    "collapsed": false,
    "ExecuteTime": {
     "end_time": "2024-04-19T15:26:51.469524800Z",
     "start_time": "2024-04-19T15:26:50.659358100Z"
    }
   },
   "id": "109f4152dcf2bbef"
  },
  {
   "cell_type": "markdown",
   "source": [
    "选择出最佳的回答"
   ],
   "metadata": {
    "collapsed": false
   },
   "id": "d9e0c572c37cc10f"
  },
  {
   "cell_type": "code",
   "execution_count": 138,
   "outputs": [
    {
     "name": "stderr",
     "output_type": "stream",
     "text": [
      "C:\\Users\\mi\\PycharmProjects\\textAnalysis\\optimization_method\\Score.py:40: UserWarning: To copy construct from a tensor, it is recommended to use sourceTensor.clone().detach() or sourceTensor.clone().detach().requires_grad_(True), rather than torch.tensor(sourceTensor).\n",
      "  answer_embedding = torch.unsqueeze(torch.tensor(answer_embedding), dim=1).numpy()\n"
     ]
    },
    {
     "name": "stdout",
     "output_type": "stream",
     "text": [
      "32/32 [==============================] - 5s 101ms/step\n"
     ]
    }
   ],
   "source": [
    "c1=score(data_GPT['问题'],data_GPT['GPTanswer_1'])\n",
    "c2=score(data_GPT['问题'],data_GPT['GPTanswer_2'])\n",
    "c3=score(data_GPT['问题'],data_GPT['GPTanswer_3'])\n",
    "c4=score(data_GPT['问题'],data_GPT['GPTanswer_4'])\n",
    "c5=score(data_GPT['问题'],data_GPT['GPTanswer_5'])"
   ],
   "metadata": {
    "collapsed": false,
    "ExecuteTime": {
     "end_time": "2024-04-20T05:19:08.468665Z",
     "start_time": "2024-04-20T04:42:22.277181800Z"
    }
   },
   "id": "15605748c1264c7d"
  },
  {
   "cell_type": "code",
   "execution_count": 139,
   "outputs": [],
   "source": [
    "data_GPT['c1']=c1\n",
    "data_GPT['c2']=c2\n",
    "data_GPT['c3']=c3\n",
    "data_GPT['c4']=c4\n",
    "data_GPT['c5']=c5"
   ],
   "metadata": {
    "collapsed": false,
    "ExecuteTime": {
     "end_time": "2024-04-20T05:19:17.097578800Z",
     "start_time": "2024-04-20T05:19:17.070670800Z"
    }
   },
   "id": "c8c5ce7edf9fd192"
  },
  {
   "cell_type": "code",
   "execution_count": 185,
   "outputs": [],
   "source": [
    "data_GPT.to_csv('chatgpt问答_5_answer_3.csv')"
   ],
   "metadata": {
    "collapsed": false,
    "ExecuteTime": {
     "end_time": "2024-04-20T08:19:47.374245400Z",
     "start_time": "2024-04-20T08:19:47.198969Z"
    }
   },
   "id": "e86804a6180d9e14"
  },
  {
   "cell_type": "markdown",
   "source": [
    "每轮最佳答案"
   ],
   "metadata": {
    "collapsed": false
   },
   "id": "811639a6abadf7fd"
  },
  {
   "cell_type": "code",
   "execution_count": 146,
   "outputs": [],
   "source": [
    "# 创建一个空dataframe来存储每个问题的最佳答案\n",
    "best_answers = pd.DataFrame(columns=['L1','s1','L2','s2','L3','s3', 'L4','s4','L5','s5'])"
   ],
   "metadata": {
    "collapsed": false,
    "ExecuteTime": {
     "end_time": "2024-04-20T05:29:00.586126100Z",
     "start_time": "2024-04-20T05:29:00.269127700Z"
    }
   },
   "id": "b3fdef9c773b8e54"
  },
  {
   "cell_type": "code",
   "execution_count": 147,
   "outputs": [],
   "source": [
    "#第一轮\n",
    "best_answers['L1']=data_GPT['GPTanswer_1']"
   ],
   "metadata": {
    "collapsed": false,
    "ExecuteTime": {
     "end_time": "2024-04-20T05:29:49.252463700Z",
     "start_time": "2024-04-20T05:29:49.182363600Z"
    }
   },
   "id": "4cb198ebf8eaa12d"
  },
  {
   "cell_type": "code",
   "execution_count": 148,
   "outputs": [],
   "source": [
    "s1=[]\n",
    "for i in range(len(best_answers['L1'])):\n",
    "    s1.append(semantic_similarity(best_answers['L1'][i],data_GPT['医生回答'][i]))\n",
    "best_answers['s1']=s1"
   ],
   "metadata": {
    "collapsed": false,
    "ExecuteTime": {
     "end_time": "2024-04-20T05:56:06.929838700Z",
     "start_time": "2024-04-20T05:33:32.244384300Z"
    }
   },
   "id": "3cb721915152ad6b"
  },
  {
   "cell_type": "code",
   "execution_count": 151,
   "outputs": [
    {
     "data": {
      "text/plain": "250"
     },
     "execution_count": 151,
     "metadata": {},
     "output_type": "execute_result"
    }
   ],
   "source": [
    "len(best_answers[best_answers['s1']>=0.9])"
   ],
   "metadata": {
    "collapsed": false,
    "ExecuteTime": {
     "end_time": "2024-04-20T06:03:02.820046700Z",
     "start_time": "2024-04-20T06:03:02.741235600Z"
    }
   },
   "id": "cae7df5f0c9dc1e6"
  },
  {
   "cell_type": "markdown",
   "source": [
    "2-5轮"
   ],
   "metadata": {
    "collapsed": false
   },
   "id": "92b436046ce64a4d"
  },
  {
   "cell_type": "code",
   "execution_count": 179,
   "outputs": [],
   "source": [
    "#第4轮\n",
    "c=[]\n",
    "for i in range(1000):\n",
    "    c.append(tuple([c1.iloc[i,0],c2.iloc[i,0],c3.iloc[i,0],c4.iloc[i,0],c5.iloc[i,0]]))"
   ],
   "metadata": {
    "collapsed": false,
    "ExecuteTime": {
     "end_time": "2024-04-20T07:56:35.059021Z",
     "start_time": "2024-04-20T07:56:34.691928800Z"
    }
   },
   "id": "a79541592c1b0218"
  },
  {
   "cell_type": "code",
   "execution_count": 180,
   "outputs": [],
   "source": [
    "#找出C中每个元组中数据最大值的下标\n",
    "max_index=[]\n",
    "\n",
    "for i in range(len(c)):\n",
    "    max_index.append(c[i].index(max(c[i])))\n",
    "best_answers['L5_index']=max_index"
   ],
   "metadata": {
    "collapsed": false,
    "ExecuteTime": {
     "end_time": "2024-04-20T07:56:35.309054900Z",
     "start_time": "2024-04-20T07:56:35.270447400Z"
    }
   },
   "id": "f819e48da498c7d8"
  },
  {
   "cell_type": "code",
   "execution_count": 181,
   "outputs": [],
   "source": [
    "#按照max_index选出最佳的答案\n",
    "best_answer=[]\n",
    "for i in range(len(max_index)):\n",
    "    if max_index[i]==0:\n",
    "        best_answer.append(data_GPT['GPTanswer_1'][i])\n",
    "    elif max_index[i]==1:\n",
    "        best_answer.append(data_GPT['GPTanswer_2'][i]) \n",
    "    elif max_index[i]==2:\n",
    "        best_answer.append(data_GPT['GPTanswer_3'][i])\n",
    "    elif max_index[i]==3:\n",
    "        best_answer.append(data_GPT['GPTanswer_4'][i])\n",
    "    else:\n",
    "        best_answer.append(data_GPT['GPTanswer_5'][i])\n",
    "best_answers['L5']=best_answer"
   ],
   "metadata": {
    "collapsed": false,
    "ExecuteTime": {
     "end_time": "2024-04-20T07:56:36.055981500Z",
     "start_time": "2024-04-20T07:56:35.957585Z"
    }
   },
   "id": "183d5c5d27dd226d"
  },
  {
   "cell_type": "code",
   "execution_count": 182,
   "outputs": [],
   "source": [
    "#计算最佳答案与医生回答的相似度\n",
    "s5=[]\n",
    "for i in range(len(best_answers['L5'])):\n",
    "    s5.append(semantic_similarity(best_answer[i],data_GPT['医生回答'][i]))\n",
    "best_answers['s5']=s5"
   ],
   "metadata": {
    "collapsed": false,
    "ExecuteTime": {
     "end_time": "2024-04-20T08:17:42.678742800Z",
     "start_time": "2024-04-20T07:56:39.695457200Z"
    }
   },
   "id": "b6d371f50fb253b9"
  },
  {
   "cell_type": "code",
   "execution_count": 183,
   "outputs": [
    {
     "data": {
      "text/plain": "340"
     },
     "execution_count": 183,
     "metadata": {},
     "output_type": "execute_result"
    }
   ],
   "source": [
    "len(best_answers[best_answers['s5']>=0.9])"
   ],
   "metadata": {
    "collapsed": false,
    "ExecuteTime": {
     "end_time": "2024-04-20T08:17:56.987259600Z",
     "start_time": "2024-04-20T08:17:56.949451300Z"
    }
   },
   "id": "a703a81d5e42106e"
  },
  {
   "cell_type": "code",
   "execution_count": 184,
   "outputs": [],
   "source": [
    "best_answers.to_csv('best_answers.csv')"
   ],
   "metadata": {
    "collapsed": false,
    "ExecuteTime": {
     "end_time": "2024-04-20T08:19:35.622357300Z",
     "start_time": "2024-04-20T08:19:35.389560600Z"
    }
   },
   "id": "338220931304eaed"
  },
  {
   "cell_type": "markdown",
   "source": [
    "指标分析"
   ],
   "metadata": {
    "collapsed": false
   },
   "id": "b261ae45fd489d0c"
  },
  {
   "cell_type": "code",
   "execution_count": 3,
   "outputs": [],
   "source": [
    "data_GPT=pd.read_csv('chatgpt问答_5_answer_3.csv')"
   ],
   "metadata": {
    "collapsed": false,
    "ExecuteTime": {
     "end_time": "2024-04-20T09:30:45.070668300Z",
     "start_time": "2024-04-20T09:30:44.931077300Z"
    }
   },
   "id": "e689e0a103a9ce22"
  },
  {
   "cell_type": "code",
   "execution_count": 19,
   "outputs": [
    {
     "data": {
      "text/plain": "   Unnamed: 0               问题  \\\n0           0        被动抬腿试验的意义   \n1           1    哺乳期阴道炎用什么药好得快   \n2           2  打完水光针后几天可以敷医用面膜   \n3           3      月子里腿受风了怎么补救   \n4           4  盆腔炎是什么病菌造成的症状表现   \n\n                                                医生回答  \\\n0  直腿抬高试验是脊柱检查时特殊的试验，主要用于诊断腰椎间盘突出症，也可以诊断坐骨神经痛。而一般...   \n1  哺乳期是特殊的时期，因为涉及到母乳喂养，所以说用药方面一定是要谨慎的。哺乳期得了阴道炎的建议...   \n2  从原则上来说，打完水光针后十天左右就可以敷医用面膜了，不过不同患者情况不同。正常情况下，患者...   \n3  月子里腿受风的补救方法可以参考以下几种：1.如果有腿部疼痛、恶风怕冷、或有腰酸软冷痛等症状，...   \n4  盆腔炎是指女性内生殖器及其周围的炎症性疾病，常常由细菌、病毒、真菌等病原体引起。常见的病菌包...   \n\n                                         GPTanswer_1        c1  \\\n0  被动抬腿试验是一种常见的神经系统检查方法，用于评估腰椎神经根的功能和可能的神经根受压情况。这...  0.392354   \n1  如果你正在哺乳期并怀疑患有阴道炎，最好的做法是先咨询医生。哺乳期间使用药物需要特别小心，因为...  0.907264   \n2  打完水光针后一般建议等待至少24小时再进行其他面部护理，包括敷面膜。这是因为水光针治疗后，皮...  0.650094   \n3  月子期间腿受风了确实需要特别小心和谨慎。首先，要确保保持温暖，可以穿着长裤和袜子，并避免让受...  0.463220   \n4  盆腔炎是由细菌感染引起的盆腔内器官炎症性疾病。常见的症状包括下腹部疼痛、盆腔不适、发热、异常...  0.907344   \n\n                                         GPTanswer_2        c2  \\\n0  被动抬腿试验是一种常见的神经系统检查方法，用于评估下肢神经和脊髓的功能。这项测试的主要目的是...  0.546266   \n1  哺乳期阴道炎需要谨慎治疗，因为一些药物可能会对宝宝产生影响。建议你立即咨询医生，他们可以根据...  0.895529   \n2  打完水光针后，通常建议在接下来的两到三天内避免使用任何可能会刺激皮肤的产品，包括面膜。这是因...  0.648843   \n3  月子期间要特别小心保暖，因为身体虚弱，容易受风。如果腿受风了，以下是一些建议来帮助缓解不适：...  0.604350   \n4  盆腔炎是由细菌感染引起的盆腔内器官炎症性疾病。常见的症状包括下腹部疼痛、盆腔不适、发热、异常...  0.896153   \n\n                                         GPTanswer_3        c3  \\\n0  被动抬腿试验是一种常见的神经学检查方法，用于评估下肢神经系统的功能。这项测试可以帮助医生诊断...  0.573243   \n1  哺乳期阴道炎需要及时就医，最好遵医嘱使用药物治疗。通常医生会根据病情的严重程度和病因来选择合...  0.642914   \n2  打完水光针后，通常建议等待至少24小时后再进行面部护理，以避免刺激皮肤。一般来说，可以在水光...  0.537940   \n3  月子期间特别需要注意保暖，尤其是腿部。如果腿部受了风，可以考虑以下方法来缓解：1. **保持...  0.515050   \n4  盆腔炎通常是由细菌感染引起的，最常见的是性传播疾病（如淋病和非淋菌性尿道炎）引起的细菌感染。...  0.311302   \n\n                                         GPTanswer_4        c4  \\\n0  被动抬腿试验是一种常见的神经系统检查方法，通常用于评估神经系统的功能和异常。这项测试主要用于...  0.469839   \n1  哺乳期阴道炎需要咨询医生以获取正确的诊断和治疗建议。一般情况下，医生可能会建议使用抗真菌药物...  0.540635   \n2  通常情况下，接受水光针治疗后，皮肤可能会出现轻微的红肿或刺痛感，因此需要给皮肤一些时间来恢复...  0.537047   \n3  月子里腿受风了可能会引起不适，但具体的补救方法可能会因个人情况而异。这里有几种可能的方法：1...  0.566498   \n4  盆腔炎是一种感染性疾病，通常由细菌引起，最常见的细菌包括阴道中的常见细菌以及性传播疾病（ST...  0.586647   \n\n                                         GPTanswer_5        c5  \n0  被动抬腿试验是一种常见的神经系统检查方法，用于评估患者下肢神经系统的功能和可能存在的问题。这...  0.503650  \n1  哺乳期阴道炎需要及时就医，最好遵医嘱使用药物治疗。通常医生会根据病情的严重程度和病因来选择合...  0.760852  \n2  打完水光针后，通常建议等待至少24小时后再进行面部护理，以避免刺激皮肤。一般来说，可以在水光...  0.540644  \n3  月子期间腿受风了可能会导致身体不适，建议您采取以下措施来补救：1. 保持腿部温暖：穿上保暖的...  0.919461  \n4  盆腔炎是一种由细菌感染引起的炎症性疾病，通常涉及子宫、输卵管和附件等盆腔器官。常见的症状包括...  0.932705  ",
      "text/html": "<div>\n<style scoped>\n    .dataframe tbody tr th:only-of-type {\n        vertical-align: middle;\n    }\n\n    .dataframe tbody tr th {\n        vertical-align: top;\n    }\n\n    .dataframe thead th {\n        text-align: right;\n    }\n</style>\n<table border=\"1\" class=\"dataframe\">\n  <thead>\n    <tr style=\"text-align: right;\">\n      <th></th>\n      <th>Unnamed: 0</th>\n      <th>问题</th>\n      <th>医生回答</th>\n      <th>GPTanswer_1</th>\n      <th>c1</th>\n      <th>GPTanswer_2</th>\n      <th>c2</th>\n      <th>GPTanswer_3</th>\n      <th>c3</th>\n      <th>GPTanswer_4</th>\n      <th>c4</th>\n      <th>GPTanswer_5</th>\n      <th>c5</th>\n    </tr>\n  </thead>\n  <tbody>\n    <tr>\n      <th>0</th>\n      <td>0</td>\n      <td>被动抬腿试验的意义</td>\n      <td>直腿抬高试验是脊柱检查时特殊的试验，主要用于诊断腰椎间盘突出症，也可以诊断坐骨神经痛。而一般...</td>\n      <td>被动抬腿试验是一种常见的神经系统检查方法，用于评估腰椎神经根的功能和可能的神经根受压情况。这...</td>\n      <td>0.392354</td>\n      <td>被动抬腿试验是一种常见的神经系统检查方法，用于评估下肢神经和脊髓的功能。这项测试的主要目的是...</td>\n      <td>0.546266</td>\n      <td>被动抬腿试验是一种常见的神经学检查方法，用于评估下肢神经系统的功能。这项测试可以帮助医生诊断...</td>\n      <td>0.573243</td>\n      <td>被动抬腿试验是一种常见的神经系统检查方法，通常用于评估神经系统的功能和异常。这项测试主要用于...</td>\n      <td>0.469839</td>\n      <td>被动抬腿试验是一种常见的神经系统检查方法，用于评估患者下肢神经系统的功能和可能存在的问题。这...</td>\n      <td>0.503650</td>\n    </tr>\n    <tr>\n      <th>1</th>\n      <td>1</td>\n      <td>哺乳期阴道炎用什么药好得快</td>\n      <td>哺乳期是特殊的时期，因为涉及到母乳喂养，所以说用药方面一定是要谨慎的。哺乳期得了阴道炎的建议...</td>\n      <td>如果你正在哺乳期并怀疑患有阴道炎，最好的做法是先咨询医生。哺乳期间使用药物需要特别小心，因为...</td>\n      <td>0.907264</td>\n      <td>哺乳期阴道炎需要谨慎治疗，因为一些药物可能会对宝宝产生影响。建议你立即咨询医生，他们可以根据...</td>\n      <td>0.895529</td>\n      <td>哺乳期阴道炎需要及时就医，最好遵医嘱使用药物治疗。通常医生会根据病情的严重程度和病因来选择合...</td>\n      <td>0.642914</td>\n      <td>哺乳期阴道炎需要咨询医生以获取正确的诊断和治疗建议。一般情况下，医生可能会建议使用抗真菌药物...</td>\n      <td>0.540635</td>\n      <td>哺乳期阴道炎需要及时就医，最好遵医嘱使用药物治疗。通常医生会根据病情的严重程度和病因来选择合...</td>\n      <td>0.760852</td>\n    </tr>\n    <tr>\n      <th>2</th>\n      <td>2</td>\n      <td>打完水光针后几天可以敷医用面膜</td>\n      <td>从原则上来说，打完水光针后十天左右就可以敷医用面膜了，不过不同患者情况不同。正常情况下，患者...</td>\n      <td>打完水光针后一般建议等待至少24小时再进行其他面部护理，包括敷面膜。这是因为水光针治疗后，皮...</td>\n      <td>0.650094</td>\n      <td>打完水光针后，通常建议在接下来的两到三天内避免使用任何可能会刺激皮肤的产品，包括面膜。这是因...</td>\n      <td>0.648843</td>\n      <td>打完水光针后，通常建议等待至少24小时后再进行面部护理，以避免刺激皮肤。一般来说，可以在水光...</td>\n      <td>0.537940</td>\n      <td>通常情况下，接受水光针治疗后，皮肤可能会出现轻微的红肿或刺痛感，因此需要给皮肤一些时间来恢复...</td>\n      <td>0.537047</td>\n      <td>打完水光针后，通常建议等待至少24小时后再进行面部护理，以避免刺激皮肤。一般来说，可以在水光...</td>\n      <td>0.540644</td>\n    </tr>\n    <tr>\n      <th>3</th>\n      <td>3</td>\n      <td>月子里腿受风了怎么补救</td>\n      <td>月子里腿受风的补救方法可以参考以下几种：1.如果有腿部疼痛、恶风怕冷、或有腰酸软冷痛等症状，...</td>\n      <td>月子期间腿受风了确实需要特别小心和谨慎。首先，要确保保持温暖，可以穿着长裤和袜子，并避免让受...</td>\n      <td>0.463220</td>\n      <td>月子期间要特别小心保暖，因为身体虚弱，容易受风。如果腿受风了，以下是一些建议来帮助缓解不适：...</td>\n      <td>0.604350</td>\n      <td>月子期间特别需要注意保暖，尤其是腿部。如果腿部受了风，可以考虑以下方法来缓解：1. **保持...</td>\n      <td>0.515050</td>\n      <td>月子里腿受风了可能会引起不适，但具体的补救方法可能会因个人情况而异。这里有几种可能的方法：1...</td>\n      <td>0.566498</td>\n      <td>月子期间腿受风了可能会导致身体不适，建议您采取以下措施来补救：1. 保持腿部温暖：穿上保暖的...</td>\n      <td>0.919461</td>\n    </tr>\n    <tr>\n      <th>4</th>\n      <td>4</td>\n      <td>盆腔炎是什么病菌造成的症状表现</td>\n      <td>盆腔炎是指女性内生殖器及其周围的炎症性疾病，常常由细菌、病毒、真菌等病原体引起。常见的病菌包...</td>\n      <td>盆腔炎是由细菌感染引起的盆腔内器官炎症性疾病。常见的症状包括下腹部疼痛、盆腔不适、发热、异常...</td>\n      <td>0.907344</td>\n      <td>盆腔炎是由细菌感染引起的盆腔内器官炎症性疾病。常见的症状包括下腹部疼痛、盆腔不适、发热、异常...</td>\n      <td>0.896153</td>\n      <td>盆腔炎通常是由细菌感染引起的，最常见的是性传播疾病（如淋病和非淋菌性尿道炎）引起的细菌感染。...</td>\n      <td>0.311302</td>\n      <td>盆腔炎是一种感染性疾病，通常由细菌引起，最常见的细菌包括阴道中的常见细菌以及性传播疾病（ST...</td>\n      <td>0.586647</td>\n      <td>盆腔炎是一种由细菌感染引起的炎症性疾病，通常涉及子宫、输卵管和附件等盆腔器官。常见的症状包括...</td>\n      <td>0.932705</td>\n    </tr>\n  </tbody>\n</table>\n</div>"
     },
     "execution_count": 19,
     "metadata": {},
     "output_type": "execute_result"
    }
   ],
   "source": [
    "data_GPT.head()"
   ],
   "metadata": {
    "collapsed": false,
    "ExecuteTime": {
     "end_time": "2024-04-20T10:07:23.521480100Z",
     "start_time": "2024-04-20T10:07:23.412455900Z"
    }
   },
   "id": "60635c9bebc3cd4f"
  },
  {
   "cell_type": "code",
   "execution_count": 2,
   "outputs": [],
   "source": [
    "best_answers = pd.read_csv('best_answers.csv')"
   ],
   "metadata": {
    "collapsed": false,
    "ExecuteTime": {
     "end_time": "2024-04-20T09:29:51.561547500Z",
     "start_time": "2024-04-20T09:29:51.425096Z"
    }
   },
   "id": "16c34c44eab4aadf"
  },
  {
   "cell_type": "code",
   "execution_count": 6,
   "outputs": [
    {
     "name": "stdout",
     "output_type": "stream",
     "text": [
      "rouge-1: 0.34484590338388293\n",
      "rouge-2: 0.12606903279267062\n",
      "rouge-l: 0.24907908994740643\n",
      "bleu-4: 0.02754092067329885\n"
     ]
    }
   ],
   "source": [
    "#第1轮\n",
    "rouge_1_score=rouge_1(best_answers['L5'],data_GPT['医生回答'])\n",
    "rouge_2_score=rouge_2(best_answers['L5'],data_GPT['医生回答'])\n",
    "rouge_l_score=rouge_l(best_answers['L5'],data_GPT['医生回答'])\n",
    "bleu_4_score=bleu_4(best_answers['L5'],data_GPT['医生回答'])\n",
    "\n",
    "print('rouge-1:',rouge_1_score)\n",
    "print('rouge-2:',rouge_2_score)\n",
    "print('rouge-l:',rouge_l_score)\n",
    "print('bleu-4:',bleu_4_score)"
   ],
   "metadata": {
    "collapsed": false,
    "ExecuteTime": {
     "end_time": "2024-04-20T09:55:22.635781500Z",
     "start_time": "2024-04-20T09:52:26.580533Z"
    }
   },
   "id": "3165ae9e9da15637"
  },
  {
   "cell_type": "code",
   "execution_count": 7,
   "outputs": [
    {
     "data": {
      "text/plain": "0.8727442999999999"
     },
     "execution_count": 7,
     "metadata": {},
     "output_type": "execute_result"
    }
   ],
   "source": [
    "np.mean(best_answers['s5'])"
   ],
   "metadata": {
    "collapsed": false,
    "ExecuteTime": {
     "end_time": "2024-04-20T09:57:07.034436Z",
     "start_time": "2024-04-20T09:57:06.951462100Z"
    }
   },
   "id": "783db3d2c86d3676"
  },
  {
   "cell_type": "markdown",
   "source": [
    "#最后一轮的features"
   ],
   "metadata": {
    "collapsed": false
   },
   "id": "31131e3f268f4311"
  },
  {
   "cell_type": "code",
   "execution_count": 8,
   "outputs": [],
   "source": [
    "data=pd.read_csv('data_1000.csv')"
   ],
   "metadata": {
    "collapsed": false,
    "ExecuteTime": {
     "end_time": "2024-04-20T10:01:06.629998600Z",
     "start_time": "2024-04-20T10:01:06.353459100Z"
    }
   },
   "id": "71972b9e2e1eab9f"
  },
  {
   "cell_type": "code",
   "execution_count": 50,
   "outputs": [],
   "source": [
    "all_data=pd.read_csv(r'C:\\Users\\mi\\PycharmProjects\\textAnalysis\\特征指标量化\\chat_data_no_zero_label.csv')"
   ],
   "metadata": {
    "collapsed": false,
    "ExecuteTime": {
     "end_time": "2024-04-20T12:48:34.875487800Z",
     "start_time": "2024-04-20T12:48:26.785892100Z"
    }
   },
   "id": "a01b75c632222b84"
  },
  {
   "cell_type": "code",
   "execution_count": 51,
   "outputs": [],
   "source": [
    "#以问题列为标准，选出all_data中与data中问题相同的行\n",
    "\n",
    "old_data=all_data[all_data['问题'].isin(data['问题'])]"
   ],
   "metadata": {
    "collapsed": false,
    "ExecuteTime": {
     "end_time": "2024-04-20T12:52:48.304895200Z",
     "start_time": "2024-04-20T12:52:48.238939300Z"
    }
   },
   "id": "e77997b40c724d9c"
  },
  {
   "cell_type": "code",
   "execution_count": 55,
   "outputs": [
    {
     "data": {
      "text/plain": "          len_text  num_sentences    num_words  num_stopwords  \\\ncount  1000.000000    1000.000000  1000.000000    1000.000000   \nmean    194.650000       6.244000   108.504000      39.325000   \nstd      90.562504       2.334934    48.654242      17.887911   \nmin      40.000000       2.000000    25.000000       9.000000   \n25%     123.000000       5.000000    71.000000      27.000000   \n50%     166.000000       6.000000    95.000000      35.000000   \n75%     260.000000       8.000000   141.000000      48.250000   \nmax     545.000000      18.000000   285.000000     133.000000   \n\n       num_punctuations  num_short_sentences  num_adjectives    num_verbs  \\\ncount       1000.000000          1000.000000     1000.000000  1000.000000   \nmean          16.604000            15.549000        4.660000    28.605000   \nstd            8.781361             8.720645        3.061335    14.475514   \nmin            3.000000             2.000000        1.000000     5.000000   \n25%           10.000000             9.000000        2.000000    18.000000   \n50%           14.000000            13.000000        4.000000    25.000000   \n75%           23.000000            21.250000        6.000000    38.000000   \nmax           57.000000            56.000000       19.000000    90.000000   \n\n         num_nouns  num_adverbs  num_keywords  text_entropy  \\\ncount  1000.000000  1000.000000   1000.000000   1000.000000   \nmean     28.889000     3.613000     69.179000      5.524724   \nstd      13.994232     2.287458     33.143981      0.584827   \nmin       1.000000     1.000000      9.000000      3.169900   \n25%      18.000000     2.000000     43.000000      5.129300   \n50%      26.000000     3.000000     60.000000      5.491900   \n75%      39.000000     5.000000     92.000000      5.977300   \nmax      96.000000    16.000000    201.000000      6.977300   \n\n       num_medical_terms  medical_keywords_ratio  keywords_overlap  \\\ncount        1000.000000             1000.000000       1000.000000   \nmean            3.990000                0.060519          0.087964   \nstd             2.994473                0.038674          0.050045   \nmin             1.000000                0.006000          0.012000   \n25%             2.000000                0.032000          0.053000   \n50%             3.000000                0.052000          0.077000   \n75%             5.000000                0.080000          0.111000   \nmax            22.000000                0.280000          0.324000   \n\n       semantic_similarity  num_positive_words  num_native_words  \\\ncount          1000.000000         1000.000000       1000.000000   \nmean              0.735733           29.626000         15.918000   \nstd               0.046931           15.880501          8.515033   \nmin               0.577600            4.000000          1.000000   \n25%               0.706700           18.000000         10.000000   \n50%               0.737350           26.000000         14.000000   \n75%               0.769250           38.000000         21.000000   \nmax               0.871300          105.000000         59.000000   \n\n       sentiment_polarity        label  \ncount         1000.000000  1000.000000  \nmean             0.810865     0.255000  \nstd              0.346856     0.436079  \nmin              0.000010     0.000000  \n25%              0.860420     0.000000  \n50%              0.999725     0.000000  \n75%              1.000000     1.000000  \nmax              1.000000     1.000000  ",
      "text/html": "<div>\n<style scoped>\n    .dataframe tbody tr th:only-of-type {\n        vertical-align: middle;\n    }\n\n    .dataframe tbody tr th {\n        vertical-align: top;\n    }\n\n    .dataframe thead th {\n        text-align: right;\n    }\n</style>\n<table border=\"1\" class=\"dataframe\">\n  <thead>\n    <tr style=\"text-align: right;\">\n      <th></th>\n      <th>len_text</th>\n      <th>num_sentences</th>\n      <th>num_words</th>\n      <th>num_stopwords</th>\n      <th>num_punctuations</th>\n      <th>num_short_sentences</th>\n      <th>num_adjectives</th>\n      <th>num_verbs</th>\n      <th>num_nouns</th>\n      <th>num_adverbs</th>\n      <th>num_keywords</th>\n      <th>text_entropy</th>\n      <th>num_medical_terms</th>\n      <th>medical_keywords_ratio</th>\n      <th>keywords_overlap</th>\n      <th>semantic_similarity</th>\n      <th>num_positive_words</th>\n      <th>num_native_words</th>\n      <th>sentiment_polarity</th>\n      <th>label</th>\n    </tr>\n  </thead>\n  <tbody>\n    <tr>\n      <th>count</th>\n      <td>1000.000000</td>\n      <td>1000.000000</td>\n      <td>1000.000000</td>\n      <td>1000.000000</td>\n      <td>1000.000000</td>\n      <td>1000.000000</td>\n      <td>1000.000000</td>\n      <td>1000.000000</td>\n      <td>1000.000000</td>\n      <td>1000.000000</td>\n      <td>1000.000000</td>\n      <td>1000.000000</td>\n      <td>1000.000000</td>\n      <td>1000.000000</td>\n      <td>1000.000000</td>\n      <td>1000.000000</td>\n      <td>1000.000000</td>\n      <td>1000.000000</td>\n      <td>1000.000000</td>\n      <td>1000.000000</td>\n    </tr>\n    <tr>\n      <th>mean</th>\n      <td>194.650000</td>\n      <td>6.244000</td>\n      <td>108.504000</td>\n      <td>39.325000</td>\n      <td>16.604000</td>\n      <td>15.549000</td>\n      <td>4.660000</td>\n      <td>28.605000</td>\n      <td>28.889000</td>\n      <td>3.613000</td>\n      <td>69.179000</td>\n      <td>5.524724</td>\n      <td>3.990000</td>\n      <td>0.060519</td>\n      <td>0.087964</td>\n      <td>0.735733</td>\n      <td>29.626000</td>\n      <td>15.918000</td>\n      <td>0.810865</td>\n      <td>0.255000</td>\n    </tr>\n    <tr>\n      <th>std</th>\n      <td>90.562504</td>\n      <td>2.334934</td>\n      <td>48.654242</td>\n      <td>17.887911</td>\n      <td>8.781361</td>\n      <td>8.720645</td>\n      <td>3.061335</td>\n      <td>14.475514</td>\n      <td>13.994232</td>\n      <td>2.287458</td>\n      <td>33.143981</td>\n      <td>0.584827</td>\n      <td>2.994473</td>\n      <td>0.038674</td>\n      <td>0.050045</td>\n      <td>0.046931</td>\n      <td>15.880501</td>\n      <td>8.515033</td>\n      <td>0.346856</td>\n      <td>0.436079</td>\n    </tr>\n    <tr>\n      <th>min</th>\n      <td>40.000000</td>\n      <td>2.000000</td>\n      <td>25.000000</td>\n      <td>9.000000</td>\n      <td>3.000000</td>\n      <td>2.000000</td>\n      <td>1.000000</td>\n      <td>5.000000</td>\n      <td>1.000000</td>\n      <td>1.000000</td>\n      <td>9.000000</td>\n      <td>3.169900</td>\n      <td>1.000000</td>\n      <td>0.006000</td>\n      <td>0.012000</td>\n      <td>0.577600</td>\n      <td>4.000000</td>\n      <td>1.000000</td>\n      <td>0.000010</td>\n      <td>0.000000</td>\n    </tr>\n    <tr>\n      <th>25%</th>\n      <td>123.000000</td>\n      <td>5.000000</td>\n      <td>71.000000</td>\n      <td>27.000000</td>\n      <td>10.000000</td>\n      <td>9.000000</td>\n      <td>2.000000</td>\n      <td>18.000000</td>\n      <td>18.000000</td>\n      <td>2.000000</td>\n      <td>43.000000</td>\n      <td>5.129300</td>\n      <td>2.000000</td>\n      <td>0.032000</td>\n      <td>0.053000</td>\n      <td>0.706700</td>\n      <td>18.000000</td>\n      <td>10.000000</td>\n      <td>0.860420</td>\n      <td>0.000000</td>\n    </tr>\n    <tr>\n      <th>50%</th>\n      <td>166.000000</td>\n      <td>6.000000</td>\n      <td>95.000000</td>\n      <td>35.000000</td>\n      <td>14.000000</td>\n      <td>13.000000</td>\n      <td>4.000000</td>\n      <td>25.000000</td>\n      <td>26.000000</td>\n      <td>3.000000</td>\n      <td>60.000000</td>\n      <td>5.491900</td>\n      <td>3.000000</td>\n      <td>0.052000</td>\n      <td>0.077000</td>\n      <td>0.737350</td>\n      <td>26.000000</td>\n      <td>14.000000</td>\n      <td>0.999725</td>\n      <td>0.000000</td>\n    </tr>\n    <tr>\n      <th>75%</th>\n      <td>260.000000</td>\n      <td>8.000000</td>\n      <td>141.000000</td>\n      <td>48.250000</td>\n      <td>23.000000</td>\n      <td>21.250000</td>\n      <td>6.000000</td>\n      <td>38.000000</td>\n      <td>39.000000</td>\n      <td>5.000000</td>\n      <td>92.000000</td>\n      <td>5.977300</td>\n      <td>5.000000</td>\n      <td>0.080000</td>\n      <td>0.111000</td>\n      <td>0.769250</td>\n      <td>38.000000</td>\n      <td>21.000000</td>\n      <td>1.000000</td>\n      <td>1.000000</td>\n    </tr>\n    <tr>\n      <th>max</th>\n      <td>545.000000</td>\n      <td>18.000000</td>\n      <td>285.000000</td>\n      <td>133.000000</td>\n      <td>57.000000</td>\n      <td>56.000000</td>\n      <td>19.000000</td>\n      <td>90.000000</td>\n      <td>96.000000</td>\n      <td>16.000000</td>\n      <td>201.000000</td>\n      <td>6.977300</td>\n      <td>22.000000</td>\n      <td>0.280000</td>\n      <td>0.324000</td>\n      <td>0.871300</td>\n      <td>105.000000</td>\n      <td>59.000000</td>\n      <td>1.000000</td>\n      <td>1.000000</td>\n    </tr>\n  </tbody>\n</table>\n</div>"
     },
     "execution_count": 55,
     "metadata": {},
     "output_type": "execute_result"
    }
   ],
   "source": [
    "old_data.describe()"
   ],
   "metadata": {
    "collapsed": false,
    "ExecuteTime": {
     "end_time": "2024-04-20T12:53:45.424576800Z",
     "start_time": "2024-04-20T12:53:45.286031800Z"
    }
   },
   "id": "d27675371380c4f1"
  },
  {
   "cell_type": "code",
   "execution_count": 56,
   "outputs": [],
   "source": [
    "old_data.to_csv('old_data.csv',index=False)"
   ],
   "metadata": {
    "collapsed": false,
    "ExecuteTime": {
     "end_time": "2024-04-20T12:55:23.746063900Z",
     "start_time": "2024-04-20T12:55:23.608583500Z"
    }
   },
   "id": "5fb9d00415f651a5"
  },
  {
   "cell_type": "code",
   "execution_count": null,
   "outputs": [],
   "source": [],
   "metadata": {
    "collapsed": false
   },
   "id": "974cf62eb73c83e4"
  },
  {
   "cell_type": "code",
   "execution_count": 39,
   "outputs": [],
   "source": [
    "new_data=pd.DataFrame(columns=['问题','best_answer'])"
   ],
   "metadata": {
    "collapsed": false,
    "ExecuteTime": {
     "end_time": "2024-04-20T11:29:40.632595600Z",
     "start_time": "2024-04-20T11:29:40.563345300Z"
    }
   },
   "id": "dc343a6a47d882d5"
  },
  {
   "cell_type": "code",
   "execution_count": 40,
   "outputs": [],
   "source": [
    "new_data['问题']=data['问题']\n",
    "\n",
    "new_data['best_answer']=best_answers['L5']"
   ],
   "metadata": {
    "collapsed": false,
    "ExecuteTime": {
     "end_time": "2024-04-20T11:29:51.904702700Z",
     "start_time": "2024-04-20T11:29:51.760904600Z"
    }
   },
   "id": "249f6a201f601ff1"
  },
  {
   "cell_type": "code",
   "execution_count": 42,
   "outputs": [],
   "source": [
    "new_data.to_csv('new_data.csv',index=False)"
   ],
   "metadata": {
    "collapsed": false,
    "ExecuteTime": {
     "end_time": "2024-04-20T11:30:15.105416200Z",
     "start_time": "2024-04-20T11:30:14.939963600Z"
    }
   },
   "id": "79138cc81b9d152"
  },
  {
   "cell_type": "code",
   "execution_count": 43,
   "outputs": [
    {
     "name": "stdout",
     "output_type": "stream",
     "text": [
      "问题1的相似度为0.6948999762535095\n",
      "问题2的相似度为0.7113999724388123\n",
      "问题3的相似度为0.7585999965667725\n",
      "问题4的相似度为0.7160999774932861\n",
      "问题5的相似度为0.7716000080108643\n",
      "问题6的相似度为0.6905999779701233\n",
      "问题7的相似度为0.7745000123977661\n",
      "问题8的相似度为0.753000020980835\n",
      "问题9的相似度为0.7621999979019165\n",
      "问题10的相似度为0.7523999810218811\n",
      "问题11的相似度为0.6668999791145325\n",
      "问题12的相似度为0.8198999762535095\n",
      "问题13的相似度为0.7669000029563904\n",
      "问题14的相似度为0.6974999904632568\n",
      "问题15的相似度为0.7645999789237976\n",
      "问题16的相似度为0.6736999750137329\n",
      "问题17的相似度为0.6622999906539917\n",
      "问题18的相似度为0.7411999702453613\n",
      "问题19的相似度为0.8036999702453613\n",
      "问题20的相似度为0.7297000288963318\n",
      "问题21的相似度为0.7124000191688538\n",
      "问题22的相似度为0.7440000176429749\n",
      "问题23的相似度为0.6919999718666077\n",
      "问题24的相似度为0.7272999882698059\n",
      "问题25的相似度为0.6589999794960022\n",
      "问题26的相似度为0.7735000252723694\n",
      "问题27的相似度为0.7669000029563904\n",
      "问题28的相似度为0.7330999970436096\n",
      "问题29的相似度为0.765999972820282\n",
      "问题30的相似度为0.7418000102043152\n",
      "问题31的相似度为0.7894999980926514\n",
      "问题32的相似度为0.7301999926567078\n",
      "问题33的相似度为0.7337999939918518\n",
      "问题34的相似度为0.7125999927520752\n",
      "问题35的相似度为0.7160999774932861\n",
      "问题36的相似度为0.685699999332428\n",
      "问题37的相似度为0.7307000160217285\n",
      "问题38的相似度为0.7623999714851379\n",
      "问题39的相似度为0.7811999917030334\n",
      "问题40的相似度为0.6988000273704529\n",
      "问题41的相似度为0.6276999711990356\n",
      "问题42的相似度为0.833899974822998\n",
      "问题43的相似度为0.6103000044822693\n",
      "问题44的相似度为0.6421999931335449\n",
      "问题45的相似度为0.6791999936103821\n",
      "问题46的相似度为0.7315999865531921\n",
      "问题47的相似度为0.8176000118255615\n",
      "问题48的相似度为0.6919999718666077\n",
      "问题49的相似度为0.7968000173568726\n",
      "问题50的相似度为0.6664999723434448\n",
      "问题51的相似度为0.7842000126838684\n",
      "问题52的相似度为0.7914000153541565\n",
      "问题53的相似度为0.6887999773025513\n",
      "问题54的相似度为0.739799976348877\n",
      "问题55的相似度为0.7537999749183655\n",
      "问题56的相似度为0.7056000232696533\n",
      "问题57的相似度为0.7425000071525574\n",
      "问题58的相似度为0.6992999911308289\n",
      "问题59的相似度为0.5902000069618225\n",
      "问题60的相似度为0.7681999802589417\n",
      "问题61的相似度为0.7057999968528748\n",
      "问题62的相似度为0.7516000270843506\n",
      "问题63的相似度为0.7378000020980835\n",
      "问题64的相似度为0.7138000130653381\n",
      "问题65的相似度为0.6786999702453613\n",
      "问题66的相似度为0.7860000133514404\n",
      "问题67的相似度为0.708299994468689\n",
      "问题68的相似度为0.7135000228881836\n",
      "问题69的相似度为0.7692000269889832\n",
      "问题70的相似度为0.7599999904632568\n",
      "问题71的相似度为0.6937999725341797\n",
      "问题72的相似度为0.7505000233650208\n",
      "问题73的相似度为0.7440000176429749\n",
      "问题74的相似度为0.6798999905586243\n",
      "问题75的相似度为0.7247999906539917\n",
      "问题76的相似度为0.7990000247955322\n",
      "问题77的相似度为0.7287999987602234\n",
      "问题78的相似度为0.6784999966621399\n",
      "问题79的相似度为0.6776000261306763\n",
      "问题80的相似度为0.6359000205993652\n",
      "问题81的相似度为0.6797000169754028\n",
      "问题82的相似度为0.7168999910354614\n",
      "问题83的相似度为0.7840999960899353\n",
      "问题84的相似度为0.7854999899864197\n",
      "问题85的相似度为0.760699987411499\n",
      "问题86的相似度为0.6769999861717224\n",
      "问题87的相似度为0.7247999906539917\n",
      "问题88的相似度为0.6848999857902527\n",
      "问题89的相似度为0.7317000031471252\n",
      "问题90的相似度为0.7096999883651733\n",
      "问题91的相似度为0.7541999816894531\n",
      "问题92的相似度为0.7235999703407288\n",
      "问题93的相似度为0.6937000155448914\n",
      "问题94的相似度为0.7720999717712402\n",
      "问题95的相似度为0.7185999751091003\n",
      "问题96的相似度为0.8115000128746033\n",
      "问题97的相似度为0.7558000087738037\n",
      "问题98的相似度为0.7678999900817871\n",
      "问题99的相似度为0.754800021648407\n",
      "问题100的相似度为0.7024000287055969\n",
      "问题101的相似度为0.7008000016212463\n",
      "问题102的相似度为0.6909999847412109\n",
      "问题103的相似度为0.7210999727249146\n",
      "问题104的相似度为0.5936999917030334\n",
      "问题105的相似度为0.7638000249862671\n",
      "问题106的相似度为0.67330002784729\n",
      "问题107的相似度为0.6901000142097473\n",
      "问题108的相似度为0.7294999957084656\n",
      "问题109的相似度为0.7827000021934509\n",
      "问题110的相似度为0.7851999998092651\n",
      "问题111的相似度为0.7515000104904175\n",
      "问题112的相似度为0.6776999831199646\n",
      "问题113的相似度为0.7578999996185303\n",
      "问题114的相似度为0.7771000266075134\n",
      "问题115的相似度为0.6625000238418579\n",
      "问题116的相似度为0.6383000016212463\n",
      "问题117的相似度为0.7791000008583069\n",
      "问题118的相似度为0.7454000115394592\n",
      "问题119的相似度为0.7387999892234802\n",
      "问题120的相似度为0.6442999839782715\n",
      "问题121的相似度为0.7903000116348267\n",
      "问题122的相似度为0.7480999827384949\n",
      "问题123的相似度为0.7608000040054321\n",
      "问题124的相似度为0.7870000004768372\n",
      "问题125的相似度为0.6772000193595886\n",
      "问题126的相似度为0.7700999975204468\n",
      "问题127的相似度为0.7444000244140625\n",
      "问题128的相似度为0.705299973487854\n",
      "问题129的相似度为0.7160999774932861\n",
      "问题130的相似度为0.6941999793052673\n",
      "问题131的相似度为0.7366999983787537\n",
      "问题132的相似度为0.7427999973297119\n",
      "问题133的相似度为0.7003999948501587\n",
      "问题134的相似度为0.7620000243186951\n",
      "问题135的相似度为0.6581000089645386\n",
      "问题136的相似度为0.7954999804496765\n",
      "问题137的相似度为0.7580000162124634\n",
      "问题138的相似度为0.6895999908447266\n",
      "问题139的相似度为0.7742999792098999\n",
      "问题140的相似度为0.7429999709129333\n",
      "问题141的相似度为0.6967999935150146\n",
      "问题142的相似度为0.8288999795913696\n",
      "问题143的相似度为0.7418000102043152\n",
      "问题144的相似度为0.8252000212669373\n",
      "问题145的相似度为0.7046999931335449\n",
      "问题146的相似度为0.8004999756813049\n",
      "问题147的相似度为0.7580000162124634\n",
      "问题148的相似度为0.7937999963760376\n",
      "问题149的相似度为0.705299973487854\n",
      "问题150的相似度为0.6697999835014343\n",
      "问题151的相似度为0.6518999934196472\n",
      "问题152的相似度为0.6628000140190125\n",
      "问题153的相似度为0.7533000111579895\n",
      "问题154的相似度为0.7950999736785889\n",
      "问题155的相似度为0.6693999767303467\n",
      "问题156的相似度为0.8183000087738037\n",
      "问题157的相似度为0.7361000180244446\n",
      "问题158的相似度为0.7986999750137329\n",
      "问题159的相似度为0.7565000057220459\n",
      "问题160的相似度为0.7095000147819519\n",
      "问题161的相似度为0.6632999777793884\n",
      "问题162的相似度为0.7609999775886536\n",
      "问题163的相似度为0.757099986076355\n",
      "问题164的相似度为0.8159999847412109\n",
      "问题165的相似度为0.7279999852180481\n",
      "问题166的相似度为0.7074000239372253\n",
      "问题167的相似度为0.7006000280380249\n",
      "问题168的相似度为0.7253000140190125\n",
      "问题169的相似度为0.6884999871253967\n",
      "问题170的相似度为0.7304999828338623\n",
      "问题171的相似度为0.748199999332428\n",
      "问题172的相似度为0.771399974822998\n",
      "问题173的相似度为0.722100019454956\n",
      "问题174的相似度为0.6518999934196472\n",
      "问题175的相似度为0.7833999991416931\n",
      "问题176的相似度为0.6748999953269958\n",
      "问题177的相似度为0.7421000003814697\n",
      "问题178的相似度为0.6877999901771545\n",
      "问题179的相似度为0.6976000070571899\n",
      "问题180的相似度为0.7498000264167786\n",
      "问题181的相似度为0.8064000010490417\n",
      "问题182的相似度为0.7039999961853027\n",
      "问题183的相似度为0.7049999833106995\n",
      "问题184的相似度为0.7491999864578247\n",
      "问题185的相似度为0.6933000087738037\n",
      "问题186的相似度为0.7760999798774719\n",
      "问题187的相似度为0.6974999904632568\n",
      "问题188的相似度为0.7382000088691711\n",
      "问题189的相似度为0.7214000225067139\n",
      "问题190的相似度为0.7573999762535095\n",
      "问题191的相似度为0.7930999994277954\n",
      "问题192的相似度为0.7318999767303467\n",
      "问题193的相似度为0.7232999801635742\n",
      "问题194的相似度为0.6736000180244446\n",
      "问题195的相似度为0.6456000208854675\n",
      "问题196的相似度为0.7674000263214111\n",
      "问题197的相似度为0.7106000185012817\n",
      "问题198的相似度为0.7642999887466431\n",
      "问题199的相似度为0.7117999792098999\n",
      "问题200的相似度为0.6970000267028809\n",
      "问题201的相似度为0.7084000110626221\n",
      "问题202的相似度为0.717199981212616\n",
      "问题203的相似度为0.6942999958992004\n",
      "问题204的相似度为0.7160999774932861\n",
      "问题205的相似度为0.7195000052452087\n",
      "问题206的相似度为0.7383000254631042\n",
      "问题207的相似度为0.7509999871253967\n",
      "问题208的相似度为0.7290999889373779\n",
      "问题209的相似度为0.6995999813079834\n",
      "问题210的相似度为0.7264999747276306\n",
      "问题211的相似度为0.7865999937057495\n",
      "问题212的相似度为0.715399980545044\n",
      "问题213的相似度为0.7218000292778015\n",
      "问题214的相似度为0.6833999752998352\n",
      "问题215的相似度为0.767300009727478\n",
      "问题216的相似度为0.6870999932289124\n",
      "问题217的相似度为0.7199000120162964\n",
      "问题218的相似度为0.7401999831199646\n",
      "问题219的相似度为0.7831000089645386\n",
      "问题220的相似度为0.8065000176429749\n",
      "问题221的相似度为0.7008000016212463\n",
      "问题222的相似度为0.7688999772071838\n",
      "问题223的相似度为0.7429999709129333\n",
      "问题224的相似度为0.7226999998092651\n",
      "问题225的相似度为0.6837000250816345\n",
      "问题226的相似度为0.6783000230789185\n",
      "问题227的相似度为0.7432000041007996\n",
      "问题228的相似度为0.707099974155426\n",
      "问题229的相似度为0.7024999856948853\n",
      "问题230的相似度为0.7748000025749207\n",
      "问题231的相似度为0.7265999913215637\n",
      "问题232的相似度为0.5996000170707703\n",
      "问题233的相似度为0.7738999724388123\n",
      "问题234的相似度为0.7304999828338623\n",
      "问题235的相似度为0.7649000287055969\n",
      "问题236的相似度为0.7006999850273132\n",
      "问题237的相似度为0.7394999861717224\n",
      "问题238的相似度为0.7488999962806702\n",
      "问题239的相似度为0.7858999967575073\n",
      "问题240的相似度为0.6976000070571899\n",
      "问题241的相似度为0.7699999809265137\n",
      "问题242的相似度为0.7554000020027161\n",
      "问题243的相似度为0.7849000096321106\n",
      "问题244的相似度为0.6894000172615051\n",
      "问题245的相似度为0.7042999863624573\n",
      "问题246的相似度为0.7565000057220459\n",
      "问题247的相似度为0.8104000091552734\n",
      "问题248的相似度为0.7659000158309937\n",
      "问题249的相似度为0.7416999936103821\n",
      "问题250的相似度为0.7727000117301941\n",
      "问题251的相似度为0.7221999764442444\n",
      "问题252的相似度为0.7441999912261963\n",
      "问题253的相似度为0.7993000149726868\n",
      "问题254的相似度为0.7616000175476074\n",
      "问题255的相似度为0.70169997215271\n",
      "问题256的相似度为0.7886000275611877\n",
      "问题257的相似度为0.7397000193595886\n",
      "问题258的相似度为0.7907000184059143\n",
      "问题259的相似度为0.7580999732017517\n",
      "问题260的相似度为0.6777999997138977\n",
      "问题261的相似度为0.695900022983551\n",
      "问题262的相似度为0.7892000079154968\n",
      "问题263的相似度为0.6798999905586243\n",
      "问题264的相似度为0.680899977684021\n",
      "问题265的相似度为0.7465999722480774\n",
      "问题266的相似度为0.765999972820282\n",
      "问题267的相似度为0.8001000285148621\n",
      "问题268的相似度为0.7178000211715698\n",
      "问题269的相似度为0.8248000144958496\n",
      "问题270的相似度为0.7621999979019165\n",
      "问题271的相似度为0.7677000164985657\n",
      "问题272的相似度为0.7493000030517578\n",
      "问题273的相似度为0.7301999926567078\n",
      "问题274的相似度为0.7843999862670898\n",
      "问题275的相似度为0.6787999868392944\n",
      "问题276的相似度为0.7146000266075134\n",
      "问题277的相似度为0.7177000045776367\n",
      "问题278的相似度为0.7791000008583069\n",
      "问题279的相似度为0.7128000259399414\n",
      "问题280的相似度为0.7455000281333923\n",
      "问题281的相似度为0.6761000156402588\n",
      "问题282的相似度为0.7423999905586243\n",
      "问题283的相似度为0.7656999826431274\n",
      "问题284的相似度为0.6348000168800354\n",
      "问题285的相似度为0.7423999905586243\n",
      "问题286的相似度为0.7335000038146973\n",
      "问题287的相似度为0.7355999946594238\n",
      "问题288的相似度为0.6919999718666077\n",
      "问题289的相似度为0.6765999794006348\n",
      "问题290的相似度为0.7063000202178955\n",
      "问题291的相似度为0.7285000085830688\n",
      "问题292的相似度为0.8130999803543091\n",
      "问题293的相似度为0.7361999750137329\n",
      "问题294的相似度为0.7111999988555908\n",
      "问题295的相似度为0.7462000250816345\n",
      "问题296的相似度为0.7229999899864197\n",
      "问题297的相似度为0.6599000096321106\n",
      "问题298的相似度为0.6435999870300293\n",
      "问题299的相似度为0.6926000118255615\n",
      "问题300的相似度为0.7825000286102295\n",
      "问题301的相似度为0.7896000146865845\n",
      "问题302的相似度为0.6607999801635742\n",
      "问题303的相似度为0.7501000165939331\n",
      "问题304的相似度为0.7657999992370605\n",
      "问题305的相似度为0.7343999743461609\n",
      "问题306的相似度为0.7185999751091003\n",
      "问题307的相似度为0.7551000118255615\n",
      "问题308的相似度为0.6944000124931335\n",
      "问题309的相似度为0.7684999704360962\n",
      "问题310的相似度为0.7498999834060669\n",
      "问题311的相似度为0.7347000241279602\n",
      "问题312的相似度为0.7853000164031982\n",
      "问题313的相似度为0.7839000225067139\n",
      "问题314的相似度为0.6442000269889832\n",
      "问题315的相似度为0.7587000131607056\n",
      "问题316的相似度为0.6978999972343445\n",
      "问题317的相似度为0.7218000292778015\n",
      "问题318的相似度为0.7578999996185303\n",
      "问题319的相似度为0.6894000172615051\n",
      "问题320的相似度为0.7275000214576721\n",
      "问题321的相似度为0.8026999831199646\n",
      "问题322的相似度为0.7699999809265137\n",
      "问题323的相似度为0.765500009059906\n",
      "问题324的相似度为0.6748999953269958\n",
      "问题325的相似度为0.8127999901771545\n",
      "问题326的相似度为0.7825000286102295\n",
      "问题327的相似度为0.6978999972343445\n",
      "问题328的相似度为0.7343000173568726\n",
      "问题329的相似度为0.6693999767303467\n",
      "问题330的相似度为0.6953999996185303\n",
      "问题331的相似度为0.786899983882904\n",
      "问题332的相似度为0.753000020980835\n",
      "问题333的相似度为0.7705000042915344\n",
      "问题334的相似度为0.7652000188827515\n",
      "问题335的相似度为0.7303000092506409\n",
      "问题336的相似度为0.7577999830245972\n",
      "问题337的相似度为0.7583000063896179\n",
      "问题338的相似度为0.6754000186920166\n",
      "问题339的相似度为0.652899980545044\n",
      "问题340的相似度为0.7793999910354614\n",
      "问题341的相似度为0.7991999983787537\n",
      "问题342的相似度为0.6072999835014343\n",
      "问题343的相似度为0.7681999802589417\n",
      "问题344的相似度为0.7113999724388123\n",
      "问题345的相似度为0.7689999938011169\n",
      "问题346的相似度为0.7566999793052673\n",
      "问题347的相似度为0.7960000038146973\n",
      "问题348的相似度为0.707099974155426\n",
      "问题349的相似度为0.7634000182151794\n",
      "问题350的相似度为0.8123000264167786\n",
      "问题351的相似度为0.7404000163078308\n",
      "问题352的相似度为0.7315000295639038\n",
      "问题353的相似度为0.6699000000953674\n",
      "问题354的相似度为0.7002000212669373\n",
      "问题355的相似度为0.7404999732971191\n",
      "问题356的相似度为0.7702000141143799\n",
      "问题357的相似度为0.7631999850273132\n",
      "问题358的相似度为0.7788000106811523\n",
      "问题359的相似度为0.7868000268936157\n",
      "问题360的相似度为0.7142000198364258\n",
      "问题361的相似度为0.7782999873161316\n",
      "问题362的相似度为0.6705999970436096\n",
      "问题363的相似度为0.6869000196456909\n",
      "问题364的相似度为0.722000002861023\n",
      "问题365的相似度为0.6563000082969666\n",
      "问题366的相似度为0.6830999851226807\n",
      "问题367的相似度为0.727400004863739\n",
      "问题368的相似度为0.7077999711036682\n",
      "问题369的相似度为0.7662000060081482\n",
      "问题370的相似度为0.6876000165939331\n",
      "问题371的相似度为0.7271000146865845\n",
      "问题372的相似度为0.7534999847412109\n",
      "问题373的相似度为0.7210000157356262\n",
      "问题374的相似度为0.7354000210762024\n",
      "问题375的相似度为0.756600022315979\n",
      "问题376的相似度为0.7139999866485596\n",
      "问题377的相似度为0.7955999970436096\n",
      "问题378的相似度为0.7598999738693237\n",
      "问题379的相似度为0.7117000222206116\n",
      "问题380的相似度为0.6669999957084656\n",
      "问题381的相似度为0.7085999846458435\n",
      "问题382的相似度为0.854200005531311\n",
      "问题383的相似度为0.7615000009536743\n",
      "问题384的相似度为0.7228999733924866\n",
      "问题385的相似度为0.7648000121116638\n",
      "问题386的相似度为0.7196000218391418\n",
      "问题387的相似度为0.754800021648407\n",
      "问题388的相似度为0.7251999974250793\n",
      "问题389的相似度为0.7009999752044678\n",
      "问题390的相似度为0.7111999988555908\n",
      "问题391的相似度为0.6934999823570251\n",
      "问题392的相似度为0.6949999928474426\n",
      "问题393的相似度为0.7055000066757202\n",
      "问题394的相似度为0.7465000152587891\n",
      "问题395的相似度为0.7738999724388123\n",
      "问题396的相似度为0.7461000084877014\n",
      "问题397的相似度为0.7283999919891357\n",
      "问题398的相似度为0.7767999768257141\n",
      "问题399的相似度为0.7831000089645386\n",
      "问题400的相似度为0.6705999970436096\n",
      "问题401的相似度为0.7700999975204468\n",
      "问题402的相似度为0.7925999760627747\n",
      "问题403的相似度为0.7677000164985657\n",
      "问题404的相似度为0.7519000172615051\n",
      "问题405的相似度为0.715499997138977\n",
      "问题406的相似度为0.6477000117301941\n",
      "问题407的相似度为0.7516999840736389\n",
      "问题408的相似度为0.7117000222206116\n",
      "问题409的相似度为0.6844000220298767\n",
      "问题410的相似度为0.7215999960899353\n",
      "问题411的相似度为0.7807999849319458\n",
      "问题412的相似度为0.6920999884605408\n",
      "问题413的相似度为0.7631999850273132\n",
      "问题414的相似度为0.7186999917030334\n",
      "问题415的相似度为0.7602999806404114\n",
      "问题416的相似度为0.6902999877929688\n",
      "问题417的相似度为0.7028999924659729\n",
      "问题418的相似度为0.7365000247955322\n",
      "问题419的相似度为0.7361000180244446\n",
      "问题420的相似度为0.746399998664856\n",
      "问题421的相似度为0.7372999787330627\n",
      "问题422的相似度为0.6956999897956848\n",
      "问题423的相似度为0.7486000061035156\n",
      "问题424的相似度为0.7038000226020813\n",
      "问题425的相似度为0.754800021648407\n",
      "问题426的相似度为0.6676999926567078\n",
      "问题427的相似度为0.738099992275238\n",
      "问题428的相似度为0.6679999828338623\n",
      "问题429的相似度为0.8263999819755554\n",
      "问题430的相似度为0.7960000038146973\n",
      "问题431的相似度为0.7588000297546387\n",
      "问题432的相似度为0.6991000175476074\n",
      "问题433的相似度为0.7232000231742859\n",
      "问题434的相似度为0.8531000018119812\n",
      "问题435的相似度为0.6787999868392944\n",
      "问题436的相似度为0.704200029373169\n",
      "问题437的相似度为0.8113999962806702\n",
      "问题438的相似度为0.6100000143051147\n",
      "问题439的相似度为0.7278000116348267\n",
      "问题440的相似度为0.6796000003814697\n",
      "问题441的相似度为0.7991999983787537\n",
      "问题442的相似度为0.6905999779701233\n",
      "问题443的相似度为0.7968999743461609\n",
      "问题444的相似度为0.7037000060081482\n",
      "问题445的相似度为0.7164000272750854\n",
      "问题446的相似度为0.7296000123023987\n",
      "问题447的相似度为0.7781999707221985\n",
      "问题448的相似度为0.7233999967575073\n",
      "问题449的相似度为0.7358999848365784\n",
      "问题450的相似度为0.7874000072479248\n",
      "问题451的相似度为0.6965000033378601\n",
      "问题452的相似度为0.7868000268936157\n",
      "问题453的相似度为0.7110999822616577\n",
      "问题454的相似度为0.7268000245094299\n",
      "问题455的相似度为0.6503999829292297\n",
      "问题456的相似度为0.7680000066757202\n",
      "问题457的相似度为0.6967999935150146\n",
      "问题458的相似度为0.6783999800682068\n",
      "问题459的相似度为0.6626999974250793\n",
      "问题460的相似度为0.7426999807357788\n",
      "问题461的相似度为0.7430999875068665\n",
      "问题462的相似度为0.659600019454956\n",
      "问题463的相似度为0.7422000169754028\n",
      "问题464的相似度为0.7864999771118164\n",
      "问题465的相似度为0.7131999731063843\n",
      "问题466的相似度为0.657800018787384\n",
      "问题467的相似度为0.7293000221252441\n",
      "问题468的相似度为0.6833999752998352\n",
      "问题469的相似度为0.8474000096321106\n",
      "问题470的相似度为0.6923999786376953\n",
      "问题471的相似度为0.7106999754905701\n",
      "问题472的相似度为0.7714999914169312\n",
      "问题473的相似度为0.7483000159263611\n",
      "问题474的相似度为0.7519000172615051\n",
      "问题475的相似度为0.7419000267982483\n",
      "问题476的相似度为0.6604999899864197\n",
      "问题477的相似度为0.7670999765396118\n",
      "问题478的相似度为0.7757999897003174\n",
      "问题479的相似度为0.7247999906539917\n",
      "问题480的相似度为0.7782999873161316\n",
      "问题481的相似度为0.777400016784668\n",
      "问题482的相似度为0.7850000262260437\n",
      "问题483的相似度为0.680400013923645\n",
      "问题484的相似度为0.7170000076293945\n",
      "问题485的相似度为0.7631999850273132\n",
      "问题486的相似度为0.6714000105857849\n",
      "问题487的相似度为0.7817000150680542\n",
      "问题488的相似度为0.8112000226974487\n",
      "问题489的相似度为0.7631000280380249\n",
      "问题490的相似度为0.7325999736785889\n",
      "问题491的相似度为0.6881999969482422\n",
      "问题492的相似度为0.798799991607666\n",
      "问题493的相似度为0.7246000170707703\n",
      "问题494的相似度为0.771399974822998\n",
      "问题495的相似度为0.7753999829292297\n",
      "问题496的相似度为0.71670001745224\n",
      "问题497的相似度为0.6660000085830688\n",
      "问题498的相似度为0.7361999750137329\n",
      "问题499的相似度为0.7529000043869019\n",
      "问题500的相似度为0.7210000157356262\n",
      "问题501的相似度为0.6825000047683716\n",
      "问题502的相似度为0.6884999871253967\n",
      "问题503的相似度为0.7177000045776367\n",
      "问题504的相似度为0.8360000252723694\n",
      "问题505的相似度为0.6924999952316284\n",
      "问题506的相似度为0.7318000197410583\n",
      "问题507的相似度为0.7386999726295471\n",
      "问题508的相似度为0.7192000150680542\n",
      "问题509的相似度为0.7644000053405762\n",
      "问题510的相似度为0.8172000050544739\n",
      "问题511的相似度为0.7171000242233276\n",
      "问题512的相似度为0.7448999881744385\n",
      "问题513的相似度为0.699999988079071\n",
      "问题514的相似度为0.758400022983551\n",
      "问题515的相似度为0.7303000092506409\n",
      "问题516的相似度为0.7378000020980835\n",
      "问题517的相似度为0.6542999744415283\n",
      "问题518的相似度为0.8064000010490417\n",
      "问题519的相似度为0.7799000144004822\n",
      "问题520的相似度为0.6753000020980835\n",
      "问题521的相似度为0.7275000214576721\n",
      "问题522的相似度为0.7409999966621399\n",
      "问题523的相似度为0.7451000213623047\n",
      "问题524的相似度为0.7193999886512756\n",
      "问题525的相似度为0.6658999919891357\n",
      "问题526的相似度为0.7633000016212463\n",
      "问题527的相似度为0.63919997215271\n",
      "问题528的相似度为0.7312999963760376\n",
      "问题529的相似度为0.7494000196456909\n",
      "问题530的相似度为0.7221999764442444\n",
      "问题531的相似度为0.7785000205039978\n",
      "问题532的相似度为0.7919999957084656\n",
      "问题533的相似度为0.6798999905586243\n",
      "问题534的相似度为0.6395999789237976\n",
      "问题535的相似度为0.7261000275611877\n",
      "问题536的相似度为0.6658999919891357\n",
      "问题537的相似度为0.7598999738693237\n",
      "问题538的相似度为0.6783000230789185\n",
      "问题539的相似度为0.6830000281333923\n",
      "问题540的相似度为0.6621999740600586\n",
      "问题541的相似度为0.7419000267982483\n",
      "问题542的相似度为0.7350000143051147\n",
      "问题543的相似度为0.7594000101089478\n",
      "问题544的相似度为0.7081999778747559\n",
      "问题545的相似度为0.7383000254631042\n",
      "问题546的相似度为0.7383000254631042\n",
      "问题547的相似度为0.6165000200271606\n",
      "问题548的相似度为0.6646999716758728\n",
      "问题549的相似度为0.7311000227928162\n",
      "问题550的相似度为0.786899983882904\n",
      "问题551的相似度为0.7251999974250793\n",
      "问题552的相似度为0.7856000065803528\n",
      "问题553的相似度为0.7204999923706055\n",
      "问题554的相似度为0.7245000004768372\n",
      "问题555的相似度为0.7077999711036682\n",
      "问题556的相似度为0.7095000147819519\n",
      "问题557的相似度为0.7678999900817871\n",
      "问题558的相似度为0.6269999742507935\n",
      "问题559的相似度为0.7138000130653381\n",
      "问题560的相似度为0.7186999917030334\n",
      "问题561的相似度为0.7519000172615051\n",
      "问题562的相似度为0.7813000082969666\n",
      "问题563的相似度为0.7903000116348267\n",
      "问题564的相似度为0.595300018787384\n",
      "问题565的相似度为0.6897000074386597\n",
      "问题566的相似度为0.820900022983551\n",
      "问题567的相似度为0.6489999890327454\n",
      "问题568的相似度为0.629800021648407\n",
      "问题569的相似度为0.7411999702453613\n",
      "问题570的相似度为0.6514000296592712\n",
      "问题571的相似度为0.7634000182151794\n",
      "问题572的相似度为0.6845999956130981\n",
      "问题573的相似度为0.6897000074386597\n",
      "问题574的相似度为0.7365999817848206\n",
      "问题575的相似度为0.6947000026702881\n",
      "问题576的相似度为0.6776999831199646\n",
      "问题577的相似度为0.6031000018119812\n",
      "问题578的相似度为0.704800009727478\n",
      "问题579的相似度为0.6234999895095825\n",
      "问题580的相似度为0.8016999959945679\n",
      "问题581的相似度为0.7639999985694885\n",
      "问题582的相似度为0.7627999782562256\n",
      "问题583的相似度为0.7997999787330627\n",
      "问题584的相似度为0.7728999853134155\n",
      "问题585的相似度为0.7749000191688538\n",
      "问题586的相似度为0.7659000158309937\n",
      "问题587的相似度为0.7738999724388123\n",
      "问题588的相似度为0.7075999975204468\n",
      "问题589的相似度为0.6902999877929688\n",
      "问题590的相似度为0.7059999704360962\n",
      "问题591的相似度为0.7445999979972839\n",
      "问题592的相似度为0.7720000147819519\n",
      "问题593的相似度为0.7390000224113464\n",
      "问题594的相似度为0.7056000232696533\n",
      "问题595的相似度为0.7782999873161316\n",
      "问题596的相似度为0.7696999907493591\n",
      "问题597的相似度为0.7067000269889832\n",
      "问题598的相似度为0.7687000036239624\n",
      "问题599的相似度为0.763700008392334\n",
      "问题600的相似度为0.7752000093460083\n",
      "问题601的相似度为0.7174000144004822\n",
      "问题602的相似度为0.7409999966621399\n",
      "问题603的相似度为0.7608000040054321\n",
      "问题604的相似度为0.7840999960899353\n",
      "问题605的相似度为0.7588000297546387\n",
      "问题606的相似度为0.7695000171661377\n",
      "问题607的相似度为0.692300021648407\n",
      "问题608的相似度为0.6858999729156494\n",
      "问题609的相似度为0.767300009727478\n",
      "问题610的相似度为0.6825000047683716\n",
      "问题611的相似度为0.7541999816894531\n",
      "问题612的相似度为0.7603999972343445\n",
      "问题613的相似度为0.6784999966621399\n",
      "问题614的相似度为0.7246000170707703\n",
      "问题615的相似度为0.7204999923706055\n",
      "问题616的相似度为0.7706000208854675\n",
      "问题617的相似度为0.7566999793052673\n",
      "问题618的相似度为0.7450000047683716\n",
      "问题619的相似度为0.6419000029563904\n",
      "问题620的相似度为0.6891000270843506\n",
      "问题621的相似度为0.7407000064849854\n",
      "问题622的相似度为0.7281000018119812\n",
      "问题623的相似度为0.7803000211715698\n",
      "问题624的相似度为0.7421000003814697\n",
      "问题625的相似度为0.6783999800682068\n",
      "问题626的相似度为0.7419000267982483\n",
      "问题627的相似度为0.8230999708175659\n",
      "问题628的相似度为0.6830999851226807\n",
      "问题629的相似度为0.7688000202178955\n",
      "问题630的相似度为0.7120000123977661\n",
      "问题631的相似度为0.7203999757766724\n",
      "问题632的相似度为0.7926999926567078\n",
      "问题633的相似度为0.7368999719619751\n",
      "问题634的相似度为0.7081000208854675\n",
      "问题635的相似度为0.7192999720573425\n",
      "问题636的相似度为0.7616000175476074\n",
      "问题637的相似度为0.6259999871253967\n",
      "问题638的相似度为0.7075999975204468\n",
      "问题639的相似度为0.6790000200271606\n",
      "问题640的相似度为0.7975999712944031\n",
      "问题641的相似度为0.6184999942779541\n",
      "问题642的相似度为0.6947000026702881\n",
      "问题643的相似度为0.7889000177383423\n",
      "问题644的相似度为0.6622999906539917\n",
      "问题645的相似度为0.7189000248908997\n",
      "问题646的相似度为0.7346000075340271\n",
      "问题647的相似度为0.661300003528595\n",
      "问题648的相似度为0.7712000012397766\n",
      "问题649的相似度为0.7476000189781189\n",
      "问题650的相似度为0.7414000034332275\n",
      "问题651的相似度为0.7721999883651733\n",
      "问题652的相似度为0.7116000056266785\n",
      "问题653的相似度为0.7964000105857849\n",
      "问题654的相似度为0.6872000098228455\n",
      "问题655的相似度为0.7067999839782715\n",
      "问题656的相似度为0.7501000165939331\n",
      "问题657的相似度为0.6764000058174133\n",
      "问题658的相似度为0.7470999956130981\n",
      "问题659的相似度为0.7174999713897705\n",
      "问题660的相似度为0.6884999871253967\n",
      "问题661的相似度为0.7919999957084656\n",
      "问题662的相似度为0.6481000185012817\n",
      "问题663的相似度为0.7886999845504761\n",
      "问题664的相似度为0.6747999787330627\n",
      "问题665的相似度为0.7875999808311462\n",
      "问题666的相似度为0.7544999718666077\n",
      "问题667的相似度为0.6452000141143799\n",
      "问题668的相似度为0.6560999751091003\n",
      "问题669的相似度为0.698199987411499\n",
      "问题670的相似度为0.7630000114440918\n",
      "问题671的相似度为0.748199999332428\n",
      "问题672的相似度为0.767799973487854\n",
      "问题673的相似度为0.7732999920845032\n",
      "问题674的相似度为0.7294999957084656\n",
      "问题675的相似度为0.642300009727478\n",
      "问题676的相似度为0.7918000221252441\n",
      "问题677的相似度为0.6837000250816345\n",
      "问题678的相似度为0.6399000287055969\n",
      "问题679的相似度为0.8292999863624573\n",
      "问题680的相似度为0.7113000154495239\n",
      "问题681的相似度为0.7860000133514404\n",
      "问题682的相似度为0.713699996471405\n",
      "问题683的相似度为0.7225000262260437\n",
      "问题684的相似度为0.6884999871253967\n",
      "问题685的相似度为0.6847000122070312\n",
      "问题686的相似度为0.6499999761581421\n",
      "问题687的相似度为0.7548999786376953\n",
      "问题688的相似度为0.7145000100135803\n",
      "问题689的相似度为0.7597000002861023\n",
      "问题690的相似度为0.6779999732971191\n",
      "问题691的相似度为0.7346000075340271\n",
      "问题692的相似度为0.647599995136261\n",
      "问题693的相似度为0.7056999802589417\n",
      "问题694的相似度为0.8115000128746033\n",
      "问题695的相似度为0.6711000204086304\n",
      "问题696的相似度为0.6689000129699707\n",
      "问题697的相似度为0.6424000263214111\n",
      "问题698的相似度为0.7746000289916992\n",
      "问题699的相似度为0.6545000076293945\n",
      "问题700的相似度为0.739300012588501\n",
      "问题701的相似度为0.6758999824523926\n",
      "问题702的相似度为0.7016000151634216\n",
      "问题703的相似度为0.6384999752044678\n",
      "问题704的相似度为0.7052000164985657\n",
      "问题705的相似度为0.6528000235557556\n",
      "问题706的相似度为0.6371999979019165\n",
      "问题707的相似度为0.7919999957084656\n",
      "问题708的相似度为0.7982000112533569\n",
      "问题709的相似度为0.7098000049591064\n",
      "问题710的相似度为0.7646999955177307\n",
      "问题711的相似度为0.8125\n",
      "问题712的相似度为0.6967999935150146\n",
      "问题713的相似度为0.7412999868392944\n",
      "问题714的相似度为0.729200005531311\n",
      "问题715的相似度为0.7534999847412109\n",
      "问题716的相似度为0.7667999863624573\n",
      "问题717的相似度为0.705299973487854\n",
      "问题718的相似度为0.6478000283241272\n",
      "问题719的相似度为0.7694000005722046\n",
      "问题720的相似度为0.7281000018119812\n",
      "问题721的相似度为0.6008999943733215\n",
      "问题722的相似度为0.6414999961853027\n",
      "问题723的相似度为0.7962999939918518\n",
      "问题724的相似度为0.7211999893188477\n",
      "问题725的相似度为0.7530999779701233\n",
      "问题726的相似度为0.6873000264167786\n",
      "问题727的相似度为0.7075999975204468\n",
      "问题728的相似度为0.7864000201225281\n",
      "问题729的相似度为0.730400025844574\n",
      "问题730的相似度为0.73089998960495\n",
      "问题731的相似度为0.7709000110626221\n",
      "问题732的相似度为0.678600013256073\n",
      "问题733的相似度为0.8034999966621399\n",
      "问题734的相似度为0.7246999740600586\n",
      "问题735的相似度为0.7692000269889832\n",
      "问题736的相似度为0.7932000160217285\n",
      "问题737的相似度为0.6930000185966492\n",
      "问题738的相似度为0.7825000286102295\n",
      "问题739的相似度为0.743399977684021\n",
      "问题740的相似度为0.7560999989509583\n",
      "问题741的相似度为0.7016000151634216\n",
      "问题742的相似度为0.6937000155448914\n",
      "问题743的相似度为0.7457000017166138\n",
      "问题744的相似度为0.7297000288963318\n",
      "问题745的相似度为0.7595999836921692\n",
      "问题746的相似度为0.7037000060081482\n",
      "问题747的相似度为0.7432000041007996\n",
      "问题748的相似度为0.7355999946594238\n",
      "问题749的相似度为0.8185999989509583\n",
      "问题750的相似度为0.715499997138977\n",
      "问题751的相似度为0.741599977016449\n",
      "问题752的相似度为0.796500027179718\n",
      "问题753的相似度为0.8155999779701233\n",
      "问题754的相似度为0.7461000084877014\n",
      "问题755的相似度为0.7394000291824341\n",
      "问题756的相似度为0.7110999822616577\n",
      "问题757的相似度为0.7307999730110168\n",
      "问题758的相似度为0.7283999919891357\n",
      "问题759的相似度为0.6276000142097473\n",
      "问题760的相似度为0.6972000002861023\n",
      "问题761的相似度为0.7347000241279602\n",
      "问题762的相似度为0.6650000214576721\n",
      "问题763的相似度为0.6909000277519226\n",
      "问题764的相似度为0.7225000262260437\n",
      "问题765的相似度为0.6794000267982483\n",
      "问题766的相似度为0.8281000256538391\n",
      "问题767的相似度为0.7161999940872192\n",
      "问题768的相似度为0.70169997215271\n",
      "问题769的相似度为0.7749000191688538\n",
      "问题770的相似度为0.7276999950408936\n",
      "问题771的相似度为0.7322999835014343\n",
      "问题772的相似度为0.7537999749183655\n",
      "问题773的相似度为0.7621999979019165\n",
      "问题774的相似度为0.7071999907493591\n",
      "问题775的相似度为0.7494000196456909\n",
      "问题776的相似度为0.6729000210762024\n",
      "问题777的相似度为0.7875999808311462\n",
      "问题778的相似度为0.7340999841690063\n",
      "问题779的相似度为0.7010999917984009\n",
      "问题780的相似度为0.7504000067710876\n",
      "问题781的相似度为0.7657999992370605\n",
      "问题782的相似度为0.7415000200271606\n",
      "问题783的相似度为0.7117999792098999\n",
      "问题784的相似度为0.7196999788284302\n",
      "问题785的相似度为0.6650000214576721\n",
      "问题786的相似度为0.8029999732971191\n",
      "问题787的相似度为0.7491999864578247\n",
      "问题788的相似度为0.6769000291824341\n",
      "问题789的相似度为0.7447999715805054\n",
      "问题790的相似度为0.7319999933242798\n",
      "问题791的相似度为0.6812000274658203\n",
      "问题792的相似度为0.7422000169754028\n",
      "问题793的相似度为0.7185999751091003\n",
      "问题794的相似度为0.7294999957084656\n",
      "问题795的相似度为0.7095999717712402\n",
      "问题796的相似度为0.7473999857902527\n",
      "问题797的相似度为0.7547000050544739\n",
      "问题798的相似度为0.7168999910354614\n",
      "问题799的相似度为0.7497000098228455\n",
      "问题800的相似度为0.8148000240325928\n",
      "问题801的相似度为0.6837999820709229\n",
      "问题802的相似度为0.7141000032424927\n",
      "问题803的相似度为0.66839998960495\n",
      "问题804的相似度为0.6588000059127808\n",
      "问题805的相似度为0.6225000023841858\n",
      "问题806的相似度为0.703000009059906\n",
      "问题807的相似度为0.7784000039100647\n",
      "问题808的相似度为0.7414000034332275\n",
      "问题809的相似度为0.7240999937057495\n",
      "问题810的相似度为0.7293000221252441\n",
      "问题811的相似度为0.7576000094413757\n",
      "问题812的相似度为0.6671000123023987\n",
      "问题813的相似度为0.7644000053405762\n",
      "问题814的相似度为0.6747999787330627\n",
      "问题815的相似度为0.7419000267982483\n",
      "问题816的相似度为0.7914999723434448\n",
      "问题817的相似度为0.7671999931335449\n",
      "问题818的相似度为0.6952999830245972\n",
      "问题819的相似度为0.7480999827384949\n",
      "问题820的相似度为0.7526999711990356\n",
      "问题821的相似度为0.7088000178337097\n",
      "问题822的相似度为0.7315000295639038\n",
      "问题823的相似度为0.7487999796867371\n",
      "问题824的相似度为0.7749000191688538\n",
      "问题825的相似度为0.6944000124931335\n",
      "问题826的相似度为0.8030999898910522\n",
      "问题827的相似度为0.6678000092506409\n",
      "问题828的相似度为0.6902999877929688\n",
      "问题829的相似度为0.670199990272522\n",
      "问题830的相似度为0.7623000144958496\n",
      "问题831的相似度为0.6805999875068665\n",
      "问题832的相似度为0.7565000057220459\n",
      "问题833的相似度为0.7340999841690063\n",
      "问题834的相似度为0.7378000020980835\n",
      "问题835的相似度为0.757099986076355\n",
      "问题836的相似度为0.723800003528595\n",
      "问题837的相似度为0.7720999717712402\n",
      "问题838的相似度为0.8507999777793884\n",
      "问题839的相似度为0.711899995803833\n",
      "问题840的相似度为0.7202000021934509\n",
      "问题841的相似度为0.7423999905586243\n",
      "问题842的相似度为0.7592999935150146\n",
      "问题843的相似度为0.7627999782562256\n",
      "问题844的相似度为0.7545999884605408\n",
      "问题845的相似度为0.7210000157356262\n",
      "问题846的相似度为0.7581999897956848\n",
      "问题847的相似度为0.7229999899864197\n",
      "问题848的相似度为0.7724000215530396\n",
      "问题849的相似度为0.7318000197410583\n",
      "问题850的相似度为0.7019000053405762\n",
      "问题851的相似度为0.7925999760627747\n",
      "问题852的相似度为0.7534000277519226\n",
      "问题853的相似度为0.7116000056266785\n",
      "问题854的相似度为0.7803000211715698\n",
      "问题855的相似度为0.7127000093460083\n",
      "问题856的相似度为0.725600004196167\n",
      "问题857的相似度为0.8434000015258789\n",
      "问题858的相似度为0.8051000237464905\n",
      "问题859的相似度为0.698199987411499\n",
      "问题860的相似度为0.7243000268936157\n",
      "问题861的相似度为0.7962999939918518\n",
      "问题862的相似度为0.7041000127792358\n",
      "问题863的相似度为0.7062000036239624\n",
      "问题864的相似度为0.714900016784668\n",
      "问题865的相似度为0.7407000064849854\n",
      "问题866的相似度为0.7703999876976013\n",
      "问题867的相似度为0.7342000007629395\n",
      "问题868的相似度为0.6805999875068665\n",
      "问题869的相似度为0.8086000084877014\n",
      "问题870的相似度为0.7538999915122986\n",
      "问题871的相似度为0.777400016784668\n",
      "问题872的相似度为0.7283999919891357\n",
      "问题873的相似度为0.715399980545044\n",
      "问题874的相似度为0.7418000102043152\n",
      "问题875的相似度为0.7544000148773193\n",
      "问题876的相似度为0.7580999732017517\n",
      "问题877的相似度为0.7215999960899353\n",
      "问题878的相似度为0.7893000245094299\n",
      "问题879的相似度为0.8708000183105469\n",
      "问题880的相似度为0.7753999829292297\n",
      "问题881的相似度为0.7681000232696533\n",
      "问题882的相似度为0.737500011920929\n",
      "问题883的相似度为0.6082000136375427\n",
      "问题884的相似度为0.6872000098228455\n",
      "问题885的相似度为0.7501999735832214\n",
      "问题886的相似度为0.7145000100135803\n",
      "问题887的相似度为0.7782999873161316\n",
      "问题888的相似度为0.7400000095367432\n",
      "问题889的相似度为0.6789000034332275\n",
      "问题890的相似度为0.7300000190734863\n",
      "问题891的相似度为0.7983999848365784\n",
      "问题892的相似度为0.7723000049591064\n",
      "问题893的相似度为0.7476000189781189\n",
      "问题894的相似度为0.6985999941825867\n",
      "问题895的相似度为0.7117999792098999\n",
      "问题896的相似度为0.7781999707221985\n",
      "问题897的相似度为0.6675000190734863\n",
      "问题898的相似度为0.6956999897956848\n",
      "问题899的相似度为0.6729999780654907\n",
      "问题900的相似度为0.7314000129699707\n",
      "问题901的相似度为0.7152000069618225\n",
      "问题902的相似度为0.684499979019165\n",
      "问题903的相似度为0.7290999889373779\n",
      "问题904的相似度为0.6692000031471252\n",
      "问题905的相似度为0.61080002784729\n",
      "问题906的相似度为0.769599974155426\n",
      "问题907的相似度为0.7865999937057495\n",
      "问题908的相似度为0.7623999714851379\n",
      "问题909的相似度为0.760699987411499\n",
      "问题910的相似度为0.7455000281333923\n",
      "问题911的相似度为0.754800021648407\n",
      "问题912的相似度为0.7682999968528748\n",
      "问题913的相似度为0.6518999934196472\n",
      "问题914的相似度为0.7063000202178955\n",
      "问题915的相似度为0.7152000069618225\n",
      "问题916的相似度为0.7336000204086304\n",
      "问题917的相似度为0.691100001335144\n",
      "问题918的相似度为0.6998000144958496\n",
      "问题919的相似度为0.6606000065803528\n",
      "问题920的相似度为0.7578999996185303\n",
      "问题921的相似度为0.817799985408783\n",
      "问题922的相似度为0.7293000221252441\n",
      "问题923的相似度为0.7576000094413757\n",
      "问题924的相似度为0.6974999904632568\n",
      "问题925的相似度为0.7275999784469604\n",
      "问题926的相似度为0.7218999862670898\n",
      "问题927的相似度为0.6574000120162964\n",
      "问题928的相似度为0.6359000205993652\n",
      "问题929的相似度为0.669700026512146\n",
      "问题930的相似度为0.7206000089645386\n",
      "问题931的相似度为0.6988999843597412\n",
      "问题932的相似度为0.7544999718666077\n",
      "问题933的相似度为0.7912999987602234\n",
      "问题934的相似度为0.6894999742507935\n",
      "问题935的相似度为0.7583000063896179\n",
      "问题936的相似度为0.6974999904632568\n",
      "问题937的相似度为0.6862999796867371\n",
      "问题938的相似度为0.7250000238418579\n",
      "问题939的相似度为0.7264999747276306\n",
      "问题940的相似度为0.7263000011444092\n",
      "问题941的相似度为0.6498000025749207\n",
      "问题942的相似度为0.7623999714851379\n",
      "问题943的相似度为0.7623999714851379\n",
      "问题944的相似度为0.6687999963760376\n",
      "问题945的相似度为0.67330002784729\n",
      "问题946的相似度为0.7817000150680542\n",
      "问题947的相似度为0.7519000172615051\n",
      "问题948的相似度为0.6840000152587891\n",
      "问题949的相似度为0.7064999938011169\n",
      "问题950的相似度为0.7750999927520752\n",
      "问题951的相似度为0.7249000072479248\n",
      "问题952的相似度为0.6553000211715698\n",
      "问题953的相似度为0.76910001039505\n",
      "问题954的相似度为0.8277000188827515\n",
      "问题955的相似度为0.7185999751091003\n",
      "问题956的相似度为0.8127999901771545\n",
      "问题957的相似度为0.6480000019073486\n",
      "问题958的相似度为0.79830002784729\n",
      "问题959的相似度为0.7712000012397766\n",
      "问题960的相似度为0.7013999819755554\n",
      "问题961的相似度为0.7562000155448914\n",
      "问题962的相似度为0.6995000243186951\n",
      "问题963的相似度为0.8105000257492065\n",
      "问题964的相似度为0.7870000004768372\n",
      "问题965的相似度为0.8197000026702881\n",
      "问题966的相似度为0.6805999875068665\n",
      "问题967的相似度为0.7688000202178955\n",
      "问题968的相似度为0.7156999707221985\n",
      "问题969的相似度为0.7077000141143799\n",
      "问题970的相似度为0.6876999735832214\n",
      "问题971的相似度为0.7608000040054321\n",
      "问题972的相似度为0.7968999743461609\n",
      "问题973的相似度为0.6966000199317932\n",
      "问题974的相似度为0.722000002861023\n",
      "问题975的相似度为0.6754999756813049\n",
      "问题976的相似度为0.7472000122070312\n",
      "问题977的相似度为0.703000009059906\n",
      "问题978的相似度为0.7307999730110168\n",
      "问题979的相似度为0.7190999984741211\n",
      "问题980的相似度为0.7444000244140625\n",
      "问题981的相似度为0.6575999855995178\n",
      "问题982的相似度为0.7389000058174133\n",
      "问题983的相似度为0.75\n",
      "问题984的相似度为0.642300009727478\n",
      "问题985的相似度为0.6593000292778015\n",
      "问题986的相似度为0.7700999975204468\n",
      "问题987的相似度为0.7735999822616577\n",
      "问题988的相似度为0.7350999712944031\n",
      "问题989的相似度为0.6984000205993652\n",
      "问题990的相似度为0.6895999908447266\n",
      "问题991的相似度为0.7817999720573425\n",
      "问题992的相似度为0.7373999953269958\n",
      "问题993的相似度为0.7134000062942505\n",
      "问题994的相似度为0.7348999977111816\n",
      "问题995的相似度为0.6769000291824341\n",
      "问题996的相似度为0.7688999772071838\n",
      "问题997的相似度为0.6704999804496765\n",
      "问题998的相似度为0.6097000241279602\n",
      "问题999的相似度为0.7662000060081482\n",
      "问题1000的相似度为0.7016000151634216\n"
     ]
    }
   ],
   "source": [
    "#问题和最佳答案的相似度\n",
    "similarity=[]\n",
    "for i in range(len(new_data['问题'])):\n",
    "    similarity.append(semantic_similarity(new_data['best_answer'][i],new_data['问题'][i]))\n",
    "    print(f'问题{i+1}的相似度为{similarity[i]}')"
   ],
   "metadata": {
    "collapsed": false,
    "ExecuteTime": {
     "end_time": "2024-04-20T11:47:24.992308400Z",
     "start_time": "2024-04-20T11:34:38.637778100Z"
    }
   },
   "id": "36579dc46eb94160"
  },
  {
   "cell_type": "code",
   "execution_count": 45,
   "outputs": [],
   "source": [
    "new_data_features=pd.read_csv('new_data_feature.csv')"
   ],
   "metadata": {
    "collapsed": false,
    "ExecuteTime": {
     "end_time": "2024-04-20T11:51:24.799093Z",
     "start_time": "2024-04-20T11:51:24.717050700Z"
    }
   },
   "id": "ab62de5b1f48c17d"
  },
  {
   "cell_type": "code",
   "execution_count": 47,
   "outputs": [],
   "source": [
    "new_data_features['semantic_similarity']=similarity"
   ],
   "metadata": {
    "collapsed": false,
    "ExecuteTime": {
     "end_time": "2024-04-20T11:52:05.961905300Z",
     "start_time": "2024-04-20T11:52:05.899973400Z"
    }
   },
   "id": "1e6d1f02ed5cf06f"
  },
  {
   "cell_type": "code",
   "execution_count": 48,
   "outputs": [],
   "source": [
    "new_data_features.to_csv('new_data_feature.csv',index=False)"
   ],
   "metadata": {
    "collapsed": false,
    "ExecuteTime": {
     "end_time": "2024-04-20T11:52:18.661611800Z",
     "start_time": "2024-04-20T11:52:18.523059700Z"
    }
   },
   "id": "9a57cf20a45e5ab"
  },
  {
   "cell_type": "code",
   "execution_count": 49,
   "outputs": [
    {
     "data": {
      "text/plain": "        Unnamed: 0     len_text  num_sentences    num_words  num_stopwords  \\\ncount  1000.000000  1000.000000    1000.000000  1000.000000    1000.000000   \nmean    499.500000   217.926000       6.617000   120.246000      43.893000   \nstd     288.819436    89.150246       2.101125    46.123865      16.781215   \nmin       0.000000    36.000000       2.000000    19.000000       8.000000   \n25%     249.750000   142.000000       5.000000    81.000000      32.000000   \n50%     499.500000   205.000000       6.000000   113.000000      42.000000   \n75%     749.250000   282.000000       8.000000   154.000000      54.000000   \nmax     999.000000   540.000000      15.000000   327.000000     121.000000   \n\n       num_punctuations  num_short_sentences  num_adjectives    num_verbs  \\\ncount       1000.000000          1000.000000     1000.000000  1000.000000   \nmean          18.727000            17.560000        4.962000    31.457000   \nstd            8.731937             8.667498        3.096473    13.672494   \nmin            3.000000             2.000000        0.000000     4.000000   \n25%           11.000000            10.000000        3.000000    20.000000   \n50%           17.500000            16.000000        4.000000    29.000000   \n75%           25.000000            24.000000        7.000000    42.000000   \nmax           53.000000            53.000000       18.000000    84.000000   \n\n         num_nouns  num_adverbs  num_keywords  text_entropy  \\\ncount  1000.000000  1000.000000   1000.000000   1000.000000   \nmean     31.923000     3.775000     76.353000      5.628748   \nstd      13.839603     2.459761     32.468702      0.538853   \nmin       3.000000     0.000000      6.000000      2.585000   \n25%      21.000000     2.000000     49.000000      5.209500   \n50%      30.000000     3.000000     71.000000      5.643900   \n75%      42.000000     5.000000    100.000000      6.044400   \nmax      93.000000    18.000000    227.000000      6.965800   \n\n       num_medical_terms  medical_keywords_ratio  keywords_overlap  \\\ncount        1000.000000             1000.000000       1000.000000   \nmean            4.161000                0.055009          0.082395   \nstd             3.164663                0.035962          0.046077   \nmin             0.000000                0.000000          0.000000   \n25%             2.000000                0.029000          0.050000   \n50%             4.000000                0.049500          0.072500   \n75%             6.000000                0.074000          0.104000   \nmax            24.000000                0.237000          0.333000   \n\n       semantic_similarity  num_positive_words  num_native_words  \\\ncount          1000.000000         1000.000000       1000.000000   \nmean              0.730016           32.756000         17.031000   \nstd               0.046593           15.188784          8.344679   \nmin               0.590200            2.000000          2.000000   \n25%               0.697600           21.000000         11.000000   \n50%               0.731200           30.000000         15.000000   \n75%               0.763850           42.000000         22.000000   \nmax               0.870800           86.000000         49.000000   \n\n       sentiment_polarity  \ncount         1000.000000  \nmean             0.827574  \nstd              0.341027  \nmin              0.000000  \n25%              0.938480  \n50%              0.999980  \n75%              1.000000  \nmax              1.000000  ",
      "text/html": "<div>\n<style scoped>\n    .dataframe tbody tr th:only-of-type {\n        vertical-align: middle;\n    }\n\n    .dataframe tbody tr th {\n        vertical-align: top;\n    }\n\n    .dataframe thead th {\n        text-align: right;\n    }\n</style>\n<table border=\"1\" class=\"dataframe\">\n  <thead>\n    <tr style=\"text-align: right;\">\n      <th></th>\n      <th>Unnamed: 0</th>\n      <th>len_text</th>\n      <th>num_sentences</th>\n      <th>num_words</th>\n      <th>num_stopwords</th>\n      <th>num_punctuations</th>\n      <th>num_short_sentences</th>\n      <th>num_adjectives</th>\n      <th>num_verbs</th>\n      <th>num_nouns</th>\n      <th>num_adverbs</th>\n      <th>num_keywords</th>\n      <th>text_entropy</th>\n      <th>num_medical_terms</th>\n      <th>medical_keywords_ratio</th>\n      <th>keywords_overlap</th>\n      <th>semantic_similarity</th>\n      <th>num_positive_words</th>\n      <th>num_native_words</th>\n      <th>sentiment_polarity</th>\n    </tr>\n  </thead>\n  <tbody>\n    <tr>\n      <th>count</th>\n      <td>1000.000000</td>\n      <td>1000.000000</td>\n      <td>1000.000000</td>\n      <td>1000.000000</td>\n      <td>1000.000000</td>\n      <td>1000.000000</td>\n      <td>1000.000000</td>\n      <td>1000.000000</td>\n      <td>1000.000000</td>\n      <td>1000.000000</td>\n      <td>1000.000000</td>\n      <td>1000.000000</td>\n      <td>1000.000000</td>\n      <td>1000.000000</td>\n      <td>1000.000000</td>\n      <td>1000.000000</td>\n      <td>1000.000000</td>\n      <td>1000.000000</td>\n      <td>1000.000000</td>\n      <td>1000.000000</td>\n    </tr>\n    <tr>\n      <th>mean</th>\n      <td>499.500000</td>\n      <td>217.926000</td>\n      <td>6.617000</td>\n      <td>120.246000</td>\n      <td>43.893000</td>\n      <td>18.727000</td>\n      <td>17.560000</td>\n      <td>4.962000</td>\n      <td>31.457000</td>\n      <td>31.923000</td>\n      <td>3.775000</td>\n      <td>76.353000</td>\n      <td>5.628748</td>\n      <td>4.161000</td>\n      <td>0.055009</td>\n      <td>0.082395</td>\n      <td>0.730016</td>\n      <td>32.756000</td>\n      <td>17.031000</td>\n      <td>0.827574</td>\n    </tr>\n    <tr>\n      <th>std</th>\n      <td>288.819436</td>\n      <td>89.150246</td>\n      <td>2.101125</td>\n      <td>46.123865</td>\n      <td>16.781215</td>\n      <td>8.731937</td>\n      <td>8.667498</td>\n      <td>3.096473</td>\n      <td>13.672494</td>\n      <td>13.839603</td>\n      <td>2.459761</td>\n      <td>32.468702</td>\n      <td>0.538853</td>\n      <td>3.164663</td>\n      <td>0.035962</td>\n      <td>0.046077</td>\n      <td>0.046593</td>\n      <td>15.188784</td>\n      <td>8.344679</td>\n      <td>0.341027</td>\n    </tr>\n    <tr>\n      <th>min</th>\n      <td>0.000000</td>\n      <td>36.000000</td>\n      <td>2.000000</td>\n      <td>19.000000</td>\n      <td>8.000000</td>\n      <td>3.000000</td>\n      <td>2.000000</td>\n      <td>0.000000</td>\n      <td>4.000000</td>\n      <td>3.000000</td>\n      <td>0.000000</td>\n      <td>6.000000</td>\n      <td>2.585000</td>\n      <td>0.000000</td>\n      <td>0.000000</td>\n      <td>0.000000</td>\n      <td>0.590200</td>\n      <td>2.000000</td>\n      <td>2.000000</td>\n      <td>0.000000</td>\n    </tr>\n    <tr>\n      <th>25%</th>\n      <td>249.750000</td>\n      <td>142.000000</td>\n      <td>5.000000</td>\n      <td>81.000000</td>\n      <td>32.000000</td>\n      <td>11.000000</td>\n      <td>10.000000</td>\n      <td>3.000000</td>\n      <td>20.000000</td>\n      <td>21.000000</td>\n      <td>2.000000</td>\n      <td>49.000000</td>\n      <td>5.209500</td>\n      <td>2.000000</td>\n      <td>0.029000</td>\n      <td>0.050000</td>\n      <td>0.697600</td>\n      <td>21.000000</td>\n      <td>11.000000</td>\n      <td>0.938480</td>\n    </tr>\n    <tr>\n      <th>50%</th>\n      <td>499.500000</td>\n      <td>205.000000</td>\n      <td>6.000000</td>\n      <td>113.000000</td>\n      <td>42.000000</td>\n      <td>17.500000</td>\n      <td>16.000000</td>\n      <td>4.000000</td>\n      <td>29.000000</td>\n      <td>30.000000</td>\n      <td>3.000000</td>\n      <td>71.000000</td>\n      <td>5.643900</td>\n      <td>4.000000</td>\n      <td>0.049500</td>\n      <td>0.072500</td>\n      <td>0.731200</td>\n      <td>30.000000</td>\n      <td>15.000000</td>\n      <td>0.999980</td>\n    </tr>\n    <tr>\n      <th>75%</th>\n      <td>749.250000</td>\n      <td>282.000000</td>\n      <td>8.000000</td>\n      <td>154.000000</td>\n      <td>54.000000</td>\n      <td>25.000000</td>\n      <td>24.000000</td>\n      <td>7.000000</td>\n      <td>42.000000</td>\n      <td>42.000000</td>\n      <td>5.000000</td>\n      <td>100.000000</td>\n      <td>6.044400</td>\n      <td>6.000000</td>\n      <td>0.074000</td>\n      <td>0.104000</td>\n      <td>0.763850</td>\n      <td>42.000000</td>\n      <td>22.000000</td>\n      <td>1.000000</td>\n    </tr>\n    <tr>\n      <th>max</th>\n      <td>999.000000</td>\n      <td>540.000000</td>\n      <td>15.000000</td>\n      <td>327.000000</td>\n      <td>121.000000</td>\n      <td>53.000000</td>\n      <td>53.000000</td>\n      <td>18.000000</td>\n      <td>84.000000</td>\n      <td>93.000000</td>\n      <td>18.000000</td>\n      <td>227.000000</td>\n      <td>6.965800</td>\n      <td>24.000000</td>\n      <td>0.237000</td>\n      <td>0.333000</td>\n      <td>0.870800</td>\n      <td>86.000000</td>\n      <td>49.000000</td>\n      <td>1.000000</td>\n    </tr>\n  </tbody>\n</table>\n</div>"
     },
     "execution_count": 49,
     "metadata": {},
     "output_type": "execute_result"
    }
   ],
   "source": [
    "new_data_features.describe()"
   ],
   "metadata": {
    "collapsed": false,
    "ExecuteTime": {
     "end_time": "2024-04-20T11:52:28.314447900Z",
     "start_time": "2024-04-20T11:52:27.910350800Z"
    }
   },
   "id": "a7451bfdc04514ae"
  },
  {
   "cell_type": "code",
   "execution_count": null,
   "outputs": [],
   "source": [],
   "metadata": {
    "collapsed": false
   },
   "id": "2554c8e87a47ab03"
  }
 ],
 "metadata": {
  "kernelspec": {
   "display_name": "Python 3",
   "language": "python",
   "name": "python3"
  },
  "language_info": {
   "codemirror_mode": {
    "name": "ipython",
    "version": 2
   },
   "file_extension": ".py",
   "mimetype": "text/x-python",
   "name": "python",
   "nbconvert_exporter": "python",
   "pygments_lexer": "ipython2",
   "version": "2.7.6"
  }
 },
 "nbformat": 4,
 "nbformat_minor": 5
}
