{
 "cells": [
  {
   "cell_type": "markdown",
   "source": [
    "读取数据"
   ],
   "metadata": {
    "collapsed": false
   },
   "id": "ba596b7e2e2fc189"
  },
  {
   "cell_type": "code",
   "execution_count": 17,
   "outputs": [],
   "source": [
    "import numpy as np\n",
    "import pandas as pd\n",
    "from sklearn.metrics import accuracy_score, precision_score, recall_score, roc_auc_score, f1_score, roc_curve, auc\n",
    "import matplotlib.pyplot as plt\n",
    "from keras.models import Sequential\n",
    "import tensorflow as tf\n",
    "from keras.layers import Embedding, LSTM, Dense, Attention,Input\n",
    "from keras.src.callbacks import LambdaCallback\n",
    "import torch\n",
    "from keras.models import Model"
   ],
   "metadata": {
    "collapsed": false,
    "ExecuteTime": {
     "end_time": "2024-04-03T18:04:00.401447500Z",
     "start_time": "2024-04-03T18:04:00.387452800Z"
    }
   },
   "id": "e31d36d0424ac85b"
  },
  {
   "cell_type": "code",
   "execution_count": 2,
   "outputs": [],
   "source": [
    "from imblearn.over_sampling import SMOTE\n",
    "\n",
    "#不均衡采样\n",
    "def smote(X_train, y_train):\n",
    "    # Create an instance of SMOTE\n",
    "    smote = SMOTE(random_state=10)\n",
    "    # Apply SMOTE to the training data\n",
    "    X_train_resampled, y_train_resampled = smote.fit_resample(X_train, y_train)\n",
    "    return X_train_resampled, y_train_resampled"
   ],
   "metadata": {
    "collapsed": false,
    "ExecuteTime": {
     "end_time": "2024-04-03T17:58:01.276760Z",
     "start_time": "2024-04-03T17:57:59.990293300Z"
    }
   },
   "id": "9ce2799e24cf4e66"
  },
  {
   "cell_type": "code",
   "execution_count": 4,
   "outputs": [],
   "source": [
    "# 加载本地数据集\n",
    "# X_train = pd.read_csv(r\"scale/X_train_minmaxscaler.csv\")['ChatGPT回答']\n",
    "# X_test = pd.read_csv(r\"scale/X_test_minmaxscaler.csv\")['ChatGPT回答']\n",
    "y_train = pd.read_csv(r\"data/y_train_minmaxscaler.csv\")\n",
    "y_test = pd.read_csv(r\"data/y_test_minmaxscaler.csv\")"
   ],
   "metadata": {
    "collapsed": false,
    "ExecuteTime": {
     "end_time": "2024-04-03T17:58:18.116232800Z",
     "start_time": "2024-04-03T17:58:18.067932400Z"
    }
   },
   "id": "fd8a281c906ec483"
  },
  {
   "cell_type": "code",
   "execution_count": 5,
   "outputs": [],
   "source": [
    "# 构建词向量\n",
    "X_train_embedding = torch.load('data_embedding/train_embedding.pt',map_location=torch.device('cpu')).numpy()\n",
    "X_test_embedding = torch.load('data_embedding/test_embedding.pt',map_location=torch.device('cpu')).numpy()"
   ],
   "metadata": {
    "collapsed": false,
    "ExecuteTime": {
     "end_time": "2024-04-03T17:58:23.261771600Z",
     "start_time": "2024-04-03T17:58:20.082487200Z"
    }
   },
   "id": "ca743b327e1fae51"
  },
  {
   "cell_type": "code",
   "execution_count": null,
   "outputs": [],
   "source": [
    "# smote数据均衡化\n",
    "X_train_embedding, y_train = smote(X_train_embedding, y_train)\n",
    "X_test_embedding, y_test = smote(X_test_embedding, y_test)"
   ],
   "metadata": {
    "collapsed": false
   },
   "id": "c8114c5dd09ee7cb"
  },
  {
   "cell_type": "code",
   "execution_count": 6,
   "outputs": [],
   "source": [
    "#改变数据形状\n",
    "X_train_embedding= torch.unsqueeze(torch.tensor(X_train_embedding),dim=1).numpy()\n",
    "X_test_embedding= torch.unsqueeze(torch.tensor(X_test_embedding),dim=1).numpy()"
   ],
   "metadata": {
    "collapsed": false,
    "ExecuteTime": {
     "end_time": "2024-04-03T17:58:26.169350900Z",
     "start_time": "2024-04-03T17:58:25.680919400Z"
    }
   },
   "id": "2d8d3b3c232b9f36"
  },
  {
   "cell_type": "markdown",
   "source": [
    "TxtRNN模型"
   ],
   "metadata": {
    "collapsed": false
   },
   "id": "31e51d84ab12cfd1"
  },
  {
   "cell_type": "code",
   "execution_count": 1,
   "outputs": [],
   "source": [
    "# # 构建RNN模型\n",
    "# model = Sequential()\n",
    "# model.add(Input(shape=(1, 768)))\n",
    "# model.add(LSTM(256))\n",
    "# model.add(Dense(128, activation='relu'))\n",
    "# model.add(Dense(64, activation='relu'))\n",
    "# model.add(Dense(1, activation='sigmoid'))\n",
    "# model.summary()"
   ],
   "metadata": {
    "collapsed": false,
    "ExecuteTime": {
     "end_time": "2024-05-30T10:54:47.658077300Z",
     "start_time": "2024-05-30T10:54:47.649857900Z"
    }
   },
   "id": "c3fced400ee51dd6"
  },
  {
   "cell_type": "code",
   "execution_count": 2,
   "outputs": [],
   "source": [
    "# 构建RNN_attention模型\n",
    "\n",
    "inputs = Input(shape=(1, 768))  # 假设输入形状为(1, 768)\n",
    "# 添加LSTM层\n",
    "lstm_layer = LSTM(256, return_sequences=True)(inputs)\n",
    "# 添加Dense层作为query和value\n",
    "query = Dense(128)(lstm_layer)\n",
    "value = Dense(128)(lstm_layer)\n",
    "# 添加Attention层\n",
    "attention = Attention()([query, value])\n",
    "\n",
    "# 添加全连接层\n",
    "dense_layer = Dense(128, activation='relu')(attention)\n",
    "output_layer = Dense(64, activation='relu')(dense_layer)\n",
    "# 添加输出层\n",
    "output = Dense(1, activation='sigmoid')(output_layer)\n",
    "# 构建模型\n",
    "model = Model(inputs=inputs, outputs=output)\n",
    "\n",
    "#模型结构\n",
    "# model.summary()"
   ],
   "metadata": {
    "collapsed": false,
    "ExecuteTime": {
     "end_time": "2024-05-30T10:54:56.965637300Z",
     "start_time": "2024-05-30T10:54:56.894435900Z"
    }
   },
   "id": "aae03584f57c7f7e"
  },
  {
   "cell_type": "code",
   "execution_count": 19,
   "outputs": [],
   "source": [
    "# 编译模型\n",
    "optimizer= tf.keras.optimizers.legacy.Adam(learning_rate=0.0001,decay=1e-6)#注意legacy\n",
    "model.compile(loss='mean_squared_error', optimizer=optimizer, metrics=['accuracy'])"
   ],
   "metadata": {
    "collapsed": false,
    "ExecuteTime": {
     "end_time": "2024-04-03T18:04:13.873546400Z",
     "start_time": "2024-04-03T18:04:13.854322900Z"
    }
   },
   "id": "f1513a3a42f0ac1d"
  },
  {
   "cell_type": "code",
   "execution_count": 20,
   "outputs": [],
   "source": [
    "def on_epoch_end(epoch, logs):  \n",
    "\n",
    "    # print(f'Epoch {epoch + 1}, Loss: {logs[\"loss\"]}') \n",
    "    print(f'Epoch {epoch + 1}') \n",
    "    train_loss = logs.get('loss')  \n",
    "    val_loss = logs.get('val_loss')  \n",
    "    train_acc = logs.get('accuracy')  \n",
    "    val_acc = logs.get('val_accuracy')  \n",
    "      \n",
    "    print(f'Epoch {epoch + 1}, Loss: {train_loss:.4f}, Val Loss: {val_loss:.4f}, '  \n",
    "          f'Acc: {train_acc:.4f}, Val Acc: {val_acc:.4f}')  \n",
    "    print(\"\\n\")"
   ],
   "metadata": {
    "collapsed": false,
    "ExecuteTime": {
     "end_time": "2024-04-03T18:04:14.516522800Z",
     "start_time": "2024-04-03T18:04:14.503526400Z"
    }
   },
   "id": "595c32c5ad64d6af"
  },
  {
   "cell_type": "code",
   "execution_count": 3,
   "outputs": [],
   "source": [
    "# 训练模型\n",
    "callback = LambdaCallback(on_epoch_end=on_epoch_end)\n",
    "history=model.fit(X_train_embedding, y_train, batch_size=32, epochs=64, validation_split=0.2,callbacks=[callback])"
   ],
   "metadata": {
    "collapsed": false,
    "ExecuteTime": {
     "end_time": "2024-05-30T10:55:06.867944800Z",
     "start_time": "2024-05-30T10:55:06.811766700Z"
    }
   },
   "id": "94ef2162761578a7"
  },
  {
   "cell_type": "code",
   "execution_count": 4,
   "outputs": [],
   "source": [
    "# 评估模型\n",
    "# score = model.evaluate(X_test_embedding, y_test, verbose=0)  \n",
    "# print('Test loss:', score[0])  \n",
    "# print('Test accuracy:', score[1])"
   ],
   "metadata": {
    "collapsed": false,
    "ExecuteTime": {
     "end_time": "2024-05-30T10:55:15.750250600Z",
     "start_time": "2024-05-30T10:55:15.711492400Z"
    }
   },
   "id": "e9a012aadcf5e237"
  },
  {
   "cell_type": "code",
   "execution_count": null,
   "outputs": [],
   "source": [
    "#  # history.history 字典将包含每个epoch的loss和val_loss值  \n",
    "# loss = history.history['loss']  \n",
    "# val_loss = history.history['val_loss']\n",
    "#  \n",
    "# # 绘制训练和验证loss曲线  \n",
    "# plt.figure(figsize=(10, 6))\n",
    "# plt.plot(loss, label='Training Loss')  \n",
    "# plt.plot(val_loss, label='Validation Loss')  \n",
    "# plt.title('Loss Curve')  \n",
    "# plt.xlabel('Epoch')  \n",
    "# plt.ylabel('Loss')  \n",
    "# plt.legend()  \n",
    "# \n",
    "# #保存loss曲线\n",
    "# plt.savefig('txtRNN_loss_curve.png')\n",
    "# plt.show()"
   ],
   "metadata": {
    "collapsed": false
   },
   "id": "fb650087a31dabb9"
  },
  {
   "cell_type": "code",
   "execution_count": null,
   "outputs": [],
   "source": [
    "#绘制准确率曲线\n",
    "# plt.figure(figsize=(10, 6))\n",
    "# plt.plot(history.history['accuracy'])\n",
    "# plt.plot(history.history['val_accuracy'])\n",
    "# plt.title('Model Accuracy')\n",
    "# plt.ylabel('Accuracy')\n",
    "# plt.xlabel('Epoch')\n",
    "# plt.legend(['Train', 'Validation'], loc='lower right')\n",
    "# plt.savefig('txtRNN_accuracy.png')\n",
    "# plt.show()"
   ],
   "metadata": {
    "collapsed": false
   },
   "id": "b5dd824ab1b7fe11"
  },
  {
   "cell_type": "code",
   "execution_count": null,
   "outputs": [],
   "source": [
    "#模型的评价\n",
    "def evaluate_textRNN_model(model, X_test, y_test):\n",
    "\n",
    "    # Predict probabilities\n",
    "    y_pred_proba = model.predict(X_test)\n",
    "    y_pred_proba=np.squeeze(y_pred_proba,1)\n",
    "    # Predict labels\n",
    "    y_pred=np.where(y_pred_proba>0.5,1,0)\n",
    "    \n",
    "    # Calculate accuracy, precision, recall, F1-score, and AUC\n",
    "    accuracy = accuracy_score(y_test, y_pred)\n",
    "    precision = precision_score(y_test, y_pred)\n",
    "    recall = recall_score(y_test, y_pred)\n",
    "    f1 = f1_score(y_test, y_pred)\n",
    "    auc = roc_auc_score(y_test, y_pred_proba)\n",
    "    \n",
    "    # Calculate ROC curve\n",
    "    fpr, tpr, thresholds = roc_curve(y_test, y_pred_proba)\n",
    "    \n",
    "    return [accuracy, precision, recall, f1, auc,fpr.tolist(), tpr.tolist()]"
   ],
   "metadata": {
    "collapsed": false
   },
   "id": "825d95bcab5d785"
  },
  {
   "cell_type": "code",
   "execution_count": null,
   "outputs": [],
   "source": [
    "import json\n",
    "\n",
    "# # 加载模型\n",
    "# def load_model(model_name):\n",
    "#     model = tf.keras.models.load_model(model_name)\n",
    "#     return model\n",
    "\n",
    "#计算每个模型的评价指标,bp和svm模型需要单独计算\n",
    "metrics_name = ['accuracy', 'precision', 'recall', 'f1-score','auc','fpr-score','tpr-score']\n",
    "#计算每个模型的评价指标值，然后按照模型名，指标名称将结果存入一个字典\n",
    "\n",
    "metrics = evaluate_textRNN_model(model, tf.convert_to_tensor(X_test_embedding), y_test)\n",
    "textRNN_metrics_dict = {metrics_name[j]: metrics[j] for j in range(len(metrics))}"
   ],
   "metadata": {
    "collapsed": false
   },
   "id": "eaf084389bdd2f1e"
  },
  {
   "cell_type": "code",
   "execution_count": null,
   "outputs": [],
   "source": [
    "#以json文件保存字典结果\n",
    "with open('textRNN_metrics_dict.json', 'w') as f:\n",
    "    json.dump(textRNN_metrics_dict, f)"
   ],
   "metadata": {
    "collapsed": false
   },
   "id": "a671afe3d0468a2d"
  },
  {
   "cell_type": "code",
   "execution_count": null,
   "outputs": [],
   "source": [
    "# 保存模型\n",
    "# model.save('textRNN_model.h5')"
   ],
   "metadata": {
    "collapsed": false
   },
   "id": "f670c8e2c8ab3b13"
  },
  {
   "cell_type": "code",
   "execution_count": null,
   "outputs": [],
   "source": [],
   "metadata": {
    "collapsed": false
   },
   "id": "a0094b9d92e03672"
  }
 ],
 "metadata": {
  "kernelspec": {
   "display_name": "Python 3",
   "language": "python",
   "name": "python3"
  },
  "language_info": {
   "codemirror_mode": {
    "name": "ipython",
    "version": 2
   },
   "file_extension": ".py",
   "mimetype": "text/x-python",
   "name": "python",
   "nbconvert_exporter": "python",
   "pygments_lexer": "ipython2",
   "version": "2.7.6"
  }
 },
 "nbformat": 4,
 "nbformat_minor": 5
}
