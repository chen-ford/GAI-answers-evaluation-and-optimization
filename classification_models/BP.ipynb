{
 "cells": [
  {
   "cell_type": "code",
   "execution_count": 2,
   "outputs": [],
   "source": [
    "from matplotlib import pyplot as plt\n",
    "import pandas as pd\n",
    "from sklearn.metrics import roc_curve, auc\n",
    "import tensorflow as tf\n",
    "from sklearn.metrics import accuracy_score, precision_score, recall_score, f1_score, roc_auc_score"
   ],
   "metadata": {
    "collapsed": false,
    "ExecuteTime": {
     "end_time": "2024-03-30T07:14:35.757271900Z",
     "start_time": "2024-03-30T07:14:21.210729200Z"
    }
   },
   "id": "b0dab7bed1a2e24a"
  },
  {
   "cell_type": "code",
   "execution_count": 33,
   "outputs": [],
   "source": [
    "from tensorflow.python.keras.callbacks import LambdaCallback\n",
    "\n",
    "#BP模型\n",
    "def on_epoch_end(epoch, logs):  \n",
    "\n",
    "    # print(f'Epoch {epoch + 1}, Loss: {logs[\"loss\"]}') \n",
    "    print(f'Epoch {epoch + 1}') \n",
    "    train_loss = logs.get('loss')  \n",
    "    val_loss = logs.get('val_loss')  \n",
    "    train_acc = logs.get('accuracy')  \n",
    "    val_acc = logs.get('val_accuracy')  \n",
    "      \n",
    "    print(f'Epoch {epoch + 1}, Loss: {train_loss:.4f}, Val Loss: {val_loss:.4f}, '  \n",
    "          f'Acc: {train_acc:.4f}, Val Acc: {val_acc:.4f}')  \n",
    "    print(\"\\n\")\n",
    "\n",
    "def bp(X_train, y_train,num_epochs):\n",
    "# Create a sequential model\n",
    "    model = tf.keras.models.Sequential([\n",
    "        \n",
    "        tf.keras.layers.Dense(64, activation='relu', input_shape=(X_train.shape[1],)),\n",
    "        \n",
    "        tf.keras.layers.Dense(32, activation='relu'),\n",
    "        tf.keras.layers.Dense(8, activation='relu'),\n",
    "        tf.keras.layers.Dense(1, activation='sigmoid'),\n",
    "        \n",
    "    ])\n",
    "\n",
    "    optimizer = tf.keras.optimizers.legacy.Adam(learning_rate=0.0001,decay=1e-6) \n",
    "# Compile the model\n",
    "    model.compile(optimizer=optimizer, loss='mean_squared_error', metrics=['accuracy'])\n",
    "    \n",
    "    callback = LambdaCallback(on_epoch_end=on_epoch_end) \n",
    "    # Fit the model to the data\n",
    "    def_history=model.fit(X_train, y_train,validation_split=0.2, epochs=num_epochs, batch_size=16,callbacks=[callback])\n",
    "    #每10个epoch打印一次loss和accu\n",
    "\n",
    "\n",
    "    return model, def_history"
   ],
   "metadata": {
    "collapsed": false,
    "ExecuteTime": {
     "end_time": "2024-03-31T07:36:53.730185600Z",
     "start_time": "2024-03-31T07:36:53.698267600Z"
    }
   },
   "id": "2f28f0465cb47c78"
  },
  {
   "cell_type": "code",
   "execution_count": 29,
   "outputs": [],
   "source": [
    "# 导入数据\n",
    "X_train = pd.read_csv(r\"scale/X_train_minmaxscaler.csv\").iloc[:,5:]\n",
    "X_test = pd.read_csv(r\"scale/X_test_minmaxscaler.csv\").iloc[:,5:]\n",
    "y_train = pd.read_csv(r\"scale/y_train_minmaxscaler.csv\")\n",
    "y_test = pd.read_csv(r\"scale/y_test_minmaxscaler.csv\")"
   ],
   "metadata": {
    "collapsed": false,
    "ExecuteTime": {
     "end_time": "2024-03-31T07:33:37.575468400Z",
     "start_time": "2024-03-31T07:33:31.789959Z"
    }
   },
   "id": "c414f352f09b41cc"
  },
  {
   "cell_type": "code",
   "execution_count": null,
   "outputs": [],
   "source": [
    "from imblearn.over_sampling import SMOTE\n",
    "\n",
    "#不均衡采样\n",
    "def smote(X_train, y_train):\n",
    "    # Create an instance of SMOTE\n",
    "    smote = SMOTE(random_state=10)\n",
    "    # Apply SMOTE to the training data\n",
    "    X_train_resampled, y_train_resampled = smote.fit_resample(X_train, y_train)\n",
    "    return X_train_resampled, y_train_resampled"
   ],
   "metadata": {
    "collapsed": false
   },
   "id": "8008187608ea88cf"
  },
  {
   "cell_type": "code",
   "execution_count": null,
   "outputs": [],
   "source": [
    "#smote采样\n",
    "X_train, y_train = smote(X_train, y_train)\n",
    "X_test, y_test = smote(X_test, y_test)"
   ],
   "metadata": {
    "collapsed": false
   },
   "id": "64a586b73033546e"
  },
  {
   "cell_type": "code",
   "execution_count": 1,
   "outputs": [],
   "source": [
    "# 模型训练\n",
    "bp_model,history = bp(X_train, y_train,num_epochs=32)"
   ],
   "metadata": {
    "collapsed": false,
    "ExecuteTime": {
     "end_time": "2024-05-30T09:44:32.485030100Z",
     "start_time": "2024-05-30T09:44:32.477231Z"
    }
   },
   "id": "ca6aad84b30911a3"
  },
  {
   "cell_type": "code",
   "execution_count": 2,
   "outputs": [],
   "source": [
    "#绘制loss曲线\n",
    "# plt.figure(figsize=(10, 6))\n",
    "# plt.plot(history.history['loss'])\n",
    "# plt.plot(history.history['val_loss'])\n",
    "# plt.ylim(0.16, 0.20)\n",
    "# plt.title('Model Loss')\n",
    "# plt.ylabel('Loss')\n",
    "# plt.xlabel('Epoch')\n",
    "# plt.legend(['Train', 'Validation'], loc='upper right')\n",
    "# plt.savefig('bp_loss.png')\n",
    "# plt.show()"
   ],
   "metadata": {
    "collapsed": false,
    "ExecuteTime": {
     "end_time": "2024-05-30T09:44:36.902413900Z",
     "start_time": "2024-05-30T09:44:36.716427400Z"
    }
   },
   "id": "7ad244fd62179742"
  },
  {
   "cell_type": "code",
   "execution_count": 3,
   "outputs": [],
   "source": [
    "#绘制准确率曲线\n",
    "# plt.figure(figsize=(10, 6))\n",
    "# plt.plot(history.history['accuracy'])\n",
    "# plt.plot(history.history['val_accuracy'])\n",
    "# plt.ylim(0.75, 0.77)\n",
    "# plt.title('Model Accuracy')\n",
    "# plt.ylabel('Accuracy')\n",
    "# plt.xlabel('Epoch')\n",
    "# plt.legend(['Train', 'Validation'], loc='lower right')\n",
    "# plt.savefig('bp_accuracy.png')\n",
    "# plt.show()"
   ],
   "metadata": {
    "collapsed": false,
    "ExecuteTime": {
     "end_time": "2024-05-30T09:44:41.916000200Z",
     "start_time": "2024-05-30T09:44:41.572319Z"
    }
   },
   "id": "19fcadbecdd597de"
  },
  {
   "cell_type": "code",
   "execution_count": 4,
   "outputs": [],
   "source": [
    "#将每个模型进行保存\n",
    "# with open('bp_model.pkl', 'wb') as f:\n",
    "#     dill.dump(bp_model, f)\n",
    "#使用tensorflow保存模型\n",
    "# bp_model.save('bp_model.h5')"
   ],
   "metadata": {
    "collapsed": false,
    "ExecuteTime": {
     "end_time": "2024-05-30T09:44:47.380745900Z",
     "start_time": "2024-05-30T09:44:47.327427100Z"
    }
   },
   "id": "15a200faa1b1a555"
  },
  {
   "cell_type": "code",
   "execution_count": 27,
   "outputs": [],
   "source": [
    "#bp模型的评价\n",
    "def evaluate_bp_model(model, X_test, y_test):\n",
    "    import numpy as np\n",
    "\n",
    "    # Predict probabilities\n",
    "    # y_pred_proba = model.predict(X_test)[:, 1]\n",
    "    y_pred_proba = model.predict(X_test)   #一个神经元输出\n",
    "    \n",
    "    # Predict labels\n",
    "    y_pred = np.where(y_pred_proba > 0.5, 1, 0)    \n",
    "    # y_pred = np.argmax(model.predict(X_test),axis=1)\n",
    "    \n",
    "    # Calculate accuracy, precision, recall, F1-score, and AUC\n",
    "    accuracy = accuracy_score(y_test, y_pred)\n",
    "    precision = precision_score(y_test, y_pred)\n",
    "    recall = recall_score(y_test, y_pred)\n",
    "    f1 = f1_score(y_test, y_pred)\n",
    "    auc = roc_auc_score(y_test, y_pred_proba)\n",
    "    \n",
    "    # Calculate ROC curve\n",
    "    fpr, tpr, thresholds = roc_curve(y_test, y_pred_proba)\n",
    "    \n",
    "    return [accuracy, precision, recall, f1, auc,fpr.tolist(), tpr.tolist()]"
   ],
   "metadata": {
    "collapsed": false,
    "ExecuteTime": {
     "end_time": "2024-03-31T07:32:18.223785200Z",
     "start_time": "2024-03-31T07:32:18.195803200Z"
    }
   },
   "id": "974324b15f2c65f"
  },
  {
   "cell_type": "code",
   "execution_count": 5,
   "outputs": [],
   "source": [
    "import json\n",
    "#计算每个模型的评价指标,bp和svm模型需要单独计算\n",
    "metrics_name = ['accuracy', 'precision', 'recall', 'f1-score','auc','fpr-score','tpr-score']\n",
    "#计算每个模型的评价指标值，然后按照模型名，指标名称将结果存入一个字典\n",
    "\n",
    "metrics = evaluate_bp_model(bp_model, X_test, y_test)\n",
    "bp_metrics_dict = {metrics_name[j]: metrics[j] for j in range(len(metrics))}\n",
    "# print(bp_metrics_dict)"
   ],
   "metadata": {
    "collapsed": false,
    "ExecuteTime": {
     "end_time": "2024-05-30T09:45:02.675142700Z",
     "start_time": "2024-05-30T09:45:02.630866100Z"
    }
   },
   "id": "94bdd95ff48d71af"
  },
  {
   "cell_type": "code",
   "execution_count": 54,
   "outputs": [],
   "source": [
    "#以json文件保存字典结果\n",
    "with open('bp_metrics_dict.json', 'w') as f:\n",
    "    json.dump(bp_metrics_dict, f)"
   ],
   "metadata": {
    "collapsed": false,
    "ExecuteTime": {
     "end_time": "2024-03-31T08:16:55.210951600Z",
     "start_time": "2024-03-31T08:16:55.101178800Z"
    }
   },
   "id": "3a1eb94db6c4e891"
  },
  {
   "cell_type": "code",
   "execution_count": null,
   "outputs": [],
   "source": [],
   "metadata": {
    "collapsed": false
   },
   "id": "8519bc5c7d6e0b74"
  }
 ],
 "metadata": {
  "kernelspec": {
   "display_name": "Python 3",
   "language": "python",
   "name": "python3"
  },
  "language_info": {
   "codemirror_mode": {
    "name": "ipython",
    "version": 2
   },
   "file_extension": ".py",
   "mimetype": "text/x-python",
   "name": "python",
   "nbconvert_exporter": "python",
   "pygments_lexer": "ipython2",
   "version": "2.7.6"
  }
 },
 "nbformat": 4,
 "nbformat_minor": 5
}
