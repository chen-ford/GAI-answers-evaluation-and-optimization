{
 "cells": [
  {
   "cell_type": "code",
   "execution_count": 1,
   "id": "initial_id",
   "metadata": {
    "ExecuteTime": {
     "end_time": "2024-04-11T16:51:55.000888300Z",
     "start_time": "2024-04-11T16:51:00.159901500Z"
    },
    "collapsed": true
   },
   "outputs": [
    {
     "name": "stdout",
     "output_type": "stream",
     "text": [
      "WARNING:tensorflow:From C:\\Users\\mi\\anaconda3\\Lib\\site-packages\\keras\\src\\losses.py:2976: The name tf.losses.sparse_softmax_cross_entropy is deprecated. Please use tf.compat.v1.losses.sparse_softmax_cross_entropy instead.\n"
     ]
    }
   ],
   "source": [
    "from sklearn.metrics import accuracy_score, precision_score, recall_score, f1_score, roc_auc_score  \n",
    "from sklearn.metrics import roc_curve\n",
    "import matplotlib.pyplot as plt  \n",
    "import numpy as np  \n",
    "import tensorflow as tf\n",
    "from transformers import BertTokenizer\n",
    "import pandas as pd\n",
    "from keras.src.callbacks import LambdaCallback\n",
    "from transformers import BertConfig\n",
    "from transformers import BertModel\n",
    "from keras.layers import Dense\n",
    "from keras.models import Model"
   ]
  },
  {
   "cell_type": "code",
   "execution_count": 2,
   "id": "525cad3595ea71de",
   "metadata": {
    "ExecuteTime": {
     "end_time": "2024-04-11T16:52:09.625337500Z",
     "start_time": "2024-04-11T16:51:58.445111500Z"
    }
   },
   "outputs": [],
   "source": [
    " # 加载训练集和测试集 \n",
    "X_train = pd.read_csv(r\"data/X_train_minmaxscaler.csv\")['ChatGPT回答'].iloc[:10]\n",
    "X_test = pd.read_csv(r\"data/X_test_minmaxscaler.csv\")['ChatGPT回答'].iloc[:10]\n",
    "y_train = pd.read_csv(r\"data/y_train_minmaxscaler.csv\")[:10]\n",
    "y_test = pd.read_csv(r\"data/y_test_minmaxscaler.csv\")[:10]"
   ]
  },
  {
   "cell_type": "code",
   "execution_count": 3,
   "id": "6cd71be42f8ab05b",
   "metadata": {
    "ExecuteTime": {
     "end_time": "2024-04-11T16:52:18.755071700Z",
     "start_time": "2024-04-11T16:52:18.658080600Z"
    }
   },
   "outputs": [
    {
     "name": "stdout",
     "output_type": "stream",
     "text": [
      "Using device: CPU\n"
     ]
    }
   ],
   "source": [
    "# 检查GPU是否可用  \n",
    "import torch\n",
    "\n",
    "if torch.cuda.is_available():    \n",
    "  device = torch.device(\"cuda:1\" if torch.cuda.device_count() > 1 else \"cuda:0\")  # 如果有多个GPU，使用GPU 1；否则使用第一个GPU  \n",
    "  print(f\"Using device: {device}\")  \n",
    "else:  \n",
    "  device = torch.device(\"cpu\")  \n",
    "  print(\"Using device: CPU\")"
   ]
  },
  {
   "cell_type": "code",
   "execution_count": 4,
   "id": "1e896b9aee4affee",
   "metadata": {
    "ExecuteTime": {
     "end_time": "2024-04-11T16:52:20.730828600Z",
     "start_time": "2024-04-11T16:52:20.559516300Z"
    }
   },
   "outputs": [
    {
     "name": "stdout",
     "output_type": "stream",
     "text": [
      "2.2.2+cpu\n"
     ]
    }
   ],
   "source": [
    "print(torch.__version__)"
   ]
  },
  {
   "cell_type": "code",
   "execution_count": 5,
   "id": "a0389cff105a39a7",
   "metadata": {
    "ExecuteTime": {
     "end_time": "2024-04-11T16:52:38.190727400Z",
     "start_time": "2024-04-11T16:52:22.339807100Z"
    }
   },
   "outputs": [
    {
     "data": {
      "text/plain": [
       "BertModel(\n",
       "  (embeddings): BertEmbeddings(\n",
       "    (word_embeddings): Embedding(21128, 768, padding_idx=0)\n",
       "    (position_embeddings): Embedding(512, 768)\n",
       "    (token_type_embeddings): Embedding(2, 768)\n",
       "    (LayerNorm): LayerNorm((768,), eps=1e-12, elementwise_affine=True)\n",
       "    (dropout): Dropout(p=0.1, inplace=False)\n",
       "  )\n",
       "  (encoder): BertEncoder(\n",
       "    (layer): ModuleList(\n",
       "      (0-11): 12 x BertLayer(\n",
       "        (attention): BertAttention(\n",
       "          (self): BertSelfAttention(\n",
       "            (query): Linear(in_features=768, out_features=768, bias=True)\n",
       "            (key): Linear(in_features=768, out_features=768, bias=True)\n",
       "            (value): Linear(in_features=768, out_features=768, bias=True)\n",
       "            (dropout): Dropout(p=0.1, inplace=False)\n",
       "          )\n",
       "          (output): BertSelfOutput(\n",
       "            (dense): Linear(in_features=768, out_features=768, bias=True)\n",
       "            (LayerNorm): LayerNorm((768,), eps=1e-12, elementwise_affine=True)\n",
       "            (dropout): Dropout(p=0.1, inplace=False)\n",
       "          )\n",
       "        )\n",
       "        (intermediate): BertIntermediate(\n",
       "          (dense): Linear(in_features=768, out_features=3072, bias=True)\n",
       "          (intermediate_act_fn): GELUActivation()\n",
       "        )\n",
       "        (output): BertOutput(\n",
       "          (dense): Linear(in_features=3072, out_features=768, bias=True)\n",
       "          (LayerNorm): LayerNorm((768,), eps=1e-12, elementwise_affine=True)\n",
       "          (dropout): Dropout(p=0.1, inplace=False)\n",
       "        )\n",
       "      )\n",
       "    )\n",
       "  )\n",
       "  (pooler): BertPooler(\n",
       "    (dense): Linear(in_features=768, out_features=768, bias=True)\n",
       "    (activation): Tanh()\n",
       "  )\n",
       ")"
      ]
     },
     "execution_count": 5,
     "metadata": {},
     "output_type": "execute_result"
    }
   ],
   "source": [
    "# 加载BERT模型和tokenizer\n",
    "config = BertConfig.from_json_file(\"../Bert_model/Bert/config.json\")\n",
    "tokenizer = BertTokenizer.from_pretrained('../Bert_model/Bert/')\n",
    "bert = BertModel.from_pretrained(\"../Bert_model/Bert/\", config=config)\n",
    "\n",
    "bert.to(device)"
   ]
  },
  {
   "cell_type": "code",
   "execution_count": 6,
   "id": "a7620b395e0b035b",
   "metadata": {
    "ExecuteTime": {
     "end_time": "2024-04-11T16:52:58.893795200Z",
     "start_time": "2024-04-11T16:52:57.224449400Z"
    }
   },
   "outputs": [],
   "source": [
    "def get_word_embeddings(text, model, tokenizer):    \n",
    "\n",
    "    text=\"CLS\" + text + \"SEP\"\n",
    "    encoded_inputs = tokenizer(text, return_tensors='pt', padding=True, truncation=True, max_length=512)\n",
    "    encoded_inputs = {k: v.to(device) for k, v in encoded_inputs.items()}\n",
    "    \n",
    "    # Pretrain the text\n",
    "    with torch.no_grad():\n",
    "        outputs = model(**encoded_inputs)\n",
    "    \n",
    "    # Get the CLS token embeddings\n",
    "    #将cls标记的向量作为整个句子向量\n",
    "    word_embeddings = outputs[0][:,0,:]\n",
    "    \n",
    "    \n",
    "    return word_embeddings"
   ]
  },
  {
   "cell_type": "code",
   "execution_count": 6,
   "id": "e0b53efba3db0e9b",
   "metadata": {
    "ExecuteTime": {
     "end_time": "2024-04-03T03:16:09.904776Z",
     "start_time": "2024-04-03T03:16:04.512794300Z"
    }
   },
   "outputs": [],
   "source": [
    "x1= get_word_embeddings(X_train[0], bert, tokenizer)\n",
    "for i in range(1,len(X_train)):\n",
    "    x2 = get_word_embeddings(X_train[i], bert, tokenizer)\n",
    "    X_train_embedding = torch.cat((x1, x2), dim=0)\n",
    "    x1=X_train_embedding"
   ]
  },
  {
   "cell_type": "code",
   "execution_count": 7,
   "id": "28d84ae68edcc6c5",
   "metadata": {
    "ExecuteTime": {
     "end_time": "2024-04-03T03:16:20.357727300Z",
     "start_time": "2024-04-03T03:16:13.879520200Z"
    }
   },
   "outputs": [],
   "source": [
    "h1=get_word_embeddings(X_test[0], bert, tokenizer)\n",
    "for i in range(1,len(X_test)):\n",
    "    h2 = get_word_embeddings(X_test[i], bert, tokenizer)\n",
    "    X_test_embedding = torch.cat((h1, h2), dim=0)\n",
    "    h1=X_test_embedding"
   ]
  },
  {
   "cell_type": "code",
   "execution_count": 10,
   "id": "af75b6d03ae128b0",
   "metadata": {
    "ExecuteTime": {
     "end_time": "2024-04-03T03:21:05.243935600Z",
     "start_time": "2024-04-03T03:21:05.226411900Z"
    }
   },
   "outputs": [],
   "source": [
    "#保存词向量\n",
    "torch.save(X_train_embedding, 'train_embedding.pt')\n",
    "\n",
    "torch.save(X_test_embedding, 'test_embedding.pt')"
   ]
  },
  {
   "cell_type": "code",
   "execution_count": 11,
   "id": "1dfd59ebc6be8d5d",
   "metadata": {
    "ExecuteTime": {
     "end_time": "2024-04-03T03:21:34.577141800Z",
     "start_time": "2024-04-03T03:21:34.508185800Z"
    }
   },
   "outputs": [],
   "source": [
    "# #加载词向量\n",
    "# X= torch.load('../data/train_embedding.pt')\n",
    "# \n",
    "# X_test_embedding = torch.load('../data/test_embedding.pt')"
   ]
  },
  {
   "cell_type": "code",
   "execution_count": 12,
   "id": "61bca327a830d0dc",
   "metadata": {
    "ExecuteTime": {
     "end_time": "2024-04-03T03:21:35.144154500Z",
     "start_time": "2024-04-03T03:21:35.049336200Z"
    }
   },
   "outputs": [
    {
     "data": {
      "text/plain": [
       "torch.Size([10, 768])"
      ]
     },
     "execution_count": 12,
     "metadata": {},
     "output_type": "execute_result"
    }
   ],
   "source": [
    "X_train_embedding.shape"
   ]
  },
  {
   "cell_type": "code",
   "execution_count": null,
   "id": "47498d6cbe437c50",
   "metadata": {},
   "outputs": [],
   "source": []
  }
 ],
 "metadata": {
  "kernelspec": {
   "display_name": "Python 3 (ipykernel)",
   "language": "python",
   "name": "python3"
  },
  "language_info": {
   "codemirror_mode": {
    "name": "ipython",
    "version": 3
   },
   "file_extension": ".py",
   "mimetype": "text/x-python",
   "name": "python",
   "nbconvert_exporter": "python",
   "pygments_lexer": "ipython3",
   "version": "3.11.5"
  }
 },
 "nbformat": 4,
 "nbformat_minor": 5
}
