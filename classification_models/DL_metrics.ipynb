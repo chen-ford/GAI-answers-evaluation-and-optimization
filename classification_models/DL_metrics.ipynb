{
 "cells": [
  {
   "cell_type": "code",
   "execution_count": 1,
   "id": "initial_id",
   "metadata": {
    "collapsed": true,
    "ExecuteTime": {
     "end_time": "2024-05-16T19:02:06.974349800Z",
     "start_time": "2024-05-16T19:02:05.271071200Z"
    }
   },
   "outputs": [],
   "source": [
    "import matplotlib.pyplot as plt\n",
    "import json"
   ]
  },
  {
   "cell_type": "code",
   "execution_count": 2,
   "outputs": [],
   "source": [
    "#绘制多个模型的ROC曲线\n",
    "\n",
    "def plot_roc_curves(model_Name_list, metrics_list):\n",
    "    # Get the number of models\n",
    "    plt.figure(figsize=(10, 6))\n",
    "\n",
    "    # Loop over the models\n",
    "    for j in range(len(model_Name_list)):\n",
    "        # Plot the ROC curve\n",
    "        fpr, tpr= list(metrics_list[model_Name_list[j]]['fpr-score']), list(metrics_list[model_Name_list[j]]['tpr-score'])\n",
    "\n",
    "        plt.plot(fpr, tpr, label=f\"{model_Name_list[j]}(AUC = {metrics_list[model_Name_list[j]]['auc']:.2f})\")\n",
    "\n",
    "    # Add a legend\n",
    "\n",
    "    # Add a line for the random classifier\n",
    "    plt.plot([0, 1], [0, 1], 'k--')\n",
    "    plt.xlim([0.0, 1.0])\n",
    "    plt.ylim([0.0, 1.0])\n",
    "    plt.xlabel('False Positive Rate')\n",
    "    plt.ylabel('True Positive Rate')\n",
    "    plt.title(f'ROC Curve')\n",
    "    plt.legend(loc=\"lower right\")\n",
    "    #保存图片\n",
    "    plt.savefig('DL_roc_curves.png')\n",
    "    # Show the plot\n",
    "    plt.show()"
   ],
   "metadata": {
    "collapsed": false,
    "ExecuteTime": {
     "end_time": "2024-05-16T19:02:29.235641600Z",
     "start_time": "2024-05-16T19:02:28.198994100Z"
    }
   },
   "id": "a60f4d8e4759f585"
  },
  {
   "cell_type": "code",
   "execution_count": 26,
   "outputs": [],
   "source": [
    "DL_metrics_dict={}"
   ],
   "metadata": {
    "collapsed": false,
    "ExecuteTime": {
     "end_time": "2024-04-29T06:05:29.425233800Z",
     "start_time": "2024-04-29T06:05:29.366739700Z"
    }
   },
   "id": "e4f468571ebb9b57"
  },
  {
   "cell_type": "code",
   "execution_count": 27,
   "outputs": [],
   "source": [
    "#读取bert_bp模型的metrics_dict\n",
    "with open(r'DL_models/bert-bp/bert_bp_metrics_dict.json', 'r') as f:\n",
    "    bert_metrics_dict = json.load(f)\n",
    "DL_metrics_dict['Bert']=bert_metrics_dict"
   ],
   "metadata": {
    "collapsed": false,
    "ExecuteTime": {
     "end_time": "2024-04-29T06:05:29.869296600Z",
     "start_time": "2024-04-29T06:05:29.807765500Z"
    }
   },
   "id": "2e50d74b8d5a7bd0"
  },
  {
   "cell_type": "code",
   "execution_count": 28,
   "outputs": [],
   "source": [
    "#读取textRNN模型的metrics_dict\n",
    "with open(r'DL_models/RNN/textRNN_metrics_dict.json', 'r') as f:\n",
    "    RNN_metrics_dict = json.load(f)\n",
    "DL_metrics_dict['textRNN']=RNN_metrics_dict"
   ],
   "metadata": {
    "collapsed": false,
    "ExecuteTime": {
     "end_time": "2024-04-29T06:05:30.351592500Z",
     "start_time": "2024-04-29T06:05:30.278777300Z"
    }
   },
   "id": "91c2aa223718174d"
  },
  {
   "cell_type": "code",
   "execution_count": 29,
   "outputs": [],
   "source": [
    "#读取textRNN_att模型的metrics_dict\n",
    "with open(r'DL_models/RNN_attention/textRNN_attention_metrics_dict.json', 'r') as f:\n",
    "    RNN_attention_metrics_dict = json.load(f)\n",
    "DL_metrics_dict['textRNN_attention']=RNN_attention_metrics_dict"
   ],
   "metadata": {
    "collapsed": false,
    "ExecuteTime": {
     "end_time": "2024-04-29T06:05:30.763973Z",
     "start_time": "2024-04-29T06:05:30.705142900Z"
    }
   },
   "id": "d17e203149877f91"
  },
  {
   "cell_type": "code",
   "execution_count": 30,
   "outputs": [],
   "source": [
    "#读取Bert_bilstm模型的metrics_dict\n",
    "with open(r'DL_models/bert_bi-lstm/bert_bilstm_metrics_dict.json', 'r') as f:\n",
    "    bert_bilstm_metrics_dict = json.load(f)\n",
    "DL_metrics_dict['Bert_Bi-LSTM']=bert_bilstm_metrics_dict"
   ],
   "metadata": {
    "collapsed": false,
    "ExecuteTime": {
     "end_time": "2024-04-29T06:05:31.171228200Z",
     "start_time": "2024-04-29T06:05:31.114535600Z"
    }
   },
   "id": "8b7e3ae60413ea59"
  },
  {
   "cell_type": "code",
   "execution_count": 31,
   "outputs": [],
   "source": [
    "#读取Bert_bilstm_att模型的metrics_dict\n",
    "with open(r'DL_models/bert_bi-lstm_attention/bert_bilstm_attention_metrics_dict.json', 'r') as f:\n",
    "    bert_bilstm_attention_metrics_dict = json.load(f)\n",
    "DL_metrics_dict['Bert_Bi-LSTM_attention']=bert_bilstm_attention_metrics_dict"
   ],
   "metadata": {
    "collapsed": false,
    "ExecuteTime": {
     "end_time": "2024-04-29T06:05:31.548515300Z",
     "start_time": "2024-04-29T06:05:31.511271900Z"
    }
   },
   "id": "c775cc6680aa5fa0"
  },
  {
   "cell_type": "code",
   "execution_count": 32,
   "outputs": [],
   "source": [
    "#读取textCNN模型的metrics_dict\n",
    "with open(r'DL_models/textCNN/textCNN_metrics_dict.json', 'r') as f:\n",
    "    textCNN_metrics_dict = json.load(f)\n",
    "DL_metrics_dict['textCNN']=textCNN_metrics_dict"
   ],
   "metadata": {
    "collapsed": false,
    "ExecuteTime": {
     "end_time": "2024-04-29T06:05:31.985992Z",
     "start_time": "2024-04-29T06:05:31.902648200Z"
    }
   },
   "id": "79e9983c377ad15d"
  },
  {
   "cell_type": "code",
   "execution_count": 33,
   "outputs": [],
   "source": [
    "#读取RCNN模型的metrics_dict\n",
    "with open(r'DL_models/RCNN/RCNN_metrics_dict.json', 'r') as f:\n",
    "    RCNN_metrics_dict = json.load(f)\n",
    "DL_metrics_dict['RCNN']=RCNN_metrics_dict"
   ],
   "metadata": {
    "collapsed": false,
    "ExecuteTime": {
     "end_time": "2024-04-29T06:05:32.423367200Z",
     "start_time": "2024-04-29T06:05:32.360648100Z"
    }
   },
   "id": "746ee1ddbfc32be"
  },
  {
   "cell_type": "code",
   "execution_count": 34,
   "outputs": [],
   "source": [
    "#读取DPCNN模型的metrics_dict\n",
    "with open(r'DL_models/DPCNN/DPCNN_metrics_dict.json', 'r') as f:\n",
    "    DPCNN_metrics_dict = json.load(f)\n",
    "DL_metrics_dict['DPCNN']=DPCNN_metrics_dict"
   ],
   "metadata": {
    "collapsed": false,
    "ExecuteTime": {
     "end_time": "2024-04-29T06:05:32.904562300Z",
     "start_time": "2024-04-29T06:05:32.828726Z"
    }
   },
   "id": "fc01247dee889458"
  },
  {
   "cell_type": "code",
   "execution_count": 35,
   "outputs": [],
   "source": [
    "#保存数据\n",
    "with open(r'DL_models/metrics_dict.json', 'w') as f:\n",
    "    json.dump(DL_metrics_dict, f)"
   ],
   "metadata": {
    "collapsed": false,
    "ExecuteTime": {
     "end_time": "2024-04-29T06:05:35.866109500Z",
     "start_time": "2024-04-29T06:05:33.727724100Z"
    }
   },
   "id": "ea10c7b3906277f1"
  },
  {
   "cell_type": "code",
   "execution_count": 2,
   "outputs": [],
   "source": [
    "#读取DL_metrics_dict，利用每个模型的fpr，tpr绘制ROC曲线\n",
    "model_name=['Bert','textRNN','textRNN_attention','Bert_Bi-LSTM','Bert_Bi-LSTM_attention','textCNN','RCNN','DPCNN']\n",
    "\n",
    "# with open('ML_models_smote/metrics_dict.json', 'r') as f:\n",
    "#     metrics_dict = json.load(f)\n",
    "# len(DL_metrics_dict)"
   ],
   "metadata": {
    "collapsed": false,
    "ExecuteTime": {
     "end_time": "2024-05-30T09:46:41.777524300Z",
     "start_time": "2024-05-30T09:46:41.719938400Z"
    }
   },
   "id": "41c15a340a6739ef"
  },
  {
   "cell_type": "code",
   "execution_count": 1,
   "outputs": [],
   "source": [
    "# plot_roc_curves(model_name, DL_metrics_dict)"
   ],
   "metadata": {
    "collapsed": false,
    "ExecuteTime": {
     "end_time": "2024-05-30T09:46:37.699959600Z",
     "start_time": "2024-05-30T09:46:37.694963200Z"
    }
   },
   "id": "9a06f06acb4524be"
  },
  {
   "cell_type": "code",
   "execution_count": null,
   "outputs": [],
   "source": [],
   "metadata": {
    "collapsed": false
   },
   "id": "bcfaf37015a0e8d"
  }
 ],
 "metadata": {
  "kernelspec": {
   "display_name": "Python 3",
   "language": "python",
   "name": "python3"
  },
  "language_info": {
   "codemirror_mode": {
    "name": "ipython",
    "version": 2
   },
   "file_extension": ".py",
   "mimetype": "text/x-python",
   "name": "python",
   "nbconvert_exporter": "python",
   "pygments_lexer": "ipython2",
   "version": "2.7.6"
  }
 },
 "nbformat": 4,
 "nbformat_minor": 5
}
