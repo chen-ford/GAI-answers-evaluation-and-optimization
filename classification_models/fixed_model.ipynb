{
 "cells": [
  {
   "cell_type": "code",
   "execution_count": 1,
   "outputs": [
    {
     "name": "stdout",
     "output_type": "stream",
     "text": [
      "WARNING:tensorflow:From C:\\Users\\mi\\anaconda3\\Lib\\site-packages\\keras\\src\\losses.py:2976: The name tf.losses.sparse_softmax_cross_entropy is deprecated. Please use tf.compat.v1.losses.sparse_softmax_cross_entropy instead.\n"
     ]
    }
   ],
   "source": [
    "import pandas as pd\n",
    "import torch\n",
    "import pickle\n",
    "import tensorflow as tf\n",
    "from sklearn.metrics import accuracy_score, precision_score, recall_score, f1_score, roc_auc_score,roc_curve\n",
    "import numpy as np\n",
    "from keras.models import load_model"
   ],
   "metadata": {
    "collapsed": false,
    "ExecuteTime": {
     "end_time": "2024-04-29T05:28:18.717340500Z",
     "start_time": "2024-04-29T05:27:51.328819900Z"
    }
   },
   "id": "d58223abb1acb278"
  },
  {
   "cell_type": "code",
   "execution_count": 2,
   "outputs": [],
   "source": [
    "import keras\n",
    "\n",
    "# 注意力机制层  \n",
    "@keras.saving.register_keras_serializable(package=\"custom_objects\")\n",
    "class Attention(tf.keras.layers.Layer):\n",
    "    def __init__(self, units, **kwargs):\n",
    "        super(Attention, self).__init__()\n",
    "        self.W = tf.keras.layers.Dense(units)\n",
    "        self.V = tf.keras.layers.Dense(1)\n",
    "\n",
    "    def call(self, inputs):\n",
    "        query = inputs[0]\n",
    "        values = inputs[1]\n",
    "\n",
    "        query_with_time_axis = tf.expand_dims(query, 1)\n",
    "\n",
    "        score = tf.nn.tanh(self.W(query_with_time_axis) + self.W(values))\n",
    "        attention_weights = tf.nn.softmax(self.V(score), axis=1)\n",
    "\n",
    "        context_vector = attention_weights * values\n",
    "        context_vector = tf.reduce_sum(context_vector, axis=1)\n",
    "\n",
    "        return context_vector"
   ],
   "metadata": {
    "collapsed": false,
    "ExecuteTime": {
     "end_time": "2024-04-29T05:28:31.616626500Z",
     "start_time": "2024-04-29T05:28:31.376678800Z"
    }
   },
   "id": "81313c2228d852c6"
  },
  {
   "cell_type": "markdown",
   "source": [
    "读取测试数据"
   ],
   "metadata": {
    "collapsed": false
   },
   "id": "d01f94d34c823e20"
  },
  {
   "cell_type": "code",
   "execution_count": 3,
   "outputs": [],
   "source": [
    "X_test_feature = pd.read_csv(r'data_features_smote/X_test_features_smote.csv')\n",
    "y_test = pd.read_csv(r'data_features_smote/y_test_smote.csv')"
   ],
   "metadata": {
    "collapsed": false,
    "ExecuteTime": {
     "end_time": "2024-04-08T12:44:36.249847900Z",
     "start_time": "2024-04-08T12:44:34.574021500Z"
    }
   },
   "id": "a8f8a311a3d6758d"
  },
  {
   "cell_type": "code",
   "execution_count": 4,
   "outputs": [],
   "source": [
    "X_test_embedding=torch.load('data_embedding_smote/test_embedding_somte.pt',map_location=torch.device('cpu')).numpy()\n",
    "# y_test_embedding = pd.read_csv(r\"data_embedding_smote/y_test_smote.csv\")"
   ],
   "metadata": {
    "collapsed": false,
    "ExecuteTime": {
     "end_time": "2024-04-08T12:44:44.289007400Z",
     "start_time": "2024-04-08T12:44:40.961042100Z"
    }
   },
   "id": "4383ed9ea5acb261"
  },
  {
   "cell_type": "code",
   "execution_count": 5,
   "outputs": [],
   "source": [
    "X_test_embedding= torch.unsqueeze(torch.tensor(X_test_embedding),dim=1).numpy()"
   ],
   "metadata": {
    "collapsed": false,
    "ExecuteTime": {
     "end_time": "2024-04-08T12:44:46.233295100Z",
     "start_time": "2024-04-08T12:44:45.450027700Z"
    }
   },
   "id": "96d30e0691b5ab61"
  },
  {
   "cell_type": "markdown",
   "source": [
    "读取模型"
   ],
   "metadata": {
    "collapsed": false
   },
   "id": "39f64d26693f307b"
  },
  {
   "cell_type": "code",
   "execution_count": 6,
   "outputs": [],
   "source": [
    "#读取xgboost模型\n",
    "def load_model_pickle(model_name):\n",
    "    with open(model_name, 'rb') as f:\n",
    "        model_xg = pickle.load(f)\n",
    "    return model_xg\n",
    "xgboost=load_model_pickle(r'ML_models_smote/xgboost_model_6.pkl')"
   ],
   "metadata": {
    "collapsed": false,
    "ExecuteTime": {
     "end_time": "2024-04-29T05:32:07.642645900Z",
     "start_time": "2024-04-29T05:32:06.627237600Z"
    }
   },
   "id": "5bef7e591c59a98"
  },
  {
   "cell_type": "code",
   "execution_count": 1,
   "outputs": [],
   "source": [
    "#读取bert_bi_lstm_attention模型\n",
    "from keras.models import load_model\n",
    "import keras.src.models\n",
    "# 如下的文件位置，根据自己电脑的文件位置更改\n",
    "bert_bi_lstm_attention_model = load_model(r'classification_models/DL_models_smote/bert_bi-lstm_attention_smote/bert_bilstm_attention_model_l.keras',custom_objects={'Attention': Attention})\n",
    "# 打印加载的模型结构\n",
    "print (bert_bi_lstm_attention_model.summary())"
   ],
   "metadata": {
    "collapsed": false,
    "ExecuteTime": {
     "end_time": "2024-05-30T10:52:15.433403Z",
     "start_time": "2024-05-30T10:52:15.420256300Z"
    }
   },
   "id": "166eb5ba376377fc"
  },
  {
   "cell_type": "markdown",
   "source": [
    "模型评估"
   ],
   "metadata": {
    "collapsed": false
   },
   "id": "fd52d247975cdf"
  },
  {
   "cell_type": "code",
   "execution_count": 26,
   "outputs": [],
   "source": [
    "#复合模型评价\n",
    "def evaluate_composite_model(model1,r1, model2,r2, X_test_features,X_test_embedding, y_test):\n",
    "    \n",
    "    # Predict probabilities\n",
    "    y_pred_proba = pd.DataFrame(model1.predict_proba(X_test_features)[:,1])*r1+pd.DataFrame(model2.predict(X_test_embedding)*r2)\n",
    "    \n",
    "    # Predict labels\n",
    "    y_pred=np.where(y_pred_proba>0.5,1,0)\n",
    "    \n",
    "    # Calculate accuracy, precision, recall, F1-score, and AUC\n",
    "    accuracy = accuracy_score(y_test, y_pred)\n",
    "    precision = precision_score(y_test, y_pred)\n",
    "    recall = recall_score(y_test, y_pred)\n",
    "    f1 = f1_score(y_test, y_pred)\n",
    "    auc = roc_auc_score(y_test, y_pred_proba)\n",
    "    \n",
    "    # Calculate ROC curve\n",
    "    fpr, tpr, thresholds = roc_curve(y_test, y_pred_proba)\n",
    "    \n",
    "    return [accuracy, precision, recall, f1, auc,fpr.tolist(), tpr.tolist()]"
   ],
   "metadata": {
    "collapsed": false,
    "ExecuteTime": {
     "end_time": "2024-04-08T13:11:05.226282300Z",
     "start_time": "2024-04-08T13:11:05.203512500Z"
    }
   },
   "id": "28d5604584e01ed8"
  },
  {
   "cell_type": "code",
   "execution_count": 2,
   "outputs": [],
   "source": [
    "metrics_name = ['accuracy', 'precision', 'recall', 'f1-score','auc','fpr-score','tpr-score']\n",
    "rate_list=['xg_0.1','xg_0.2','xg_0.3','xg_0.4','xg_0.5','xg_0.6','xg_0.7','xg_0.8','xg_0.9','xg_1.0']\n",
    "metrics_dict = {}\n",
    "for r in np.arange(0.1,1.1,0.1):\n",
    "    r1=r\n",
    "    r2=1-r\n",
    "    metrics = evaluate_composite_model(xgboost,r1,bert_bi_lstm_attention_model,r2, X_test_feature,X_test_embedding, y_test)\n",
    "    metrics_dict[rate_list[int(r*10-1)]] = {metrics_name[j]: metrics[j] for j in range(len(metrics))}"
   ],
   "metadata": {
    "collapsed": false,
    "ExecuteTime": {
     "end_time": "2024-05-30T10:52:17.592277200Z",
     "start_time": "2024-05-30T10:52:17.466334200Z"
    }
   },
   "id": "393efca9fc0beff8"
  },
  {
   "cell_type": "code",
   "execution_count": 39,
   "outputs": [],
   "source": [
    "import json\n",
    "#以json文件保存字典结果\n",
    "with open('fixed_model_metrics_dict.json', 'w') as f:\n",
    "    json.dump(metrics_dict, f)"
   ],
   "metadata": {
    "collapsed": false,
    "ExecuteTime": {
     "end_time": "2024-04-08T15:38:19.435113300Z",
     "start_time": "2024-04-08T15:38:18.395385Z"
    }
   },
   "id": "d79bbd441af3bdbc"
  },
  {
   "cell_type": "code",
   "execution_count": 42,
   "outputs": [],
   "source": [
    "# 保存最好的组合模型评价分数\n",
    "# print(metrics_dict['xg_0.5'])\n",
    "#以json文件保存字典结果\n",
    "with open('last_model_metrics_dict.json', 'w') as f:\n",
    "    json.dump(metrics_dict['xg_0.5'], f)"
   ],
   "metadata": {
    "collapsed": false,
    "ExecuteTime": {
     "end_time": "2024-04-08T15:57:17.796378Z",
     "start_time": "2024-04-08T15:57:17.708089300Z"
    }
   },
   "id": "edc966881908aca6"
  },
  {
   "cell_type": "code",
   "execution_count": null,
   "outputs": [],
   "source": [],
   "metadata": {
    "collapsed": false
   },
   "id": "370d96460d1da0e9"
  }
 ],
 "metadata": {
  "kernelspec": {
   "display_name": "Python 3",
   "language": "python",
   "name": "python3"
  },
  "language_info": {
   "codemirror_mode": {
    "name": "ipython",
    "version": 2
   },
   "file_extension": ".py",
   "mimetype": "text/x-python",
   "name": "python",
   "nbconvert_exporter": "python",
   "pygments_lexer": "ipython2",
   "version": "2.7.6"
  }
 },
 "nbformat": 4,
 "nbformat_minor": 5
}
