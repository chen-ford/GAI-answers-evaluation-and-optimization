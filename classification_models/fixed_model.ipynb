{
 "cells": [
  {
   "cell_type": "code",
   "execution_count": 1,
   "outputs": [
    {
     "name": "stdout",
     "output_type": "stream",
     "text": [
      "WARNING:tensorflow:From C:\\Users\\mi\\anaconda3\\Lib\\site-packages\\keras\\src\\losses.py:2976: The name tf.losses.sparse_softmax_cross_entropy is deprecated. Please use tf.compat.v1.losses.sparse_softmax_cross_entropy instead.\n"
     ]
    }
   ],
   "source": [
    "import pandas as pd\n",
    "import torch\n",
    "import pickle\n",
    "import tensorflow as tf\n",
    "from sklearn.metrics import accuracy_score, precision_score, recall_score, f1_score, roc_auc_score,roc_curve\n",
    "import numpy as np\n",
    "from keras.models import load_model"
   ],
   "metadata": {
    "collapsed": false,
    "ExecuteTime": {
     "end_time": "2024-04-29T05:28:18.717340500Z",
     "start_time": "2024-04-29T05:27:51.328819900Z"
    }
   },
   "id": "d58223abb1acb278"
  },
  {
   "cell_type": "code",
   "execution_count": 2,
   "outputs": [],
   "source": [
    "import keras\n",
    "\n",
    "# 注意力机制层  \n",
    "@keras.saving.register_keras_serializable(package=\"custom_objects\")\n",
    "class Attention(tf.keras.layers.Layer):\n",
    "    def __init__(self, units, **kwargs):\n",
    "        super(Attention, self).__init__()\n",
    "        self.W = tf.keras.layers.Dense(units)\n",
    "        self.V = tf.keras.layers.Dense(1)\n",
    "\n",
    "    def call(self, inputs):\n",
    "        query = inputs[0]\n",
    "        values = inputs[1]\n",
    "\n",
    "        query_with_time_axis = tf.expand_dims(query, 1)\n",
    "\n",
    "        score = tf.nn.tanh(self.W(query_with_time_axis) + self.W(values))\n",
    "        attention_weights = tf.nn.softmax(self.V(score), axis=1)\n",
    "\n",
    "        context_vector = attention_weights * values\n",
    "        context_vector = tf.reduce_sum(context_vector, axis=1)\n",
    "\n",
    "        return context_vector"
   ],
   "metadata": {
    "collapsed": false,
    "ExecuteTime": {
     "end_time": "2024-04-29T05:28:31.616626500Z",
     "start_time": "2024-04-29T05:28:31.376678800Z"
    }
   },
   "id": "81313c2228d852c6"
  },
  {
   "cell_type": "markdown",
   "source": [
    "读取测试数据"
   ],
   "metadata": {
    "collapsed": false
   },
   "id": "d01f94d34c823e20"
  },
  {
   "cell_type": "code",
   "execution_count": 3,
   "outputs": [],
   "source": [
    "X_test_feature = pd.read_csv(r'data_features_smote/X_test_features_smote.csv')\n",
    "y_test = pd.read_csv(r'data_features_smote/y_test_smote.csv')"
   ],
   "metadata": {
    "collapsed": false,
    "ExecuteTime": {
     "end_time": "2024-04-08T12:44:36.249847900Z",
     "start_time": "2024-04-08T12:44:34.574021500Z"
    }
   },
   "id": "a8f8a311a3d6758d"
  },
  {
   "cell_type": "code",
   "execution_count": 4,
   "outputs": [],
   "source": [
    "X_test_embedding=torch.load('data_embedding_smote/test_embedding_somte.pt',map_location=torch.device('cpu')).numpy()\n",
    "# y_test_embedding = pd.read_csv(r\"data_embedding_smote/y_test_smote.csv\")"
   ],
   "metadata": {
    "collapsed": false,
    "ExecuteTime": {
     "end_time": "2024-04-08T12:44:44.289007400Z",
     "start_time": "2024-04-08T12:44:40.961042100Z"
    }
   },
   "id": "4383ed9ea5acb261"
  },
  {
   "cell_type": "code",
   "execution_count": 5,
   "outputs": [],
   "source": [
    "X_test_embedding= torch.unsqueeze(torch.tensor(X_test_embedding),dim=1).numpy()"
   ],
   "metadata": {
    "collapsed": false,
    "ExecuteTime": {
     "end_time": "2024-04-08T12:44:46.233295100Z",
     "start_time": "2024-04-08T12:44:45.450027700Z"
    }
   },
   "id": "96d30e0691b5ab61"
  },
  {
   "cell_type": "markdown",
   "source": [
    "读取模型"
   ],
   "metadata": {
    "collapsed": false
   },
   "id": "39f64d26693f307b"
  },
  {
   "cell_type": "code",
   "execution_count": 6,
   "outputs": [],
   "source": [
    "#读取xgboost模型\n",
    "def load_model_pickle(model_name):\n",
    "    with open(model_name, 'rb') as f:\n",
    "        model_xg = pickle.load(f)\n",
    "    return model_xg\n",
    "xgboost=load_model_pickle(r'ML_models_smote/xgboost_model_6.pkl')"
   ],
   "metadata": {
    "collapsed": false,
    "ExecuteTime": {
     "end_time": "2024-04-29T05:32:07.642645900Z",
     "start_time": "2024-04-29T05:32:06.627237600Z"
    }
   },
   "id": "5bef7e591c59a98"
  },
  {
   "cell_type": "code",
   "execution_count": 7,
   "outputs": [
    {
     "ename": "OSError",
     "evalue": "No file or directory found at classification_models/DL_models_smote/bert_bi-lstm_attention_smote/bert_bilstm_attention_model_l.keras",
     "output_type": "error",
     "traceback": [
      "\u001B[1;31m---------------------------------------------------------------------------\u001B[0m",
      "\u001B[1;31mOSError\u001B[0m                                   Traceback (most recent call last)",
      "Cell \u001B[1;32mIn[7], line 5\u001B[0m\n\u001B[0;32m      3\u001B[0m \u001B[38;5;28;01mimport\u001B[39;00m \u001B[38;5;21;01mkeras\u001B[39;00m\u001B[38;5;21;01m.\u001B[39;00m\u001B[38;5;21;01msrc\u001B[39;00m\u001B[38;5;21;01m.\u001B[39;00m\u001B[38;5;21;01mmodels\u001B[39;00m\n\u001B[0;32m      4\u001B[0m \u001B[38;5;66;03m# 如下的文件位置，根据自己电脑的文件位置更改\u001B[39;00m\n\u001B[1;32m----> 5\u001B[0m bert_bi_lstm_attention_model \u001B[38;5;241m=\u001B[39m load_model(\u001B[38;5;124mr\u001B[39m\u001B[38;5;124m'\u001B[39m\u001B[38;5;124mclassification_models/DL_models_smote/bert_bi-lstm_attention_smote/bert_bilstm_attention_model_l.keras\u001B[39m\u001B[38;5;124m'\u001B[39m,custom_objects\u001B[38;5;241m=\u001B[39m{\u001B[38;5;124m'\u001B[39m\u001B[38;5;124mAttention\u001B[39m\u001B[38;5;124m'\u001B[39m: Attention})\n\u001B[0;32m      6\u001B[0m \u001B[38;5;66;03m# 打印加载的模型结构\u001B[39;00m\n\u001B[0;32m      7\u001B[0m \u001B[38;5;28mprint\u001B[39m (bert_bi_lstm_attention_model\u001B[38;5;241m.\u001B[39msummary())\n",
      "File \u001B[1;32m~\\anaconda3\\Lib\\site-packages\\keras\\src\\saving\\saving_api.py:262\u001B[0m, in \u001B[0;36mload_model\u001B[1;34m(filepath, custom_objects, compile, safe_mode, **kwargs)\u001B[0m\n\u001B[0;32m    254\u001B[0m     \u001B[38;5;28;01mreturn\u001B[39;00m saving_lib\u001B[38;5;241m.\u001B[39mload_model(\n\u001B[0;32m    255\u001B[0m         filepath,\n\u001B[0;32m    256\u001B[0m         custom_objects\u001B[38;5;241m=\u001B[39mcustom_objects,\n\u001B[0;32m    257\u001B[0m         \u001B[38;5;28mcompile\u001B[39m\u001B[38;5;241m=\u001B[39m\u001B[38;5;28mcompile\u001B[39m,\n\u001B[0;32m    258\u001B[0m         safe_mode\u001B[38;5;241m=\u001B[39msafe_mode,\n\u001B[0;32m    259\u001B[0m     )\n\u001B[0;32m    261\u001B[0m \u001B[38;5;66;03m# Legacy case.\u001B[39;00m\n\u001B[1;32m--> 262\u001B[0m \u001B[38;5;28;01mreturn\u001B[39;00m legacy_sm_saving_lib\u001B[38;5;241m.\u001B[39mload_model(\n\u001B[0;32m    263\u001B[0m     filepath, custom_objects\u001B[38;5;241m=\u001B[39mcustom_objects, \u001B[38;5;28mcompile\u001B[39m\u001B[38;5;241m=\u001B[39m\u001B[38;5;28mcompile\u001B[39m, \u001B[38;5;241m*\u001B[39m\u001B[38;5;241m*\u001B[39mkwargs\n\u001B[0;32m    264\u001B[0m )\n",
      "File \u001B[1;32m~\\anaconda3\\Lib\\site-packages\\keras\\src\\utils\\traceback_utils.py:70\u001B[0m, in \u001B[0;36mfilter_traceback.<locals>.error_handler\u001B[1;34m(*args, **kwargs)\u001B[0m\n\u001B[0;32m     67\u001B[0m     filtered_tb \u001B[38;5;241m=\u001B[39m _process_traceback_frames(e\u001B[38;5;241m.\u001B[39m__traceback__)\n\u001B[0;32m     68\u001B[0m     \u001B[38;5;66;03m# To get the full stack trace, call:\u001B[39;00m\n\u001B[0;32m     69\u001B[0m     \u001B[38;5;66;03m# `tf.debugging.disable_traceback_filtering()`\u001B[39;00m\n\u001B[1;32m---> 70\u001B[0m     \u001B[38;5;28;01mraise\u001B[39;00m e\u001B[38;5;241m.\u001B[39mwith_traceback(filtered_tb) \u001B[38;5;28;01mfrom\u001B[39;00m \u001B[38;5;28;01mNone\u001B[39;00m\n\u001B[0;32m     71\u001B[0m \u001B[38;5;28;01mfinally\u001B[39;00m:\n\u001B[0;32m     72\u001B[0m     \u001B[38;5;28;01mdel\u001B[39;00m filtered_tb\n",
      "File \u001B[1;32m~\\anaconda3\\Lib\\site-packages\\keras\\src\\saving\\legacy\\save.py:234\u001B[0m, in \u001B[0;36mload_model\u001B[1;34m(filepath, custom_objects, compile, options)\u001B[0m\n\u001B[0;32m    232\u001B[0m \u001B[38;5;28;01mif\u001B[39;00m \u001B[38;5;28misinstance\u001B[39m(filepath_str, \u001B[38;5;28mstr\u001B[39m):\n\u001B[0;32m    233\u001B[0m     \u001B[38;5;28;01mif\u001B[39;00m \u001B[38;5;129;01mnot\u001B[39;00m tf\u001B[38;5;241m.\u001B[39mio\u001B[38;5;241m.\u001B[39mgfile\u001B[38;5;241m.\u001B[39mexists(filepath_str):\n\u001B[1;32m--> 234\u001B[0m         \u001B[38;5;28;01mraise\u001B[39;00m \u001B[38;5;167;01mIOError\u001B[39;00m(\n\u001B[0;32m    235\u001B[0m             \u001B[38;5;124mf\u001B[39m\u001B[38;5;124m\"\u001B[39m\u001B[38;5;124mNo file or directory found at \u001B[39m\u001B[38;5;132;01m{\u001B[39;00mfilepath_str\u001B[38;5;132;01m}\u001B[39;00m\u001B[38;5;124m\"\u001B[39m\n\u001B[0;32m    236\u001B[0m         )\n\u001B[0;32m    238\u001B[0m     \u001B[38;5;28;01mif\u001B[39;00m tf\u001B[38;5;241m.\u001B[39mio\u001B[38;5;241m.\u001B[39mgfile\u001B[38;5;241m.\u001B[39misdir(filepath_str):\n\u001B[0;32m    239\u001B[0m         \u001B[38;5;28;01mreturn\u001B[39;00m saved_model_load\u001B[38;5;241m.\u001B[39mload(\n\u001B[0;32m    240\u001B[0m             filepath_str, \u001B[38;5;28mcompile\u001B[39m, options\n\u001B[0;32m    241\u001B[0m         )\n",
      "\u001B[1;31mOSError\u001B[0m: No file or directory found at classification_models/DL_models_smote/bert_bi-lstm_attention_smote/bert_bilstm_attention_model_l.keras"
     ]
    }
   ],
   "source": [
    "#读取bert_bi_lstm_attention模型\n",
    "from keras.models import load_model\n",
    "import keras.src.models\n",
    "# 如下的文件位置，根据自己电脑的文件位置更改\n",
    "bert_bi_lstm_attention_model = load_model(r'classification_models/DL_models_smote/bert_bi-lstm_attention_smote/bert_bilstm_attention_model_l.keras',custom_objects={'Attention': Attention})\n",
    "# 打印加载的模型结构\n",
    "print (bert_bi_lstm_attention_model.summary())"
   ],
   "metadata": {
    "collapsed": false,
    "ExecuteTime": {
     "end_time": "2024-04-29T05:32:24.319794900Z",
     "start_time": "2024-04-29T05:32:24.141977900Z"
    }
   },
   "id": "166eb5ba376377fc"
  },
  {
   "cell_type": "markdown",
   "source": [
    "模型评估"
   ],
   "metadata": {
    "collapsed": false
   },
   "id": "fd52d247975cdf"
  },
  {
   "cell_type": "code",
   "execution_count": 26,
   "outputs": [],
   "source": [
    "#复合模型评价\n",
    "def evaluate_composite_model(model1,r1, model2,r2, X_test_features,X_test_embedding, y_test):\n",
    "    \n",
    "    # Predict probabilities\n",
    "    y_pred_proba = pd.DataFrame(model1.predict_proba(X_test_features)[:,1])*r1+pd.DataFrame(model2.predict(X_test_embedding)*r2)\n",
    "    \n",
    "    # Predict labels\n",
    "    y_pred=np.where(y_pred_proba>0.5,1,0)\n",
    "    \n",
    "    # Calculate accuracy, precision, recall, F1-score, and AUC\n",
    "    accuracy = accuracy_score(y_test, y_pred)\n",
    "    precision = precision_score(y_test, y_pred)\n",
    "    recall = recall_score(y_test, y_pred)\n",
    "    f1 = f1_score(y_test, y_pred)\n",
    "    auc = roc_auc_score(y_test, y_pred_proba)\n",
    "    \n",
    "    # Calculate ROC curve\n",
    "    fpr, tpr, thresholds = roc_curve(y_test, y_pred_proba)\n",
    "    \n",
    "    return [accuracy, precision, recall, f1, auc,fpr.tolist(), tpr.tolist()]"
   ],
   "metadata": {
    "collapsed": false,
    "ExecuteTime": {
     "end_time": "2024-04-08T13:11:05.226282300Z",
     "start_time": "2024-04-08T13:11:05.203512500Z"
    }
   },
   "id": "28d5604584e01ed8"
  },
  {
   "cell_type": "code",
   "execution_count": 37,
   "outputs": [
    {
     "name": "stdout",
     "output_type": "stream",
     "text": [
      "1850/1850 [==============================] - 136s 73ms/step\n",
      "1850/1850 [==============================] - 144s 78ms/step\n",
      "1850/1850 [==============================] - 133s 72ms/step\n",
      "1850/1850 [==============================] - 129s 69ms/step\n",
      "1850/1850 [==============================] - 126s 68ms/step\n",
      "1850/1850 [==============================] - 126s 68ms/step\n",
      "1850/1850 [==============================] - 121s 65ms/step\n",
      "1850/1850 [==============================] - 123s 66ms/step\n",
      "1850/1850 [==============================] - 123s 66ms/step\n",
      "1850/1850 [==============================] - 126s 68ms/step\n"
     ]
    }
   ],
   "source": [
    "metrics_name = ['accuracy', 'precision', 'recall', 'f1-score','auc','fpr-score','tpr-score']\n",
    "rate_list=['xg_0.1','xg_0.2','xg_0.3','xg_0.4','xg_0.5','xg_0.6','xg_0.7','xg_0.8','xg_0.9','xg_1.0']\n",
    "metrics_dict = {}\n",
    "for r in np.arange(0.1,1.1,0.1):\n",
    "    r1=r\n",
    "    r2=1-r\n",
    "    metrics = evaluate_composite_model(xgboost,r1,bert_bi_lstm_attention_model,r2, X_test_feature,X_test_embedding, y_test)\n",
    "    metrics_dict[rate_list[int(r*10-1)]] = {metrics_name[j]: metrics[j] for j in range(len(metrics))}"
   ],
   "metadata": {
    "collapsed": false,
    "ExecuteTime": {
     "end_time": "2024-04-08T14:35:43.104067800Z",
     "start_time": "2024-04-08T14:14:01.720222500Z"
    }
   },
   "id": "393efca9fc0beff8"
  },
  {
   "cell_type": "code",
   "execution_count": 39,
   "outputs": [],
   "source": [
    "import json\n",
    "#以json文件保存字典结果\n",
    "with open('fixed_model_metrics_dict.json', 'w') as f:\n",
    "    json.dump(metrics_dict, f)"
   ],
   "metadata": {
    "collapsed": false,
    "ExecuteTime": {
     "end_time": "2024-04-08T15:38:19.435113300Z",
     "start_time": "2024-04-08T15:38:18.395385Z"
    }
   },
   "id": "d79bbd441af3bdbc"
  },
  {
   "cell_type": "code",
   "execution_count": 40,
   "outputs": [
    {
     "data": {
      "text/plain": "                                                      xg_0.1  \\\naccuracy                                            0.807829   \nprecision                                           0.843754   \nrecall                                              0.755575   \nf1-score                                            0.797233   \nauc                                                 0.901114   \nfpr-score  [0.0, 0.0, 0.0, 0.0, 0.0, 3.378834977699689e-0...   \ntpr-score  [0.0, 3.378834977699689e-05, 0.018347073928909...   \n\n                                                      xg_0.2  \\\naccuracy                                            0.821699   \nprecision                                           0.853179   \nrecall                                              0.777132   \nf1-score                                            0.813382   \nauc                                                 0.912951   \nfpr-score  [0.0, 0.0, 0.0, 0.0, 0.0, 0.0, 0.0, 0.0, 0.0, ...   \ntpr-score  [0.0, 3.378834977699689e-05, 0.004223543722124...   \n\n                                                      xg_0.3  \\\naccuracy                                            0.836718   \nprecision                                           0.865935   \nrecall                                              0.796797   \nf1-score                                            0.829928   \nauc                                                 0.921637   \nfpr-score  [0.0, 0.0, 0.0, 0.0, 0.0, 0.0, 0.0, 0.0, 0.0, ...   \ntpr-score  [0.0, 3.378834977699689e-05, 0.006656304906068...   \n\n                                                      xg_0.4  \\\naccuracy                                            0.854609   \nprecision                                           0.883842   \nrecall                                              0.816529   \nf1-score                                            0.848853   \nauc                                                 0.928375   \nfpr-score  [0.0, 0.0, 0.0, 0.0, 0.0, 0.0, 0.0, 0.0, 0.0, ...   \ntpr-score  [0.0, 3.378834977699689e-05, 0.004426273820786...   \n\n                                                      xg_0.5  \\\naccuracy                                            0.865016   \nprecision                                           0.908153   \nrecall                                              0.812171   \nf1-score                                            0.857484   \nauc                                                 0.932248   \nfpr-score  [0.0, 0.0, 0.0, 0.0, 0.0, 0.0, 0.0, 0.0, 0.0, ...   \ntpr-score  [0.0, 3.378834977699689e-05, 0.000743343695093...   \n\n                                                      xg_0.6  \\\naccuracy                                            0.864644   \nprecision                                            0.93206   \nrecall                                              0.786627   \nf1-score                                             0.85319   \nauc                                                 0.932071   \nfpr-score  [0.0, 0.0, 0.0, 0.0, 0.0, 0.0, 0.0, 0.0, 0.0, ...   \ntpr-score  [0.0, 3.378834977699689e-05, 0.007095553453169...   \n\n                                                      xg_0.7  \\\naccuracy                                            0.860167   \nprecision                                           0.949105   \nrecall                                               0.76115   \nf1-score                                            0.844799   \nauc                                                 0.928932   \nfpr-score  [0.0, 0.0, 0.0, 0.0, 0.0, 0.0, 0.0, 0.0, 0.0, ...   \ntpr-score  [0.0, 3.378834977699689e-05, 0.000979862143532...   \n\n                                                      xg_0.8  \\\naccuracy                                            0.854693   \nprecision                                           0.959349   \nrecall                                              0.740776   \nf1-score                                            0.836012   \nauc                                                 0.922368   \nfpr-score  [0.0, 0.0, 0.0, 0.0, 0.0, 0.0, 0.0, 0.0, 0.0, ...   \ntpr-score  [0.0, 3.378834977699689e-05, 0.012670631166373...   \n\n                                                      xg_0.9  \\\naccuracy                                            0.849017   \nprecision                                           0.961283   \nrecall                                              0.727328   \nf1-score                                            0.828098   \nauc                                                 0.911651   \nfpr-score  [0.0, 0.0, 0.0, 0.0, 0.0, 0.0, 0.0, 0.0, 0.0, ...   \ntpr-score  [0.0, 3.378834977699689e-05, 0.006048114610082...   \n\n                                                      xg_1.0  \naccuracy                                            0.842377  \nprecision                                           0.953256  \nrecall                                              0.720064  \nf1-score                                            0.820411  \nauc                                                 0.897467  \nfpr-score  [0.0, 0.0, 0.0, 0.0, 0.0, 0.0, 0.0, 0.0, 0.0, ...  \ntpr-score  [0.0, 3.378834977699689e-05, 0.000135153399107...  ",
      "text/html": "<div>\n<style scoped>\n    .dataframe tbody tr th:only-of-type {\n        vertical-align: middle;\n    }\n\n    .dataframe tbody tr th {\n        vertical-align: top;\n    }\n\n    .dataframe thead th {\n        text-align: right;\n    }\n</style>\n<table border=\"1\" class=\"dataframe\">\n  <thead>\n    <tr style=\"text-align: right;\">\n      <th></th>\n      <th>xg_0.1</th>\n      <th>xg_0.2</th>\n      <th>xg_0.3</th>\n      <th>xg_0.4</th>\n      <th>xg_0.5</th>\n      <th>xg_0.6</th>\n      <th>xg_0.7</th>\n      <th>xg_0.8</th>\n      <th>xg_0.9</th>\n      <th>xg_1.0</th>\n    </tr>\n  </thead>\n  <tbody>\n    <tr>\n      <th>accuracy</th>\n      <td>0.807829</td>\n      <td>0.821699</td>\n      <td>0.836718</td>\n      <td>0.854609</td>\n      <td>0.865016</td>\n      <td>0.864644</td>\n      <td>0.860167</td>\n      <td>0.854693</td>\n      <td>0.849017</td>\n      <td>0.842377</td>\n    </tr>\n    <tr>\n      <th>precision</th>\n      <td>0.843754</td>\n      <td>0.853179</td>\n      <td>0.865935</td>\n      <td>0.883842</td>\n      <td>0.908153</td>\n      <td>0.93206</td>\n      <td>0.949105</td>\n      <td>0.959349</td>\n      <td>0.961283</td>\n      <td>0.953256</td>\n    </tr>\n    <tr>\n      <th>recall</th>\n      <td>0.755575</td>\n      <td>0.777132</td>\n      <td>0.796797</td>\n      <td>0.816529</td>\n      <td>0.812171</td>\n      <td>0.786627</td>\n      <td>0.76115</td>\n      <td>0.740776</td>\n      <td>0.727328</td>\n      <td>0.720064</td>\n    </tr>\n    <tr>\n      <th>f1-score</th>\n      <td>0.797233</td>\n      <td>0.813382</td>\n      <td>0.829928</td>\n      <td>0.848853</td>\n      <td>0.857484</td>\n      <td>0.85319</td>\n      <td>0.844799</td>\n      <td>0.836012</td>\n      <td>0.828098</td>\n      <td>0.820411</td>\n    </tr>\n    <tr>\n      <th>auc</th>\n      <td>0.901114</td>\n      <td>0.912951</td>\n      <td>0.921637</td>\n      <td>0.928375</td>\n      <td>0.932248</td>\n      <td>0.932071</td>\n      <td>0.928932</td>\n      <td>0.922368</td>\n      <td>0.911651</td>\n      <td>0.897467</td>\n    </tr>\n    <tr>\n      <th>fpr-score</th>\n      <td>[0.0, 0.0, 0.0, 0.0, 0.0, 3.378834977699689e-0...</td>\n      <td>[0.0, 0.0, 0.0, 0.0, 0.0, 0.0, 0.0, 0.0, 0.0, ...</td>\n      <td>[0.0, 0.0, 0.0, 0.0, 0.0, 0.0, 0.0, 0.0, 0.0, ...</td>\n      <td>[0.0, 0.0, 0.0, 0.0, 0.0, 0.0, 0.0, 0.0, 0.0, ...</td>\n      <td>[0.0, 0.0, 0.0, 0.0, 0.0, 0.0, 0.0, 0.0, 0.0, ...</td>\n      <td>[0.0, 0.0, 0.0, 0.0, 0.0, 0.0, 0.0, 0.0, 0.0, ...</td>\n      <td>[0.0, 0.0, 0.0, 0.0, 0.0, 0.0, 0.0, 0.0, 0.0, ...</td>\n      <td>[0.0, 0.0, 0.0, 0.0, 0.0, 0.0, 0.0, 0.0, 0.0, ...</td>\n      <td>[0.0, 0.0, 0.0, 0.0, 0.0, 0.0, 0.0, 0.0, 0.0, ...</td>\n      <td>[0.0, 0.0, 0.0, 0.0, 0.0, 0.0, 0.0, 0.0, 0.0, ...</td>\n    </tr>\n    <tr>\n      <th>tpr-score</th>\n      <td>[0.0, 3.378834977699689e-05, 0.018347073928909...</td>\n      <td>[0.0, 3.378834977699689e-05, 0.004223543722124...</td>\n      <td>[0.0, 3.378834977699689e-05, 0.006656304906068...</td>\n      <td>[0.0, 3.378834977699689e-05, 0.004426273820786...</td>\n      <td>[0.0, 3.378834977699689e-05, 0.000743343695093...</td>\n      <td>[0.0, 3.378834977699689e-05, 0.007095553453169...</td>\n      <td>[0.0, 3.378834977699689e-05, 0.000979862143532...</td>\n      <td>[0.0, 3.378834977699689e-05, 0.012670631166373...</td>\n      <td>[0.0, 3.378834977699689e-05, 0.006048114610082...</td>\n      <td>[0.0, 3.378834977699689e-05, 0.000135153399107...</td>\n    </tr>\n  </tbody>\n</table>\n</div>"
     },
     "execution_count": 40,
     "metadata": {},
     "output_type": "execute_result"
    }
   ],
   "source": [
    "import pandas as pd\n",
    "data_metrics = pd.DataFrame(metrics_dict)\n",
    "# #读取每个模型的评价指标值\n",
    "# metrics_name = ['accuracy', 'precision', 'recall', 'f1-score','auc','fpr-score','tpr-score']\n",
    "data_metrics"
   ],
   "metadata": {
    "collapsed": false,
    "ExecuteTime": {
     "end_time": "2024-04-08T15:38:26.031129800Z",
     "start_time": "2024-04-08T15:38:25.969805500Z"
    }
   },
   "id": "b6cf6e1eddbc3c0e"
  },
  {
   "cell_type": "code",
   "execution_count": 42,
   "outputs": [],
   "source": [
    "# 保存最好的组合模型评价分数\n",
    "# print(metrics_dict['xg_0.5'])\n",
    "#以json文件保存字典结果\n",
    "with open('last_model_metrics_dict.json', 'w') as f:\n",
    "    json.dump(metrics_dict['xg_0.5'], f)"
   ],
   "metadata": {
    "collapsed": false,
    "ExecuteTime": {
     "end_time": "2024-04-08T15:57:17.796378Z",
     "start_time": "2024-04-08T15:57:17.708089300Z"
    }
   },
   "id": "edc966881908aca6"
  },
  {
   "cell_type": "code",
   "execution_count": null,
   "outputs": [],
   "source": [],
   "metadata": {
    "collapsed": false
   },
   "id": "370d96460d1da0e9"
  }
 ],
 "metadata": {
  "kernelspec": {
   "display_name": "Python 3",
   "language": "python",
   "name": "python3"
  },
  "language_info": {
   "codemirror_mode": {
    "name": "ipython",
    "version": 2
   },
   "file_extension": ".py",
   "mimetype": "text/x-python",
   "name": "python",
   "nbconvert_exporter": "python",
   "pygments_lexer": "ipython2",
   "version": "2.7.6"
  }
 },
 "nbformat": 4,
 "nbformat_minor": 5
}
