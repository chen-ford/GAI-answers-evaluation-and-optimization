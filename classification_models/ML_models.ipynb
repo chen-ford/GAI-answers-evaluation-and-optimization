{
 "cells": [
  {
   "cell_type": "code",
   "execution_count": 1,
   "id": "initial_id",
   "metadata": {
    "collapsed": true,
    "ExecuteTime": {
     "end_time": "2024-03-29T13:31:05.510778400Z",
     "start_time": "2024-03-29T13:30:50.047005100Z"
    }
   },
   "outputs": [],
   "source": [
    "import pandas as pd\n",
    "from sklearn.metrics import roc_curve, auc\n",
    "from sklearn.tree import DecisionTreeClassifier\n",
    "from sklearn.linear_model import LogisticRegression\n",
    "from sklearn.ensemble import RandomForestClassifier\n",
    "from sklearn.neighbors import KNeighborsClassifier\n",
    "from sklearn.ensemble import AdaBoostClassifier\n",
    "import xgboost as xgb\n",
    "from sklearn.metrics import accuracy_score, precision_score, recall_score, f1_score, roc_auc_score\n",
    "from imblearn.over_sampling import SMOTE\n",
    "import pickle"
   ]
  },
  {
   "cell_type": "markdown",
   "source": [
    "模型训练函数"
   ],
   "metadata": {
    "collapsed": false
   },
   "id": "f9ebe2b2991d4300"
  },
  {
   "cell_type": "code",
   "execution_count": 2,
   "outputs": [],
   "source": [
    "#逻辑回归模型\n",
    "def logistic_regression(X_train, y_train):\n",
    "# Create an instance of the LogisticRegression\n",
    "    model = LogisticRegression()\n",
    "# Fit the model to the data\n",
    "    model.fit(X_train, y_train)\n",
    "    \n",
    "    return model"
   ],
   "metadata": {
    "collapsed": false,
    "ExecuteTime": {
     "end_time": "2024-03-29T13:31:05.520097500Z",
     "start_time": "2024-03-29T13:31:05.511780900Z"
    }
   },
   "id": "e2aee1bfbcccf9b"
  },
  {
   "cell_type": "code",
   "execution_count": 3,
   "outputs": [],
   "source": [
    "#ID3模型\n",
    "def ID3(X_train, y_train):\n",
    "# Create an instance of the DecisionTreeClassifier with ID3 algorithm\n",
    "    model = DecisionTreeClassifier(criterion='entropy')\n",
    "# Fit the model to the data\n",
    "    model.fit(X_train, y_train)\n",
    "    \n",
    "    return model"
   ],
   "metadata": {
    "collapsed": false,
    "ExecuteTime": {
     "end_time": "2024-03-29T13:31:05.530071900Z",
     "start_time": "2024-03-29T13:31:05.525540700Z"
    }
   },
   "id": "f095c473873eb652"
  },
  {
   "cell_type": "code",
   "execution_count": 4,
   "outputs": [],
   "source": [
    "#随机森林\n",
    "# Define the model\n",
    "def random_forest(X_train, y_train):\n",
    "# Create an instance of the RandomForestClassifier\n",
    "    model = RandomForestClassifier()\n",
    "# Fit the model to the data\n",
    "    model.fit(X_train, y_train)\n",
    "\n",
    "    return model"
   ],
   "metadata": {
    "collapsed": false,
    "ExecuteTime": {
     "end_time": "2024-03-29T13:31:05.566748800Z",
     "start_time": "2024-03-29T13:31:05.535073900Z"
    }
   },
   "id": "e91304392a08f47a"
  },
  {
   "cell_type": "code",
   "execution_count": 5,
   "outputs": [],
   "source": [
    "#KNN\n",
    "def knn(X_train, y_train):\n",
    "# Create an instance of the KNeighborsClassifier\n",
    "    model = KNeighborsClassifier()\n",
    "\n",
    "# Fit the model to the data\n",
    "    model.fit(X_train, y_train,)\n",
    "\n",
    "    return model"
   ],
   "metadata": {
    "collapsed": false,
    "ExecuteTime": {
     "end_time": "2024-03-29T13:31:05.569076500Z",
     "start_time": "2024-03-29T13:31:05.548678300Z"
    }
   },
   "id": "dd14e2e5b5dea556"
  },
  {
   "cell_type": "code",
   "execution_count": 6,
   "outputs": [],
   "source": [
    "# #BP模型\n",
    "# \n",
    "# def bp(X_train, y_train):\n",
    "# # Convert labels to one-hot encoding\n",
    "#     y_one_hot = tf.keras.utils.to_categorical(y_train, num_classes=2)\n",
    "# \n",
    "# # Create a sequential model\n",
    "#     model = tf.keras.models.Sequential([\n",
    "#         tf.keras.layers.Dense(64, activation='relu', input_shape=(19,)),\n",
    "#         tf.keras.layers.Dense(64, activation='relu'),\n",
    "#         tf.keras.layers.Dense(2, activation='softmax')\n",
    "#     ])\n",
    "#     optimizer = tf.keras.optimizers.Adam(learning_rate=0.001)\n",
    "# # Compile the model\n",
    "#     model.compile(optimizer=optimizer, loss='categorical_crossentropy', metrics=['accuracy'])\n",
    "#     \n",
    "#     # Fit the model to the data\n",
    "#     model.fit(X_train, y_one_hot,validation_split=0.2, epochs=128, batch_size=32)\n",
    "#     \n",
    "# \n",
    "#     return model"
   ],
   "metadata": {
    "collapsed": false,
    "ExecuteTime": {
     "end_time": "2024-03-29T13:31:05.578069400Z",
     "start_time": "2024-03-29T13:31:05.559222700Z"
    }
   },
   "id": "4178969f4b0cf036"
  },
  {
   "cell_type": "code",
   "execution_count": 7,
   "outputs": [],
   "source": [
    "#adaBoost\n",
    "\n",
    "def adaBoost(X_train, y_train):\n",
    "    # Create a Decision Tree classifier\n",
    "    dt_classifier = DecisionTreeClassifier(criterion='entropy')\n",
    "\n",
    "    # Train the Decision Tree classifier\n",
    "    dt_classifier.fit(X_train, y_train)\n",
    "    \n",
    "    # Create an AdaBoost classifier\n",
    "    ada_boost_classifier = AdaBoostClassifier()\n",
    "    \n",
    "    # Train the AdaBoost classifier\n",
    "    ada_boost_classifier.fit(X_train, y_train,)\n",
    "\n",
    "    return ada_boost_classifier"
   ],
   "metadata": {
    "collapsed": false,
    "ExecuteTime": {
     "end_time": "2024-03-29T13:31:05.598588900Z",
     "start_time": "2024-03-29T13:31:05.572094300Z"
    }
   },
   "id": "e67684d485a7ff5e"
  },
  {
   "cell_type": "code",
   "execution_count": 8,
   "outputs": [],
   "source": [
    "#XGBoost模型,训练时加入验证集\n",
    "def xgboost(X_train, y_train):\n",
    "\n",
    "    # Create a DMatrix for XGBoost\n",
    "    model = xgb.XGBClassifier()\n",
    "    model.fit(X_train, y_train)\n",
    "    \n",
    "    return model"
   ],
   "metadata": {
    "collapsed": false,
    "ExecuteTime": {
     "end_time": "2024-03-29T13:31:05.631857200Z",
     "start_time": "2024-03-29T13:31:05.589005200Z"
    }
   },
   "id": "74b3d6ae5dd1831f"
  },
  {
   "cell_type": "code",
   "execution_count": 9,
   "outputs": [],
   "source": [
    "from sklearn import svm\n",
    "\n",
    "\n",
    "#SVM模型\n",
    "def svm_model(X_train, y_train):\n",
    "    # Create an SVM classifier\n",
    "    model = svm.SVC(kernel='rbf')\n",
    "    \n",
    "    # Train the SVM classifier\n",
    "    model.fit(X_train, y_train)\n",
    "    \n",
    "    return model\n"
   ],
   "metadata": {
    "collapsed": false,
    "ExecuteTime": {
     "end_time": "2024-03-29T13:31:05.636924100Z",
     "start_time": "2024-03-29T13:31:05.601585600Z"
    }
   },
   "id": "22f279be7050f703"
  },
  {
   "cell_type": "markdown",
   "source": [
    "模型评估"
   ],
   "metadata": {
    "collapsed": false
   },
   "id": "973e16f4ec72dc44"
  },
  {
   "cell_type": "code",
   "execution_count": 10,
   "outputs": [],
   "source": [
    "#评价指标\n",
    "\n",
    "def evaluate_model(model, X_test, y_test):\n",
    "    \n",
    "    \n",
    "    # Predict probabilities\n",
    "    y_pred_proba = model.predict_proba(X_test)\n",
    "    \n",
    "    # Predict labels\n",
    "    y_pred = model.predict(X_test)\n",
    "    \n",
    "    # Calculate accuracy, precision, recall, F1-score, and AUC\n",
    "    accuracy = accuracy_score(y_test, y_pred)\n",
    "    precision = precision_score(y_test, y_pred)\n",
    "    recall = recall_score(y_test, y_pred)\n",
    "    f1 = f1_score(y_test, y_pred)\n",
    "    auc = roc_auc_score(y_test, y_pred_proba[:, 1])\n",
    "    \n",
    "    # Calculate ROC curve\n",
    "    fpr, tpr, thresholds = roc_curve(y_test, y_pred_proba[:, 1])\n",
    "    \n",
    "    return [accuracy, precision, recall, f1, auc,fpr.tolist(), tpr.tolist()]"
   ],
   "metadata": {
    "collapsed": false,
    "ExecuteTime": {
     "end_time": "2024-03-29T13:31:05.645435600Z",
     "start_time": "2024-03-29T13:31:05.617147400Z"
    }
   },
   "id": "dd941cd9019f638a"
  },
  {
   "cell_type": "code",
   "execution_count": 11,
   "outputs": [],
   "source": [
    "#bp模型的评价\n",
    "def evaluate_bp_model(model, X_test, y_test):\n",
    "    import numpy as np\n",
    "\n",
    "    # Predict probabilities\n",
    "    y_pred_proba = model.predict(X_test)[:, 1]\n",
    "\n",
    "    # Predict labels\n",
    "    # y_pred = model.predict(X_test)\n",
    "    y_pred = np.argmax(model.predict(X_test),axis=1)\n",
    "\n",
    "    # Calculate accuracy, precision, recall, F1-score, and AUC\n",
    "    accuracy = accuracy_score(y_test, y_pred)\n",
    "    precision = precision_score(y_test, y_pred)\n",
    "    recall = recall_score(y_test, y_pred)\n",
    "    f1 = f1_score(y_test, y_pred)\n",
    "    auc = roc_auc_score(y_test, y_pred_proba)\n",
    "\n",
    "    # Calculate ROC curve\n",
    "    fpr, tpr, thresholds = roc_curve(y_test, y_pred_proba)\n",
    "\n",
    "    return [accuracy, precision, recall, f1, auc,fpr.tolist(), tpr.tolist()]"
   ],
   "metadata": {
    "collapsed": false,
    "ExecuteTime": {
     "end_time": "2024-03-29T13:31:05.659082400Z",
     "start_time": "2024-03-29T13:31:05.630856800Z"
    }
   },
   "id": "1d70828762dc7db8"
  },
  {
   "cell_type": "code",
   "execution_count": 12,
   "outputs": [],
   "source": [
    "import numpy as np\n",
    "\n",
    "\n",
    "#SVM模型评价\n",
    "def evaluate_svm_model(model, X_test, y_test):\n",
    "    \n",
    "    # Predict probabilities\n",
    "    y_pred_proba = model.decision_function(X_test)\n",
    "    \n",
    "    # Predict labels\n",
    "    # y_pred = model.predict(X_test)\n",
    "    y_pred=np.where(y_pred_proba>0.5,1,0)\n",
    "    \n",
    "    # Calculate accuracy, precision, recall, F1-score, and AUC\n",
    "    accuracy = accuracy_score(y_test, y_pred)\n",
    "    precision = precision_score(y_test, y_pred)\n",
    "    recall = recall_score(y_test, y_pred)\n",
    "    f1 = f1_score(y_test, y_pred)\n",
    "    auc = roc_auc_score(y_test, y_pred_proba)\n",
    "    \n",
    "    # Calculate ROC curve\n",
    "    fpr, tpr, thresholds = roc_curve(y_test, y_pred_proba)\n",
    "    \n",
    "    return [accuracy, precision, recall, f1, auc,fpr.tolist(), tpr.tolist()]"
   ],
   "metadata": {
    "collapsed": false,
    "ExecuteTime": {
     "end_time": "2024-03-29T13:31:05.706219300Z",
     "start_time": "2024-03-29T13:31:05.648983300Z"
    }
   },
   "id": "9d2ff84dd817bc7e"
  },
  {
   "cell_type": "markdown",
   "source": [
    "数据处理函数"
   ],
   "metadata": {
    "collapsed": false
   },
   "id": "5091cfb09f251744"
  },
  {
   "cell_type": "code",
   "execution_count": 13,
   "outputs": [],
   "source": [
    "#不均衡采样\n",
    "def smote(X_train, y_train):\n",
    "    # Create an instance of SMOTE\n",
    "    smote = SMOTE(random_state=10)\n",
    "    # Apply SMOTE to the training data\n",
    "    X_train_resampled, y_train_resampled = smote.fit_resample(X_train, y_train)\n",
    "    return X_train_resampled, y_train_resampled"
   ],
   "metadata": {
    "collapsed": false,
    "ExecuteTime": {
     "end_time": "2024-03-29T13:31:05.715214Z",
     "start_time": "2024-03-29T13:31:05.659082400Z"
    }
   },
   "id": "a42aeb4e173bf505"
  },
  {
   "cell_type": "code",
   "execution_count": 14,
   "outputs": [],
   "source": [
    "# #数据分割\n",
    "# from sklearn.model_selection import train_test_split\n",
    "# def split(X, y):\n",
    "#     # Split the data into training and\n",
    "#     X_train, X_test, y_train, y_test = train_test_split(X, y, test_size=0.2, random_state=10)\n",
    "#     return X_train, X_test, y_train, y_test"
   ],
   "metadata": {
    "collapsed": false,
    "ExecuteTime": {
     "end_time": "2024-03-29T13:31:05.717304Z",
     "start_time": "2024-03-29T13:31:05.683206900Z"
    }
   },
   "id": "9ff05722dc4cb9ec"
  },
  {
   "cell_type": "markdown",
   "source": [
    "训练模型"
   ],
   "metadata": {
    "collapsed": false
   },
   "id": "e72c01d2bb96064c"
  },
  {
   "cell_type": "code",
   "execution_count": 15,
   "outputs": [],
   "source": [
    "# 导入数据\n",
    "X_train_features_res = pd.read_csv(r'C:\\Users\\mi\\PycharmProjects\\textAnalysis\\data\\data_minmaxscaler\\somte\\X_train_features_res.csv').iloc[:,5:]\n",
    "X_test_features_res = pd.read_csv(r'C:\\Users\\mi\\PycharmProjects\\textAnalysis\\data\\data_minmaxscaler\\somte\\X_test_features_res.csv').iloc[:,5:]\n",
    "y_train_res = pd.read_csv(r'C:\\Users\\mi\\PycharmProjects\\textAnalysis\\data\\data_minmaxscaler\\somte\\y_train_res.csv')[:100]\n",
    "y_test_res = pd.read_csv(r'C:\\Users\\mi\\PycharmProjects\\textAnalysis\\data\\data_minmaxscaler\\somte\\y_test_res.csv')[:100]"
   ],
   "metadata": {
    "collapsed": false,
    "ExecuteTime": {
     "end_time": "2024-03-29T13:31:07.516035700Z",
     "start_time": "2024-03-29T13:31:05.694591500Z"
    }
   },
   "id": "229c726e7ca89bc8"
  },
  {
   "cell_type": "code",
   "execution_count": null,
   "outputs": [],
   "source": [
    "#smote采样本\n",
    "X_train_features_res, y_train_res = smote(X_train_features_res, y_train_res)\n",
    "X_test_features_res, y_test_res = smote(X_test_features_res, y_test_res)"
   ],
   "metadata": {
    "collapsed": false
   },
   "id": "bda81f9f3ccca34a"
  },
  {
   "cell_type": "markdown",
   "source": [],
   "metadata": {
    "collapsed": false
   },
   "id": "2d723a1dc4f350ae"
  },
  {
   "cell_type": "code",
   "execution_count": 16,
   "outputs": [
    {
     "name": "stderr",
     "output_type": "stream",
     "text": [
      "C:\\Users\\mi\\anaconda3\\Lib\\site-packages\\sklearn\\utils\\validation.py:1300: DataConversionWarning: A column-vector y was passed when a 1d array was expected. Please change the shape of y to (n_samples, ), for example using ravel().\n",
      "  y = column_or_1d(y, warn=True)\n",
      "C:\\Users\\mi\\anaconda3\\Lib\\site-packages\\sklearn\\base.py:1474: DataConversionWarning: A column-vector y was passed when a 1d array was expected. Please change the shape of y to (n_samples,), for example using ravel().\n",
      "  return fit_method(estimator, *args, **kwargs)\n",
      "C:\\Users\\mi\\anaconda3\\Lib\\site-packages\\sklearn\\neighbors\\_classification.py:238: DataConversionWarning: A column-vector y was passed when a 1d array was expected. Please change the shape of y to (n_samples,), for example using ravel().\n",
      "  return self._fit(X, y)\n",
      "C:\\Users\\mi\\anaconda3\\Lib\\site-packages\\sklearn\\utils\\validation.py:1300: DataConversionWarning: A column-vector y was passed when a 1d array was expected. Please change the shape of y to (n_samples, ), for example using ravel().\n",
      "  y = column_or_1d(y, warn=True)\n",
      "C:\\Users\\mi\\anaconda3\\Lib\\site-packages\\sklearn\\ensemble\\_weight_boosting.py:519: FutureWarning: The SAMME.R algorithm (the default) is deprecated and will be removed in 1.6. Use the SAMME algorithm to circumvent this warning.\n",
      "  warnings.warn(\n",
      "C:\\Users\\mi\\anaconda3\\Lib\\site-packages\\sklearn\\utils\\validation.py:1300: DataConversionWarning: A column-vector y was passed when a 1d array was expected. Please change the shape of y to (n_samples, ), for example using ravel().\n",
      "  y = column_or_1d(y, warn=True)\n"
     ]
    }
   ],
   "source": [
    "# 模型训练\n",
    "# model_name=['logistic_regression','ID3','random_forest','knn','bp','adaBoost','xgboost','svm']\n",
    "model_name=['logistic_regression','ID3','random_forest','knn','adaBoost','xgboost','svm']\n",
    "# models = [logistic_regression(X_train_features_res, y_train_res), ID3(X_train_features_res, y_train_res), random_forest(X_train_features_res, y_train_res), knn(X_train_features_res, y_train_res), bp(X_train_features_res, y_train_res), adaBoost(X_train_features_res, y_train_res), xgboost(X_train_features_res, y_train_res), svm_model(X_train_features_res, y_train_res)]\n",
    "models = [logistic_regression(X_train_features_res, y_train_res), ID3(X_train_features_res, y_train_res), random_forest(X_train_features_res, y_train_res), knn(X_train_features_res, y_train_res), adaBoost(X_train_features_res, y_train_res), xgboost(X_train_features_res, y_train_res), svm_model(X_train_features_res, y_train_res)]\n",
    "\n",
    "#将每个模型进行保存\n",
    "for i, model in enumerate(models):\n",
    "    model_path = f\"{model_name[i]}_model_{i+1}.pkl\"\n",
    "    with open(model_path, 'wb') as f:\n",
    "        pickle.dump(model, f)"
   ],
   "metadata": {
    "collapsed": false,
    "ExecuteTime": {
     "end_time": "2024-03-29T13:31:09.051446500Z",
     "start_time": "2024-03-29T13:31:07.534037800Z"
    }
   },
   "id": "824b41d6ff8e5ef1"
  },
  {
   "cell_type": "code",
   "execution_count": 17,
   "outputs": [
    {
     "name": "stderr",
     "output_type": "stream",
     "text": [
      "C:\\Users\\mi\\anaconda3\\Lib\\site-packages\\sklearn\\metrics\\_classification.py:1509: UndefinedMetricWarning: Precision is ill-defined and being set to 0.0 due to no predicted samples. Use `zero_division` parameter to control this behavior.\n",
      "  _warn_prf(average, modifier, f\"{metric.capitalize()} is\", len(result))\n",
      "C:\\Users\\mi\\anaconda3\\Lib\\site-packages\\sklearn\\metrics\\_classification.py:1509: UndefinedMetricWarning: Precision is ill-defined and being set to 0.0 due to no predicted samples. Use `zero_division` parameter to control this behavior.\n",
      "  _warn_prf(average, modifier, f\"{metric.capitalize()} is\", len(result))\n"
     ]
    }
   ],
   "source": [
    "import json\n",
    "\n",
    "# 加载模型\n",
    "def load_model(model_name):\n",
    "    with open(model_name, 'rb') as f:\n",
    "        model = pickle.load(f)\n",
    "    return model\n",
    "\n",
    "# model_name=['logistic_regression','ID3','random_forest','knn','bp','adaBoost','xgboost','svm']\n",
    "model_name=['logistic_regression','ID3','random_forest','knn','adaBoost','xgboost','svm']\n",
    "# 加载所有模型\n",
    "# models = [load_model(f\"ML_models/{model_name[i]}_model_{i+1}.pkl\") for i in range(len(model_name))]\n",
    "\n",
    "#计算每个模型的评价指标,bp和svm模型需要单独计算\n",
    "metrics_name = ['accuracy', 'precision', 'recall', 'f1-score','auc','fpr-score','tpr-score']\n",
    "#计算每个模型的评价指标值，然后按照模型名，指标名称将结果存入一个字典\n",
    "metrics_dict = {}\n",
    "for i, model in enumerate(models):\n",
    "    try:\n",
    "        if model_name[i] == 'bp':\n",
    "            metrics = evaluate_bp_model(model, X_test_features_res, y_test_res)\n",
    "            metrics_dict[model_name[i]] = {metrics_name[j]: metrics[j] for j in range(len(metrics))}\n",
    "            continue\n",
    "        elif model_name[i] == 'svm':\n",
    "            metrics = evaluate_svm_model(model, X_test_features_res, y_test_res)\n",
    "            metrics_dict[model_name[i]] = {metrics_name[j]: metrics[j] for j in range(len(metrics))}\n",
    "            continue\n",
    "        else:\n",
    "            metrics = evaluate_model(model, X_test_features_res, y_test_res)\n",
    "            metrics_dict[model_name[i]] = {metrics_name[j]: metrics[j] for j in range(len(metrics))}\n",
    "    except:\n",
    "        print(f\"模型{model_name[i]}无法计算评价指标\")"
   ],
   "metadata": {
    "collapsed": false,
    "ExecuteTime": {
     "end_time": "2024-03-29T13:31:10.589012400Z",
     "start_time": "2024-03-29T13:31:09.062447200Z"
    }
   },
   "id": "bccd6e7431b7329b"
  },
  {
   "cell_type": "code",
   "execution_count": 18,
   "outputs": [],
   "source": [
    "#以json文件保存字典结果\n",
    "with open('metrics_dict.json', 'w') as f:\n",
    "    json.dump(metrics_dict, f)"
   ],
   "metadata": {
    "collapsed": false,
    "ExecuteTime": {
     "end_time": "2024-03-29T13:31:10.598621400Z",
     "start_time": "2024-03-29T13:31:10.589012400Z"
    }
   },
   "id": "4b0cf15e8fefd283"
  },
  {
   "cell_type": "markdown",
   "source": [
    "单独绘制roc曲线"
   ],
   "metadata": {
    "collapsed": false
   },
   "id": "40d8fd25a237a0fa"
  },
  {
   "cell_type": "code",
   "execution_count": 19,
   "outputs": [],
   "source": [
    "# #绘制多个模型的ROC曲线\n",
    "# \n",
    "# def plot_roc_curves(model_Name_list, metrics_list):\n",
    "#     # Get the number of models\n",
    "#     plt.figure(figsize=(10, 6))\n",
    "#     \n",
    "#     # Loop over the models\n",
    "#     for j in range(len(model_Name_list)):\n",
    "#         # Plot the ROC curve\n",
    "#         fpr, tpr= list(metrics_list[model_Name_list[j]]['fpr-score']), list(metrics_list[model_Name_list[j]]['tpr-score'])\n",
    "#     \n",
    "#         plt.plot(fpr, tpr, label=f\"{model_Name_list[j]}(AUC = {metrics_list[model_Name_list[j]]['auc']:.2f})\")\n",
    "#     \n",
    "#     # Add a legend\n",
    "#     \n",
    "#     # Add a line for the random classifier\n",
    "#     plt.plot([0, 1], [0, 1], 'k--')\n",
    "#     plt.xlim([0.0, 1.0])\n",
    "#     plt.ylim([0.0, 1.05])\n",
    "#     plt.xlabel('False Positive Rate')\n",
    "#     plt.ylabel('True Positive Rate')\n",
    "#     plt.title(f'ROC Curve')\n",
    "#     plt.legend(loc=\"lower right\")\n",
    "#     #保存图片\n",
    "#     plt.savefig('ML_roc_curves.png')\n",
    "#     # Show the plot\n",
    "#     plt.show()"
   ],
   "metadata": {
    "collapsed": false,
    "ExecuteTime": {
     "end_time": "2024-03-29T13:31:10.630309Z",
     "start_time": "2024-03-29T13:31:10.604757200Z"
    }
   },
   "id": "e68d2d7ecfc522ff"
  },
  {
   "cell_type": "code",
   "execution_count": 20,
   "outputs": [],
   "source": [
    "# #读取metrics_dict，利用每个模型的fpr，tpr绘制ROC曲线\n",
    "# with open('metrics_dict.json', 'r') as f:\n",
    "#     metrics_dict = json.load(f)\n",
    "# plot_roc_curves(model_name, metrics_dict)\n",
    "# # print(metrics_dict)\n",
    "# # print(metrics_dict['bp']['fpr-score'])"
   ],
   "metadata": {
    "collapsed": false,
    "ExecuteTime": {
     "end_time": "2024-03-29T13:31:10.633912Z",
     "start_time": "2024-03-29T13:31:10.616776800Z"
    }
   },
   "id": "8cd57cee9cefbc57"
  },
  {
   "cell_type": "code",
   "execution_count": 20,
   "outputs": [],
   "source": [],
   "metadata": {
    "collapsed": false,
    "ExecuteTime": {
     "end_time": "2024-03-29T13:31:10.643668300Z",
     "start_time": "2024-03-29T13:31:10.628305500Z"
    }
   },
   "id": "9418ed440c0256b3"
  }
 ],
 "metadata": {
  "kernelspec": {
   "display_name": "Python 3",
   "language": "python",
   "name": "python3"
  },
  "language_info": {
   "codemirror_mode": {
    "name": "ipython",
    "version": 2
   },
   "file_extension": ".py",
   "mimetype": "text/x-python",
   "name": "python",
   "nbconvert_exporter": "python",
   "pygments_lexer": "ipython2",
   "version": "2.7.6"
  }
 },
 "nbformat": 4,
 "nbformat_minor": 5
}
