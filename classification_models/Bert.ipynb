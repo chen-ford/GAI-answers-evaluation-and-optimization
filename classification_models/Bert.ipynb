{
 "cells": [
  {
   "cell_type": "code",
   "execution_count": 28,
   "id": "860dcff8e2be72e3",
   "metadata": {
    "ExecuteTime": {
     "end_time": "2024-04-03T05:32:03.877458Z",
     "start_time": "2024-04-03T05:32:03.094043700Z"
    }
   },
   "outputs": [],
   "source": [
    "from sklearn.metrics import accuracy_score, precision_score, recall_score, f1_score, roc_auc_score  \n",
    "from sklearn.metrics import roc_curve\n",
    "import matplotlib.pyplot as plt  \n",
    "import numpy as np  \n",
    "import tensorflow as tf\n",
    "import pandas as pd\n",
    "from keras.src.callbacks import LambdaCallback\n",
    "from keras.layers import Dense\n",
    "from keras.models import Model\n",
    "import torch\n",
    "import keras"
   ]
  },
  {
   "cell_type": "code",
   "execution_count": null,
   "id": "5af20c42b7346d40",
   "metadata": {},
   "outputs": [],
   "source": [
    "# from imblearn.over_sampling import SMOTE\n",
    "# \n",
    "# #不均衡采样\n",
    "# def smote(X_train, y_train):\n",
    "#     # Create an instance of SMOTE\n",
    "#     smote = SMOTE(random_state=10)\n",
    "#     # Apply SMOTE to the training data\n",
    "#     X_train_resampled, y_train_resampled = smote.fit_resample(X_train, y_train)\n",
    "#     return X_train_resampled, y_train_resampled"
   ]
  },
  {
   "cell_type": "code",
   "execution_count": 29,
   "id": "755fed111e38cf61",
   "metadata": {
    "ExecuteTime": {
     "end_time": "2024-04-03T05:32:10.689767600Z",
     "start_time": "2024-04-03T05:32:10.259588Z"
    }
   },
   "outputs": [],
   "source": [
    " # 加载训练集和测试集 \n",
    "# X_train = pd.read_csv(r\"data/X_train_minmaxscaler.csv\")['ChatGPT回答'].iloc[:10]\n",
    "# X_test = pd.read_csv(r\"data/X_test_minmaxscaler.csv\")['ChatGPT回答'].iloc[:10]\n",
    "y_train = pd.read_csv(r\"data/y_train_minmaxscaler.csv\")\n",
    "y_test = pd.read_csv(r\"data/y_test_minmaxscaler.csv\")"
   ]
  },
  {
   "cell_type": "code",
   "execution_count": 30,
   "id": "9aaa79582aaeb1e",
   "metadata": {
    "ExecuteTime": {
     "end_time": "2024-04-03T05:32:20.903826700Z",
     "start_time": "2024-04-03T05:32:17.876706400Z"
    }
   },
   "outputs": [],
   "source": [
    "# 构建词向量\n",
    "X_train_embedding = torch.load('data_embedding/train_embedding.pt',map_location=torch.device('cpu'))\n",
    "X_test_embedding = torch.load('data_embedding/test_embedding.pt',map_location=torch.device('cpu'))"
   ]
  },
  {
   "cell_type": "code",
   "execution_count": null,
   "id": "94d7b0775dd6432a",
   "metadata": {},
   "outputs": [],
   "source": [
    "#smote采样\n",
    "# X_train_embedding, y_train = smote(X_train_embedding.numpy(), y_train)\n",
    "# X_test_embedding, y_test = smote(X_test_embedding.numpy(), y_test)"
   ]
  },
  {
   "cell_type": "code",
   "execution_count": 54,
   "id": "9957534c327192af",
   "metadata": {
    "ExecuteTime": {
     "end_time": "2024-04-03T07:22:34.124164500Z",
     "start_time": "2024-04-03T07:22:34.087932700Z"
    }
   },
   "outputs": [],
   "source": [
    "#构建模型  \n",
    "from tensorflow.python.keras.callbacks import LambdaCallback\n",
    "\n",
    "def on_epoch_end(epoch, logs):  \n",
    "\n",
    "    # print(f'Epoch {epoch + 1}, Loss: {logs[\"loss\"]}') \n",
    "    print(f'Epoch {epoch + 1}') \n",
    "    train_loss = logs.get('loss')  \n",
    "    val_loss = logs.get('val_loss')  \n",
    "    train_acc = logs.get('accuracy')  \n",
    "    val_acc = logs.get('val_accuracy')  \n",
    "      \n",
    "    print(f'Epoch {epoch + 1}, Loss: {train_loss:.4f}, Val Loss: {val_loss:.4f}, '  \n",
    "          f'Acc: {train_acc:.4f}, Val Acc: {val_acc:.4f}')  \n",
    "    print(\"\\n\")\n",
    "\n",
    "def bert_model(X_train, y_train,num_epochs):\n",
    "# Create a sequential model\n",
    "#输入为（n，512，768）\n",
    "    # 定义输入层\n",
    "    input_layer = keras.layers.Input(shape=(768,))\n",
    "    # flatten_layer = tf.keras.layers.Flatten()(input_layer)\n",
    "    # 添加全连接层\n",
    "    dense_output1 = Dense(128, activation='relu')(input_layer)\n",
    "    # dense_output2 = Dense(128, activation='relu')(dense_output1)\n",
    "    dense_output3 = Dense(64, activation='relu')(dense_output1)\n",
    "    output= Dense(1, activation='sigmoid')(dense_output3)\n",
    "    model = Model(inputs=input_layer, outputs=output)\n",
    "\n",
    "    optimizer = keras.optimizers.legacy.Adam(learning_rate=0.0001,decay=1e-6) \n",
    "# Compile the model\n",
    "    model.compile(optimizer=optimizer, loss='mean_squared_error', metrics=['accuracy'])\n",
    "    \n",
    "    callback = LambdaCallback(on_epoch_end=on_epoch_end) \n",
    "    # Fit the model to the data\n",
    "    def_history=model.fit(X_train.numpy(), y_train,validation_split=0.3, epochs=num_epochs, batch_size=32,callbacks=[callback])\n",
    "    #每10个epoch打印一次loss和accu\n",
    "\n",
    "    return model, def_history"
   ]
  },
  {
   "cell_type": "code",
   "execution_count": 2,
   "id": "f1b35fd84a0f9b7e",
   "metadata": {
    "ExecuteTime": {
     "end_time": "2024-05-30T09:21:35.977211800Z",
     "start_time": "2024-05-30T09:21:35.930135800Z"
    }
   },
   "outputs": [],
   "source": [
    "# 模型训练\n",
    "bert_bp_model,history = bert_model(X_train_embedding, y_train, num_epochs=32)"
   ]
  },
  {
   "cell_type": "code",
   "execution_count": 3,
   "id": "6fa3bb0da0f20923",
   "metadata": {
    "ExecuteTime": {
     "end_time": "2024-05-30T09:21:45.298188700Z",
     "start_time": "2024-05-30T09:21:45.212193400Z"
    }
   },
   "outputs": [],
   "source": [
    "# 评估模型\n",
    "# score = bert_bp_model.evaluate(X_test_embedding.numpy(), y_test, verbose=0)  \n",
    "# print('Test loss:', score[0])  \n",
    "# print('Test accuracy:', score[1])"
   ]
  },
  {
   "cell_type": "code",
   "execution_count": 4,
   "id": "87986eb484604923",
   "metadata": {
    "ExecuteTime": {
     "end_time": "2024-05-30T09:21:54.255237800Z",
     "start_time": "2024-05-30T09:21:54.199331200Z"
    }
   },
   "outputs": [],
   "source": [
    "#绘制loss曲线\n",
    "# plt.figure(figsize=(10, 6))\n",
    "# plt.plot(history.history['loss'])\n",
    "# plt.plot(history.history['val_loss'])\n",
    "# plt.title('Model Loss')\n",
    "# plt.ylabel('Loss')\n",
    "# plt.xlabel('Epoch')\n",
    "# plt.legend(['Train', 'Validation'], loc='upper right')\n",
    "# # plt.savefig('bert_bp_loss.png')\n",
    "# plt.show()"
   ]
  },
  {
   "cell_type": "code",
   "execution_count": 5,
   "id": "481f2c064d5f567e",
   "metadata": {
    "ExecuteTime": {
     "end_time": "2024-05-30T09:22:04.018320200Z",
     "start_time": "2024-05-30T09:22:03.948201800Z"
    }
   },
   "outputs": [],
   "source": [
    "#绘制准确率曲线\n",
    "# plt.figure(figsize=(10, 6))\n",
    "# plt.plot(history.history['accuracy'])\n",
    "# plt.plot(history.history['val_accuracy'])\n",
    "# plt.title('Model Accuracy')\n",
    "# plt.ylabel('Accuracy')\n",
    "# plt.xlabel('Epoch')\n",
    "# plt.legend(['Train', 'Validation'], loc='lower right')\n",
    "# # plt.savefig('bert_bp_accuracy.png')\n",
    "# plt.show()"
   ]
  },
  {
   "cell_type": "code",
   "execution_count": null,
   "id": "5c157f96628eef4c",
   "metadata": {},
   "outputs": [],
   "source": [
    "#使用tensorflow保存模型\n",
    "bert_bp_model.save('bert_bp_model.h5')"
   ]
  },
  {
   "cell_type": "code",
   "execution_count": 51,
   "id": "7873dba69d218a1c",
   "metadata": {
    "ExecuteTime": {
     "end_time": "2024-04-03T07:18:46.207963100Z",
     "start_time": "2024-04-03T07:18:46.125335600Z"
    }
   },
   "outputs": [],
   "source": [
    "#模型的评价\n",
    "def evaluate_bert_bp_model(model, X_test, y_test):\n",
    "    \n",
    "    # Predict probabilities\n",
    "    y_pred_proba = model.predict(X_test)\n",
    "    \n",
    "    # Predict labels\n",
    "    # y_pred = model.predict(X_test)\n",
    "    # y_pred = np.argmax(model.predict(X_test),axis=1)\n",
    "    y_pred=np.where(y_pred_proba>0.5,1,0)\n",
    "    # Calculate accuracy, precision, recall, F1-score, and AUC\n",
    "    accuracy = accuracy_score(y_test, y_pred)\n",
    "    precision = precision_score(y_test, y_pred)\n",
    "    recall = recall_score(y_test, y_pred)\n",
    "    f1 = f1_score(y_test, y_pred)\n",
    "    auc = roc_auc_score(y_test, y_pred_proba)\n",
    "    \n",
    "    # Calculate ROC curve\n",
    "    fpr, tpr, thresholds = roc_curve(y_test, y_pred_proba)\n",
    "    \n",
    "    return [accuracy, precision, recall, f1, auc,fpr.tolist(), tpr.tolist()]"
   ]
  },
  {
   "cell_type": "code",
   "execution_count": 7,
   "id": "9b05b7bd6fff63e1",
   "metadata": {
    "ExecuteTime": {
     "end_time": "2024-05-30T09:22:35.738252500Z",
     "start_time": "2024-05-30T09:22:35.716719300Z"
    }
   },
   "outputs": [],
   "source": [
    "import json\n",
    "#计算每个模型的评价指标,\n",
    "metrics_name = ['accuracy', 'precision', 'recall', 'f1-score','auc','fpr-score','tpr-score']\n",
    "#计算每个模型的评价指标值，然后按照模型名，指标名称将结果存入一个字典\n",
    "metrics = evaluate_bert_bp_model(bert_bp_model, X_test_embedding.numpy(), y_test)\n",
    "bert_metrics_dict = {metrics_name[j]: metrics[j] for j in range(len(metrics))}"
   ]
  },
  {
   "cell_type": "code",
   "execution_count": 6,
   "id": "83674cef9474617",
   "metadata": {
    "ExecuteTime": {
     "end_time": "2024-05-30T09:22:24.613435300Z",
     "start_time": "2024-05-30T09:22:24.572442400Z"
    }
   },
   "outputs": [],
   "source": [
    "# print(bert_metrics_dict)"
   ]
  },
  {
   "cell_type": "code",
   "execution_count": null,
   "id": "f2c811f439340e7e",
   "metadata": {},
   "outputs": [],
   "source": [
    "#以json文件保存字典结果\n",
    "with open('bert_bp_metrics_dict.json', 'w') as f:\n",
    "    json.dump(bert_metrics_dict, f)"
   ]
  },
  {
   "cell_type": "code",
   "execution_count": null,
   "id": "e9581b56c9785ef3",
   "metadata": {},
   "outputs": [],
   "source": []
  }
 ],
 "metadata": {
  "kernelspec": {
   "display_name": "Python 3 (ipykernel)",
   "language": "python",
   "name": "python3"
  },
  "language_info": {
   "codemirror_mode": {
    "name": "ipython",
    "version": 3
   },
   "file_extension": ".py",
   "mimetype": "text/x-python",
   "name": "python",
   "nbconvert_exporter": "python",
   "pygments_lexer": "ipython3",
   "version": "3.11.5"
  }
 },
 "nbformat": 4,
 "nbformat_minor": 5
}
